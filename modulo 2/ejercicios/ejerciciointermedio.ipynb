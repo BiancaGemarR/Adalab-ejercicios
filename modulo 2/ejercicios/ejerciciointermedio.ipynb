{
 "cells": [
  {
   "cell_type": "code",
   "execution_count": 9,
   "id": "75429a13",
   "metadata": {},
   "outputs": [],
   "source": [
    "import pandas as pd\n",
    "import mysql.connector\n",
    "from mysql.connector import errorcode"
   ]
  },
  {
   "cell_type": "code",
   "execution_count": 10,
   "id": "32895716",
   "metadata": {},
   "outputs": [],
   "source": [
    "#nos conectamos\n",
    "cnx = mysql.connector.connect(user='root', password='AlumnaAdalab',\n",
    "                              host='127.0.0.1',\n",
    "                              database='videoclub')\n",
    "\n",
    "#creamos un cursor\n",
    "mycursor = cnx.cursor()\n",
    "\n",
    "#seleccionar base de datos videoclub\n",
    "\n",
    "\n",
    "mycursor.execute(\"SELECT DATABASE();\")"
   ]
  },
  {
   "cell_type": "code",
   "execution_count": 12,
   "id": "b6ffaf60",
   "metadata": {},
   "outputs": [
    {
     "name": "stdout",
     "output_type": "stream",
     "text": [
      "('alquileres',)\n",
      "('clientes',)\n",
      "('generos',)\n",
      "('peliculas',)\n"
     ]
    }
   ],
   "source": [
    "mycursor.fetchall()\n",
    "query = \"SHOW TABLES\"\n",
    "mycursor.execute(query)\n",
    "\n",
    "for x in mycursor:\n",
    "    print(x)"
   ]
  },
  {
   "cell_type": "code",
   "execution_count": 32,
   "id": "9d6237c3",
   "metadata": {},
   "outputs": [
    {
     "name": "stdout",
     "output_type": "stream",
     "text": [
      "[(1, 'Carlos', 'García', 'Av. Principal 123', '555-1234', 'carlos_garcia@example.com', '2023-01-15'), (3, 'Miguel', 'Lopez', 'Av. Tercera 789', '555-9876', 'miguel@example.com', '2023-03-10')]\n"
     ]
    }
   ],
   "source": [
    "mycursor.execute(\"SELECT * FROM clientes\")\n",
    "resultados = mycursor.fetchall()\n",
    "print(resultados)"
   ]
  },
  {
   "cell_type": "code",
   "execution_count": 33,
   "id": "0dc13077",
   "metadata": {},
   "outputs": [],
   "source": [
    "df = pd.DataFrame(resultados)"
   ]
  },
  {
   "cell_type": "code",
   "execution_count": 34,
   "id": "a3b2c3d1",
   "metadata": {},
   "outputs": [
    {
     "data": {
      "text/html": [
       "<div>\n",
       "<style scoped>\n",
       "    .dataframe tbody tr th:only-of-type {\n",
       "        vertical-align: middle;\n",
       "    }\n",
       "\n",
       "    .dataframe tbody tr th {\n",
       "        vertical-align: top;\n",
       "    }\n",
       "\n",
       "    .dataframe thead th {\n",
       "        text-align: right;\n",
       "    }\n",
       "</style>\n",
       "<table border=\"1\" class=\"dataframe\">\n",
       "  <thead>\n",
       "    <tr style=\"text-align: right;\">\n",
       "      <th></th>\n",
       "      <th>0</th>\n",
       "      <th>1</th>\n",
       "      <th>2</th>\n",
       "      <th>3</th>\n",
       "      <th>4</th>\n",
       "      <th>5</th>\n",
       "      <th>6</th>\n",
       "    </tr>\n",
       "  </thead>\n",
       "  <tbody>\n",
       "    <tr>\n",
       "      <th>0</th>\n",
       "      <td>1</td>\n",
       "      <td>Carlos</td>\n",
       "      <td>García</td>\n",
       "      <td>Av. Principal 123</td>\n",
       "      <td>555-1234</td>\n",
       "      <td>carlos_garcia@example.com</td>\n",
       "      <td>2023-01-15</td>\n",
       "    </tr>\n",
       "    <tr>\n",
       "      <th>1</th>\n",
       "      <td>3</td>\n",
       "      <td>Miguel</td>\n",
       "      <td>Lopez</td>\n",
       "      <td>Av. Tercera 789</td>\n",
       "      <td>555-9876</td>\n",
       "      <td>miguel@example.com</td>\n",
       "      <td>2023-03-10</td>\n",
       "    </tr>\n",
       "  </tbody>\n",
       "</table>\n",
       "</div>"
      ],
      "text/plain": [
       "   0       1       2                  3         4                          5  \\\n",
       "0  1  Carlos  García  Av. Principal 123  555-1234  carlos_garcia@example.com   \n",
       "1  3  Miguel   Lopez    Av. Tercera 789  555-9876         miguel@example.com   \n",
       "\n",
       "            6  \n",
       "0  2023-01-15  \n",
       "1  2023-03-10  "
      ]
     },
     "execution_count": 34,
     "metadata": {},
     "output_type": "execute_result"
    }
   ],
   "source": [
    "df"
   ]
  },
  {
   "cell_type": "code",
   "execution_count": 35,
   "id": "b250cc77",
   "metadata": {},
   "outputs": [],
   "source": [
    "#Cerramos la conexion\n",
    "cnx.close()"
   ]
  }
 ],
 "metadata": {
  "kernelspec": {
   "display_name": "base",
   "language": "python",
   "name": "python3"
  },
  "language_info": {
   "codemirror_mode": {
    "name": "ipython",
    "version": 3
   },
   "file_extension": ".py",
   "mimetype": "text/x-python",
   "name": "python",
   "nbconvert_exporter": "python",
   "pygments_lexer": "ipython3",
   "version": "3.12.7"
  }
 },
 "nbformat": 4,
 "nbformat_minor": 5
}
