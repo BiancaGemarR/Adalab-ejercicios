{
 "cells": [
  {
   "cell_type": "code",
   "execution_count": 19,
   "id": "9d1c1b4f",
   "metadata": {},
   "outputs": [
    {
     "name": "stdout",
     "output_type": "stream",
     "text": [
      "Requirement already satisfied: requests in c:\\users\\grbia\\anaconda3\\lib\\site-packages (2.32.3)\n",
      "Requirement already satisfied: charset-normalizer<4,>=2 in c:\\users\\grbia\\anaconda3\\lib\\site-packages (from requests) (3.3.2)\n",
      "Requirement already satisfied: idna<4,>=2.5 in c:\\users\\grbia\\anaconda3\\lib\\site-packages (from requests) (3.7)\n",
      "Requirement already satisfied: urllib3<3,>=1.21.1 in c:\\users\\grbia\\anaconda3\\lib\\site-packages (from requests) (2.2.3)\n",
      "Requirement already satisfied: certifi>=2017.4.17 in c:\\users\\grbia\\anaconda3\\lib\\site-packages (from requests) (2025.1.31)\n",
      "Note: you may need to restart the kernel to use updated packages.\n"
     ]
    }
   ],
   "source": [
    "pip install requests\n"
   ]
  },
  {
   "cell_type": "code",
   "execution_count": 20,
   "id": "2efc7834",
   "metadata": {},
   "outputs": [],
   "source": [
    "import requests\n",
    "import pandas as pd"
   ]
  },
  {
   "cell_type": "code",
   "execution_count": 21,
   "id": "2cc40e1c",
   "metadata": {},
   "outputs": [],
   "source": [
    "def llamar_api(url):\n",
    "    llamada = requests.get(url)\n",
    "    if llamada.status_code != 200:\n",
    "        print(f\"Motivo llamada fallida {llamada.reason}\")\n",
    "    else:\n",
    "        return llamada.json()"
   ]
  },
  {
   "cell_type": "code",
   "execution_count": 30,
   "id": "ab84c6ac",
   "metadata": {},
   "outputs": [
    {
     "ename": "InvalidURL",
     "evalue": "Failed to parse: <Response [401]>",
     "output_type": "error",
     "traceback": [
      "\u001b[1;31m---------------------------------------------------------------------------\u001b[0m",
      "\u001b[1;31mAttributeError\u001b[0m                            Traceback (most recent call last)",
      "File \u001b[1;32mc:\\Users\\grbia\\anaconda3\\Lib\\site-packages\\urllib3\\util\\url.py:425\u001b[0m, in \u001b[0;36mparse_url\u001b[1;34m(url)\u001b[0m\n\u001b[0;32m    424\u001b[0m auth \u001b[38;5;241m=\u001b[39m auth \u001b[38;5;129;01mor\u001b[39;00m \u001b[38;5;28;01mNone\u001b[39;00m\n\u001b[1;32m--> 425\u001b[0m host, port \u001b[38;5;241m=\u001b[39m _HOST_PORT_RE\u001b[38;5;241m.\u001b[39mmatch(host_port)\u001b[38;5;241m.\u001b[39mgroups()  \u001b[38;5;66;03m# type: ignore[union-attr]\u001b[39;00m\n\u001b[0;32m    426\u001b[0m \u001b[38;5;28;01mif\u001b[39;00m auth \u001b[38;5;129;01mand\u001b[39;00m normalize_uri:\n",
      "\u001b[1;31mAttributeError\u001b[0m: 'NoneType' object has no attribute 'groups'",
      "\nThe above exception was the direct cause of the following exception:\n",
      "\u001b[1;31mLocationParseError\u001b[0m                        Traceback (most recent call last)",
      "File \u001b[1;32mc:\\Users\\grbia\\anaconda3\\Lib\\site-packages\\requests\\models.py:433\u001b[0m, in \u001b[0;36mPreparedRequest.prepare_url\u001b[1;34m(self, url, params)\u001b[0m\n\u001b[0;32m    432\u001b[0m \u001b[38;5;28;01mtry\u001b[39;00m:\n\u001b[1;32m--> 433\u001b[0m     scheme, auth, host, port, path, query, fragment \u001b[38;5;241m=\u001b[39m parse_url(url)\n\u001b[0;32m    434\u001b[0m \u001b[38;5;28;01mexcept\u001b[39;00m LocationParseError \u001b[38;5;28;01mas\u001b[39;00m e:\n",
      "File \u001b[1;32mc:\\Users\\grbia\\anaconda3\\Lib\\site-packages\\urllib3\\util\\url.py:451\u001b[0m, in \u001b[0;36mparse_url\u001b[1;34m(url)\u001b[0m\n\u001b[0;32m    450\u001b[0m \u001b[38;5;28;01mexcept\u001b[39;00m (\u001b[38;5;167;01mValueError\u001b[39;00m, \u001b[38;5;167;01mAttributeError\u001b[39;00m) \u001b[38;5;28;01mas\u001b[39;00m e:\n\u001b[1;32m--> 451\u001b[0m     \u001b[38;5;28;01mraise\u001b[39;00m LocationParseError(source_url) \u001b[38;5;28;01mfrom\u001b[39;00m \u001b[38;5;21;01me\u001b[39;00m\n\u001b[0;32m    453\u001b[0m \u001b[38;5;66;03m# For the sake of backwards compatibility we put empty\u001b[39;00m\n\u001b[0;32m    454\u001b[0m \u001b[38;5;66;03m# string values for path if there are any defined values\u001b[39;00m\n\u001b[0;32m    455\u001b[0m \u001b[38;5;66;03m# beyond the path in the URL.\u001b[39;00m\n\u001b[0;32m    456\u001b[0m \u001b[38;5;66;03m# TODO: Remove this when we break backwards compatibility.\u001b[39;00m\n",
      "\u001b[1;31mLocationParseError\u001b[0m: Failed to parse: <Response [401]>",
      "\nDuring handling of the above exception, another exception occurred:\n",
      "\u001b[1;31mInvalidURL\u001b[0m                                Traceback (most recent call last)",
      "Cell \u001b[1;32mIn[30], line 5\u001b[0m\n\u001b[0;32m      3\u001b[0m url_players \u001b[38;5;241m=\u001b[39m requests\u001b[38;5;241m.\u001b[39mget(url_balldontlie)\n\u001b[0;32m      4\u001b[0m resultados_players \u001b[38;5;241m=\u001b[39m response\u001b[38;5;241m.\u001b[39mjson()\n\u001b[1;32m----> 5\u001b[0m df_balldontlie \u001b[38;5;241m=\u001b[39m pd\u001b[38;5;241m.\u001b[39mDataFrame(requests\u001b[38;5;241m.\u001b[39mget(url_players)\u001b[38;5;241m.\u001b[39mjson())\n\u001b[0;32m      6\u001b[0m resultados_players \u001b[38;5;241m=\u001b[39m llamar_api(url_balldontlie)\n",
      "File \u001b[1;32mc:\\Users\\grbia\\anaconda3\\Lib\\site-packages\\requests\\api.py:73\u001b[0m, in \u001b[0;36mget\u001b[1;34m(url, params, **kwargs)\u001b[0m\n\u001b[0;32m     62\u001b[0m \u001b[38;5;28;01mdef\u001b[39;00m \u001b[38;5;21mget\u001b[39m(url, params\u001b[38;5;241m=\u001b[39m\u001b[38;5;28;01mNone\u001b[39;00m, \u001b[38;5;241m*\u001b[39m\u001b[38;5;241m*\u001b[39mkwargs):\n\u001b[0;32m     63\u001b[0m \u001b[38;5;250m    \u001b[39m\u001b[38;5;124mr\u001b[39m\u001b[38;5;124;03m\"\"\"Sends a GET request.\u001b[39;00m\n\u001b[0;32m     64\u001b[0m \n\u001b[0;32m     65\u001b[0m \u001b[38;5;124;03m    :param url: URL for the new :class:`Request` object.\u001b[39;00m\n\u001b[1;32m   (...)\u001b[0m\n\u001b[0;32m     70\u001b[0m \u001b[38;5;124;03m    :rtype: requests.Response\u001b[39;00m\n\u001b[0;32m     71\u001b[0m \u001b[38;5;124;03m    \"\"\"\u001b[39;00m\n\u001b[1;32m---> 73\u001b[0m     \u001b[38;5;28;01mreturn\u001b[39;00m request(\u001b[38;5;124m\"\u001b[39m\u001b[38;5;124mget\u001b[39m\u001b[38;5;124m\"\u001b[39m, url, params\u001b[38;5;241m=\u001b[39mparams, \u001b[38;5;241m*\u001b[39m\u001b[38;5;241m*\u001b[39mkwargs)\n",
      "File \u001b[1;32mc:\\Users\\grbia\\anaconda3\\Lib\\site-packages\\requests\\api.py:59\u001b[0m, in \u001b[0;36mrequest\u001b[1;34m(method, url, **kwargs)\u001b[0m\n\u001b[0;32m     55\u001b[0m \u001b[38;5;66;03m# By using the 'with' statement we are sure the session is closed, thus we\u001b[39;00m\n\u001b[0;32m     56\u001b[0m \u001b[38;5;66;03m# avoid leaving sockets open which can trigger a ResourceWarning in some\u001b[39;00m\n\u001b[0;32m     57\u001b[0m \u001b[38;5;66;03m# cases, and look like a memory leak in others.\u001b[39;00m\n\u001b[0;32m     58\u001b[0m \u001b[38;5;28;01mwith\u001b[39;00m sessions\u001b[38;5;241m.\u001b[39mSession() \u001b[38;5;28;01mas\u001b[39;00m session:\n\u001b[1;32m---> 59\u001b[0m     \u001b[38;5;28;01mreturn\u001b[39;00m session\u001b[38;5;241m.\u001b[39mrequest(method\u001b[38;5;241m=\u001b[39mmethod, url\u001b[38;5;241m=\u001b[39murl, \u001b[38;5;241m*\u001b[39m\u001b[38;5;241m*\u001b[39mkwargs)\n",
      "File \u001b[1;32mc:\\Users\\grbia\\anaconda3\\Lib\\site-packages\\requests\\sessions.py:575\u001b[0m, in \u001b[0;36mSession.request\u001b[1;34m(self, method, url, params, data, headers, cookies, files, auth, timeout, allow_redirects, proxies, hooks, stream, verify, cert, json)\u001b[0m\n\u001b[0;32m    562\u001b[0m \u001b[38;5;66;03m# Create the Request.\u001b[39;00m\n\u001b[0;32m    563\u001b[0m req \u001b[38;5;241m=\u001b[39m Request(\n\u001b[0;32m    564\u001b[0m     method\u001b[38;5;241m=\u001b[39mmethod\u001b[38;5;241m.\u001b[39mupper(),\n\u001b[0;32m    565\u001b[0m     url\u001b[38;5;241m=\u001b[39murl,\n\u001b[1;32m   (...)\u001b[0m\n\u001b[0;32m    573\u001b[0m     hooks\u001b[38;5;241m=\u001b[39mhooks,\n\u001b[0;32m    574\u001b[0m )\n\u001b[1;32m--> 575\u001b[0m prep \u001b[38;5;241m=\u001b[39m \u001b[38;5;28mself\u001b[39m\u001b[38;5;241m.\u001b[39mprepare_request(req)\n\u001b[0;32m    577\u001b[0m proxies \u001b[38;5;241m=\u001b[39m proxies \u001b[38;5;129;01mor\u001b[39;00m {}\n\u001b[0;32m    579\u001b[0m settings \u001b[38;5;241m=\u001b[39m \u001b[38;5;28mself\u001b[39m\u001b[38;5;241m.\u001b[39mmerge_environment_settings(\n\u001b[0;32m    580\u001b[0m     prep\u001b[38;5;241m.\u001b[39murl, proxies, stream, verify, cert\n\u001b[0;32m    581\u001b[0m )\n",
      "File \u001b[1;32mc:\\Users\\grbia\\anaconda3\\Lib\\site-packages\\requests\\sessions.py:484\u001b[0m, in \u001b[0;36mSession.prepare_request\u001b[1;34m(self, request)\u001b[0m\n\u001b[0;32m    481\u001b[0m     auth \u001b[38;5;241m=\u001b[39m get_netrc_auth(request\u001b[38;5;241m.\u001b[39murl)\n\u001b[0;32m    483\u001b[0m p \u001b[38;5;241m=\u001b[39m PreparedRequest()\n\u001b[1;32m--> 484\u001b[0m p\u001b[38;5;241m.\u001b[39mprepare(\n\u001b[0;32m    485\u001b[0m     method\u001b[38;5;241m=\u001b[39mrequest\u001b[38;5;241m.\u001b[39mmethod\u001b[38;5;241m.\u001b[39mupper(),\n\u001b[0;32m    486\u001b[0m     url\u001b[38;5;241m=\u001b[39mrequest\u001b[38;5;241m.\u001b[39murl,\n\u001b[0;32m    487\u001b[0m     files\u001b[38;5;241m=\u001b[39mrequest\u001b[38;5;241m.\u001b[39mfiles,\n\u001b[0;32m    488\u001b[0m     data\u001b[38;5;241m=\u001b[39mrequest\u001b[38;5;241m.\u001b[39mdata,\n\u001b[0;32m    489\u001b[0m     json\u001b[38;5;241m=\u001b[39mrequest\u001b[38;5;241m.\u001b[39mjson,\n\u001b[0;32m    490\u001b[0m     headers\u001b[38;5;241m=\u001b[39mmerge_setting(\n\u001b[0;32m    491\u001b[0m         request\u001b[38;5;241m.\u001b[39mheaders, \u001b[38;5;28mself\u001b[39m\u001b[38;5;241m.\u001b[39mheaders, dict_class\u001b[38;5;241m=\u001b[39mCaseInsensitiveDict\n\u001b[0;32m    492\u001b[0m     ),\n\u001b[0;32m    493\u001b[0m     params\u001b[38;5;241m=\u001b[39mmerge_setting(request\u001b[38;5;241m.\u001b[39mparams, \u001b[38;5;28mself\u001b[39m\u001b[38;5;241m.\u001b[39mparams),\n\u001b[0;32m    494\u001b[0m     auth\u001b[38;5;241m=\u001b[39mmerge_setting(auth, \u001b[38;5;28mself\u001b[39m\u001b[38;5;241m.\u001b[39mauth),\n\u001b[0;32m    495\u001b[0m     cookies\u001b[38;5;241m=\u001b[39mmerged_cookies,\n\u001b[0;32m    496\u001b[0m     hooks\u001b[38;5;241m=\u001b[39mmerge_hooks(request\u001b[38;5;241m.\u001b[39mhooks, \u001b[38;5;28mself\u001b[39m\u001b[38;5;241m.\u001b[39mhooks),\n\u001b[0;32m    497\u001b[0m )\n\u001b[0;32m    498\u001b[0m \u001b[38;5;28;01mreturn\u001b[39;00m p\n",
      "File \u001b[1;32mc:\\Users\\grbia\\anaconda3\\Lib\\site-packages\\requests\\models.py:367\u001b[0m, in \u001b[0;36mPreparedRequest.prepare\u001b[1;34m(self, method, url, headers, files, data, params, auth, cookies, hooks, json)\u001b[0m\n\u001b[0;32m    364\u001b[0m \u001b[38;5;250m\u001b[39m\u001b[38;5;124;03m\"\"\"Prepares the entire request with the given parameters.\"\"\"\u001b[39;00m\n\u001b[0;32m    366\u001b[0m \u001b[38;5;28mself\u001b[39m\u001b[38;5;241m.\u001b[39mprepare_method(method)\n\u001b[1;32m--> 367\u001b[0m \u001b[38;5;28mself\u001b[39m\u001b[38;5;241m.\u001b[39mprepare_url(url, params)\n\u001b[0;32m    368\u001b[0m \u001b[38;5;28mself\u001b[39m\u001b[38;5;241m.\u001b[39mprepare_headers(headers)\n\u001b[0;32m    369\u001b[0m \u001b[38;5;28mself\u001b[39m\u001b[38;5;241m.\u001b[39mprepare_cookies(cookies)\n",
      "File \u001b[1;32mc:\\Users\\grbia\\anaconda3\\Lib\\site-packages\\requests\\models.py:435\u001b[0m, in \u001b[0;36mPreparedRequest.prepare_url\u001b[1;34m(self, url, params)\u001b[0m\n\u001b[0;32m    433\u001b[0m     scheme, auth, host, port, path, query, fragment \u001b[38;5;241m=\u001b[39m parse_url(url)\n\u001b[0;32m    434\u001b[0m \u001b[38;5;28;01mexcept\u001b[39;00m LocationParseError \u001b[38;5;28;01mas\u001b[39;00m e:\n\u001b[1;32m--> 435\u001b[0m     \u001b[38;5;28;01mraise\u001b[39;00m InvalidURL(\u001b[38;5;241m*\u001b[39me\u001b[38;5;241m.\u001b[39margs)\n\u001b[0;32m    437\u001b[0m \u001b[38;5;28;01mif\u001b[39;00m \u001b[38;5;129;01mnot\u001b[39;00m scheme:\n\u001b[0;32m    438\u001b[0m     \u001b[38;5;28;01mraise\u001b[39;00m MissingSchema(\n\u001b[0;32m    439\u001b[0m         \u001b[38;5;124mf\u001b[39m\u001b[38;5;124m\"\u001b[39m\u001b[38;5;124mInvalid URL \u001b[39m\u001b[38;5;132;01m{\u001b[39;00murl\u001b[38;5;132;01m!r}\u001b[39;00m\u001b[38;5;124m: No scheme supplied. \u001b[39m\u001b[38;5;124m\"\u001b[39m\n\u001b[0;32m    440\u001b[0m         \u001b[38;5;124mf\u001b[39m\u001b[38;5;124m\"\u001b[39m\u001b[38;5;124mPerhaps you meant https://\u001b[39m\u001b[38;5;132;01m{\u001b[39;00murl\u001b[38;5;132;01m}\u001b[39;00m\u001b[38;5;124m?\u001b[39m\u001b[38;5;124m\"\u001b[39m\n\u001b[0;32m    441\u001b[0m     )\n",
      "\u001b[1;31mInvalidURL\u001b[0m: Failed to parse: <Response [401]>"
     ]
    }
   ],
   "source": [
    "api_key_balldontlie = \"ca5dbae9-beec-47b4-b3d1-f181275bdcd6\"\n",
    "url_balldontlie = \"https://api.balldontlie.io/v1/players\"\n",
    "url_players = requests.get(url_balldontlie)\n",
    "resultados_players = response.json()\n",
    "df_balldontlie = pd.DataFrame(requests.get(url_players).json())\n",
    "resultados_players = llamar_api(url_balldontlie)"
   ]
  },
  {
   "cell_type": "code",
   "execution_count": null,
   "id": "15b098b1",
   "metadata": {},
   "outputs": [
    {
     "name": "stdout",
     "output_type": "stream",
     "text": [
      "{'data': [{'id': 1, 'first_name': 'Alex', 'last_name': 'Abrines', 'position': 'G', 'height': '6-6', 'weight': '190', 'jersey_number': '8', 'college': 'FC Barcelona', 'country': 'Spain', 'draft_year': 2013, 'draft_round': 2, 'draft_number': 32, 'team': {'id': 21, 'conference': 'West', 'division': 'Northwest', 'city': 'Oklahoma City', 'name': 'Thunder', 'full_name': 'Oklahoma City Thunder', 'abbreviation': 'OKC'}}, {'id': 2, 'first_name': 'Jaylen', 'last_name': 'Adams', 'position': 'G', 'height': '6-0', 'weight': '225', 'jersey_number': '10', 'college': 'St. Bonaventure', 'country': 'USA', 'draft_year': None, 'draft_round': None, 'draft_number': None, 'team': {'id': 1, 'conference': 'East', 'division': 'Southeast', 'city': 'Atlanta', 'name': 'Hawks', 'full_name': 'Atlanta Hawks', 'abbreviation': 'ATL'}}, {'id': 3, 'first_name': 'Steven', 'last_name': 'Adams', 'position': 'C', 'height': '6-11', 'weight': '265', 'jersey_number': '12', 'college': 'Pittsburgh', 'country': 'New Zealand', 'draft_year': 2013, 'draft_round': 1, 'draft_number': 12, 'team': {'id': 11, 'conference': 'West', 'division': 'Southwest', 'city': 'Houston', 'name': 'Rockets', 'full_name': 'Houston Rockets', 'abbreviation': 'HOU'}}, {'id': 4, 'first_name': 'Bam', 'last_name': 'Adebayo', 'position': 'C-F', 'height': '6-9', 'weight': '255', 'jersey_number': '13', 'college': 'Kentucky', 'country': 'USA', 'draft_year': 2017, 'draft_round': 1, 'draft_number': 14, 'team': {'id': 16, 'conference': 'East', 'division': 'Southeast', 'city': 'Miami', 'name': 'Heat', 'full_name': 'Miami Heat', 'abbreviation': 'MIA'}}, {'id': 5, 'first_name': 'DeVaughn', 'last_name': 'Akoon-Purcell', 'position': 'G-F', 'height': '6-5', 'weight': '201', 'jersey_number': '44', 'college': 'Illinois State', 'country': 'Trinidad and Tobago', 'draft_year': 2016, 'draft_round': None, 'draft_number': None, 'team': {'id': 8, 'conference': 'West', 'division': 'Northwest', 'city': 'Denver', 'name': 'Nuggets', 'full_name': 'Denver Nuggets', 'abbreviation': 'DEN'}}, {'id': 6, 'first_name': 'LaMarcus', 'last_name': 'Aldridge', 'position': 'F', 'height': '6-11', 'weight': '250', 'jersey_number': '21', 'college': 'University of Texas at Austin', 'country': 'USA', 'draft_year': 2006, 'draft_round': 1, 'draft_number': 2, 'team': {'id': 3, 'conference': 'East', 'division': 'Atlantic', 'city': 'Brooklyn', 'name': 'Nets', 'full_name': 'Brooklyn Nets', 'abbreviation': 'BKN'}}, {'id': 7, 'first_name': 'Rawle', 'last_name': 'Alkins', 'position': 'G', 'height': '6-5', 'weight': '225', 'jersey_number': '20', 'college': 'Arizona', 'country': 'USA', 'draft_year': None, 'draft_round': None, 'draft_number': None, 'team': {'id': 5, 'conference': 'East', 'division': 'Central', 'city': 'Chicago', 'name': 'Bulls', 'full_name': 'Chicago Bulls', 'abbreviation': 'CHI'}}, {'id': 8, 'first_name': 'Grayson', 'last_name': 'Allen', 'position': 'G', 'height': '6-4', 'weight': '198', 'jersey_number': '8', 'college': 'Duke', 'country': 'USA', 'draft_year': 2018, 'draft_round': 1, 'draft_number': 21, 'team': {'id': 24, 'conference': 'West', 'division': 'Pacific', 'city': 'Phoenix', 'name': 'Suns', 'full_name': 'Phoenix Suns', 'abbreviation': 'PHX'}}, {'id': 9, 'first_name': 'Jarrett', 'last_name': 'Allen', 'position': 'C', 'height': '6-9', 'weight': '243', 'jersey_number': '31', 'college': 'Texas', 'country': 'USA', 'draft_year': 2017, 'draft_round': 1, 'draft_number': 22, 'team': {'id': 6, 'conference': 'East', 'division': 'Central', 'city': 'Cleveland', 'name': 'Cavaliers', 'full_name': 'Cleveland Cavaliers', 'abbreviation': 'CLE'}}, {'id': 10, 'first_name': 'Al-Farouq', 'last_name': 'Aminu', 'position': 'F', 'height': '6-8', 'weight': '220', 'jersey_number': '5', 'college': 'Wake Forest', 'country': 'USA', 'draft_year': 2010, 'draft_round': 1, 'draft_number': 8, 'team': {'id': 25, 'conference': 'West', 'division': 'Northwest', 'city': 'Portland', 'name': 'Trail Blazers', 'full_name': 'Portland Trail Blazers', 'abbreviation': 'POR'}}, {'id': 11, 'first_name': 'Justin', 'last_name': 'Anderson', 'position': 'G-F', 'height': '6-5', 'weight': '231', 'jersey_number': '10', 'college': 'Virginia', 'country': 'USA', 'draft_year': 2015, 'draft_round': 1, 'draft_number': 21, 'team': {'id': 12, 'conference': 'East', 'division': 'Central', 'city': 'Indiana', 'name': 'Pacers', 'full_name': 'Indiana Pacers', 'abbreviation': 'IND'}}, {'id': 12, 'first_name': 'Kyle', 'last_name': 'Anderson', 'position': 'F', 'height': '6-9', 'weight': '230', 'jersey_number': '20', 'college': 'UCLA', 'country': 'USA', 'draft_year': 2014, 'draft_round': 1, 'draft_number': 30, 'team': {'id': 16, 'conference': 'East', 'division': 'Southeast', 'city': 'Miami', 'name': 'Heat', 'full_name': 'Miami Heat', 'abbreviation': 'MIA'}}, {'id': 13, 'first_name': 'Ryan', 'last_name': 'Anderson', 'position': 'F', 'height': '6-10', 'weight': '240', 'jersey_number': '31', 'college': 'California', 'country': 'USA', 'draft_year': 2008, 'draft_round': 1, 'draft_number': 21, 'team': {'id': 19, 'conference': 'West', 'division': 'Southwest', 'city': 'New Orleans', 'name': 'Pelicans', 'full_name': 'New Orleans Pelicans', 'abbreviation': 'NOP'}}, {'id': 14, 'first_name': 'Ike', 'last_name': 'Anigbogu', 'position': 'C', 'height': '6-10', 'weight': '262', 'jersey_number': '13', 'college': 'UCLA', 'country': 'USA', 'draft_year': 2017, 'draft_round': 2, 'draft_number': 47, 'team': {'id': 12, 'conference': 'East', 'division': 'Central', 'city': 'Indiana', 'name': 'Pacers', 'full_name': 'Indiana Pacers', 'abbreviation': 'IND'}}, {'id': 15, 'first_name': 'Giannis', 'last_name': 'Antetokounmpo', 'position': 'F', 'height': '6-11', 'weight': '243', 'jersey_number': '34', 'college': 'Filathlitikos', 'country': 'Greece', 'draft_year': 2013, 'draft_round': 1, 'draft_number': 15, 'team': {'id': 17, 'conference': 'East', 'division': 'Central', 'city': 'Milwaukee', 'name': 'Bucks', 'full_name': 'Milwaukee Bucks', 'abbreviation': 'MIL'}}, {'id': 16, 'first_name': 'Kostas', 'last_name': 'Antetokounmpo', 'position': 'F', 'height': '6-10', 'weight': '200', 'jersey_number': '37', 'college': 'Dayton', 'country': 'Greece', 'draft_year': 2018, 'draft_round': 2, 'draft_number': 60, 'team': {'id': 5, 'conference': 'East', 'division': 'Central', 'city': 'Chicago', 'name': 'Bulls', 'full_name': 'Chicago Bulls', 'abbreviation': 'CHI'}}, {'id': 17, 'first_name': 'Carmelo', 'last_name': 'Anthony', 'position': 'F', 'height': '6-7', 'weight': '238', 'jersey_number': '7', 'college': 'Syracuse', 'country': 'USA', 'draft_year': 2003, 'draft_round': 1, 'draft_number': 3, 'team': {'id': 14, 'conference': 'West', 'division': 'Pacific', 'city': 'Los Angeles', 'name': 'Lakers', 'full_name': 'Los Angeles Lakers', 'abbreviation': 'LAL'}}, {'id': 18, 'first_name': 'OG', 'last_name': 'Anunoby', 'position': 'F', 'height': '6-7', 'weight': '240', 'jersey_number': '8', 'college': 'Indiana', 'country': 'United Kingdom', 'draft_year': 2017, 'draft_round': 1, 'draft_number': 23, 'team': {'id': 20, 'conference': 'East', 'division': 'Atlantic', 'city': 'New York', 'name': 'Knicks', 'full_name': 'New York Knicks', 'abbreviation': 'NYK'}}, {'id': 19, 'first_name': 'Ryan', 'last_name': 'Arcidiacono', 'position': 'G', 'height': '6-3', 'weight': '195', 'jersey_number': '51', 'college': 'Villanova', 'country': 'USA', 'draft_year': None, 'draft_round': None, 'draft_number': None, 'team': {'id': 20, 'conference': 'East', 'division': 'Atlantic', 'city': 'New York', 'name': 'Knicks', 'full_name': 'New York Knicks', 'abbreviation': 'NYK'}}, {'id': 20, 'first_name': 'Trevor', 'last_name': 'Ariza', 'position': 'F', 'height': '6-8', 'weight': '215', 'jersey_number': '8', 'college': 'UCLA', 'country': 'USA', 'draft_year': 2004, 'draft_round': 2, 'draft_number': 43, 'team': {'id': 14, 'conference': 'West', 'division': 'Pacific', 'city': 'Los Angeles', 'name': 'Lakers', 'full_name': 'Los Angeles Lakers', 'abbreviation': 'LAL'}}, {'id': 21, 'first_name': 'D.J.', 'last_name': 'Augustin', 'position': 'G', 'height': '5-11', 'weight': '183', 'jersey_number': '4', 'college': 'Texas', 'country': 'USA', 'draft_year': 2008, 'draft_round': 1, 'draft_number': 9, 'team': {'id': 14, 'conference': 'West', 'division': 'Pacific', 'city': 'Los Angeles', 'name': 'Lakers', 'full_name': 'Los Angeles Lakers', 'abbreviation': 'LAL'}}, {'id': 22, 'first_name': 'Deandre', 'last_name': 'Ayton', 'position': 'C', 'height': '7-0', 'weight': '252', 'jersey_number': '2', 'college': 'Arizona', 'country': 'Bahamas', 'draft_year': 2018, 'draft_round': 1, 'draft_number': 1, 'team': {'id': 25, 'conference': 'West', 'division': 'Northwest', 'city': 'Portland', 'name': 'Trail Blazers', 'full_name': 'Portland Trail Blazers', 'abbreviation': 'POR'}}, {'id': 23, 'first_name': 'Dwayne', 'last_name': 'Bacon', 'position': 'G-F', 'height': '6-6', 'weight': '221', 'jersey_number': '8', 'college': 'Florida State', 'country': 'USA', 'draft_year': 2017, 'draft_round': 2, 'draft_number': 40, 'team': {'id': 14, 'conference': 'West', 'division': 'Pacific', 'city': 'Los Angeles', 'name': 'Lakers', 'full_name': 'Los Angeles Lakers', 'abbreviation': 'LAL'}}, {'id': 24, 'first_name': 'Marvin', 'last_name': 'Bagley III', 'position': 'F', 'height': '6-10', 'weight': '235', 'jersey_number': '35', 'college': 'Duke', 'country': 'USA', 'draft_year': 2018, 'draft_round': 1, 'draft_number': 2, 'team': {'id': 15, 'conference': 'West', 'division': 'Southwest', 'city': 'Memphis', 'name': 'Grizzlies', 'full_name': 'Memphis Grizzlies', 'abbreviation': 'MEM'}}, {'id': 25, 'first_name': 'Ron', 'last_name': 'Baker', 'position': 'G', 'height': '6-4', 'weight': '220', 'jersey_number': '31', 'college': 'Wichita State', 'country': 'USA', 'draft_year': None, 'draft_round': None, 'draft_number': None, 'team': {'id': 20, 'conference': 'East', 'division': 'Atlantic', 'city': 'New York', 'name': 'Knicks', 'full_name': 'New York Knicks', 'abbreviation': 'NYK'}}], 'meta': {'next_cursor': 25, 'per_page': 25}}\n"
     ]
    }
   ],
   "source": [
    "#chatgpt solución\n",
    "import requests\n",
    "\n",
    "api_key_balldontlie = \"ca5dbae9-beec-47b4-b3d1-f181275bdcd6\"\n",
    "url_balldontlie = \"https://api.balldontlie.io/v1/players\"\n",
    "\n",
    "headers = {\n",
    "    \"Authorization\": f\"Bearer {api_key_balldontlie}\"\n",
    "}\n",
    "\n",
    "response = requests.get(url_balldontlie, headers=headers)\n",
    "\n",
    "if response.status_code == 200:\n",
    "    resultados_players = response.json()\n",
    "    print(resultados_players)\n",
    "else:\n",
    "    print(f\"Error: {response.status_code} - {response.text}\")"
   ]
  }
 ],
 "metadata": {
  "kernelspec": {
   "display_name": "base",
   "language": "python",
   "name": "python3"
  },
  "language_info": {
   "codemirror_mode": {
    "name": "ipython",
    "version": 3
   },
   "file_extension": ".py",
   "mimetype": "text/x-python",
   "name": "python",
   "nbconvert_exporter": "python",
   "pygments_lexer": "ipython3",
   "version": "3.12.7"
  }
 },
 "nbformat": 4,
 "nbformat_minor": 5
}
