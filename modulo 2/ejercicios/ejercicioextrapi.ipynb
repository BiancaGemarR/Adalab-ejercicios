{
 "cells": [
  {
   "cell_type": "code",
   "execution_count": 1,
   "id": "d9b94783",
   "metadata": {},
   "outputs": [],
   "source": [
    "import pandas as pd\n",
    "import requests \n",
    "import re"
   ]
  },
  {
   "cell_type": "markdown",
   "id": "ab9634dd",
   "metadata": {},
   "source": [
    "## 1. Extraer información de las alumnas:\n",
    "\n",
    "- Usa este endpoint: \"https://beta.adalab.es/curso-intensivo-fullstack-recursos/apis/alumnos-v1/alumnos.json\" para hacer la llamada a la API.\n",
    "\n",
    "**Nota:** no requiere api_key ni registro, se puede llamar directamente.\n",
    "\n",
    "- Extrae de los resultados:\n",
    "    - Número de expediente\n",
    "    - Nombre\n",
    "    - Apellido\n",
    "\n",
    "- Convierte los datos extraidos en un Dataframe de pandas"
   ]
  },
  {
   "cell_type": "code",
   "execution_count": 2,
   "id": "1742fff8",
   "metadata": {},
   "outputs": [],
   "source": [
    "def llamar_api(url):\n",
    "    llamada = requests.get(url)\n",
    "    print(f\"La llamada a la API nos ha dado una respuesta de tipo: {llamada.status_code}\")\n",
    "\n",
    "    if llamada.status_code != 200:\n",
    "        print(f\"El motivo por el que la llamada falló es {llamada.reason}\")\n",
    "\n",
    "    else:\n",
    "        return llamada.json()"
   ]
  },
  {
   "cell_type": "code",
   "execution_count": 3,
   "id": "8abb60fe",
   "metadata": {},
   "outputs": [
    {
     "name": "stdout",
     "output_type": "stream",
     "text": [
      "La llamada a la API nos ha dado una respuesta de tipo: 200\n"
     ]
    }
   ],
   "source": [
    "url = f\"https://beta.adalab.es/curso-intensivo-fullstack-recursos/apis/alumnos-v1/alumnos.json\"\n",
    "resultados = llamar_api(url)"
   ]
  },
  {
   "cell_type": "code",
   "execution_count": 4,
   "id": "112936af",
   "metadata": {},
   "outputs": [
    {
     "data": {
      "text/plain": [
       "dict_keys(['info', 'results'])"
      ]
     },
     "execution_count": 4,
     "metadata": {},
     "output_type": "execute_result"
    }
   ],
   "source": [
    "resultados.keys()"
   ]
  },
  {
   "cell_type": "code",
   "execution_count": 31,
   "id": "c94af730",
   "metadata": {},
   "outputs": [
    {
     "data": {
      "text/plain": [
       "{'info': {'count': 20,\n",
       "  'pages': 1,\n",
       "  'currentPage': 1,\n",
       "  'next': None,\n",
       "  'prev': None},\n",
       " 'results': [{'num_expediente': 1001,\n",
       "   'nombre': 'Ana',\n",
       "   'apellidos': 'Martínez',\n",
       "   'fecha_nacimiento': '2005-03-15'},\n",
       "  {'num_expediente': 1002,\n",
       "   'nombre': 'Luis',\n",
       "   'apellidos': 'Fernández',\n",
       "   'fecha_nacimiento': '2004-11-22'},\n",
       "  {'num_expediente': 1003,\n",
       "   'nombre': 'Clara',\n",
       "   'apellidos': 'Ruiz',\n",
       "   'fecha_nacimiento': '2006-01-10'},\n",
       "  {'num_expediente': 1004,\n",
       "   'nombre': 'Pedro',\n",
       "   'apellidos': 'Sánchez',\n",
       "   'fecha_nacimiento': '2005-07-08'},\n",
       "  {'num_expediente': 1005,\n",
       "   'nombre': 'Lucía',\n",
       "   'apellidos': 'Torres',\n",
       "   'fecha_nacimiento': '2004-09-18'},\n",
       "  {'num_expediente': 1006,\n",
       "   'nombre': 'Javier',\n",
       "   'apellidos': 'González',\n",
       "   'fecha_nacimiento': '2006-06-24'},\n",
       "  {'num_expediente': 1007,\n",
       "   'nombre': 'María',\n",
       "   'apellidos': 'López',\n",
       "   'fecha_nacimiento': '2005-04-10'},\n",
       "  {'num_expediente': 1008,\n",
       "   'nombre': 'David',\n",
       "   'apellidos': 'Pérez',\n",
       "   'fecha_nacimiento': '2004-12-12'},\n",
       "  {'num_expediente': 1009,\n",
       "   'nombre': 'Sara',\n",
       "   'apellidos': 'García',\n",
       "   'fecha_nacimiento': '2005-08-15'},\n",
       "  {'num_expediente': 1010,\n",
       "   'nombre': 'Ricardo',\n",
       "   'apellidos': 'Martín',\n",
       "   'fecha_nacimiento': '2006-03-22'},\n",
       "  {'num_expediente': 1011,\n",
       "   'nombre': 'Alba',\n",
       "   'apellidos': 'Vázquez',\n",
       "   'fecha_nacimiento': '2004-05-05'},\n",
       "  {'num_expediente': 1012,\n",
       "   'nombre': 'Carlos',\n",
       "   'apellidos': 'Serrano',\n",
       "   'fecha_nacimiento': '2005-02-28'},\n",
       "  {'num_expediente': 1013,\n",
       "   'nombre': 'Elena',\n",
       "   'apellidos': 'Ramírez',\n",
       "   'fecha_nacimiento': '2006-08-01'},\n",
       "  {'num_expediente': 1014,\n",
       "   'nombre': 'Iván',\n",
       "   'apellidos': 'Hernández',\n",
       "   'fecha_nacimiento': '2005-10-30'},\n",
       "  {'num_expediente': 1015,\n",
       "   'nombre': 'Laura',\n",
       "   'apellidos': 'Jiménez',\n",
       "   'fecha_nacimiento': '2004-07-14'},\n",
       "  {'num_expediente': 1016,\n",
       "   'nombre': 'Tomás',\n",
       "   'apellidos': 'López',\n",
       "   'fecha_nacimiento': '2005-12-18'},\n",
       "  {'num_expediente': 1017,\n",
       "   'nombre': 'Paula',\n",
       "   'apellidos': 'Fernández',\n",
       "   'fecha_nacimiento': '2006-02-06'},\n",
       "  {'num_expediente': 1018,\n",
       "   'nombre': 'Mario',\n",
       "   'apellidos': 'Díaz',\n",
       "   'fecha_nacimiento': '2004-11-30'},\n",
       "  {'num_expediente': 1019,\n",
       "   'nombre': 'Raquel',\n",
       "   'apellidos': 'González',\n",
       "   'fecha_nacimiento': '2005-09-23'},\n",
       "  {'num_expediente': 1020,\n",
       "   'nombre': 'Jorge',\n",
       "   'apellidos': 'Álvarez',\n",
       "   'fecha_nacimiento': '2006-05-17'}]}"
      ]
     },
     "execution_count": 31,
     "metadata": {},
     "output_type": "execute_result"
    }
   ],
   "source": [
    "resultados"
   ]
  },
  {
   "cell_type": "code",
   "execution_count": 6,
   "id": "57ad04cb",
   "metadata": {},
   "outputs": [
    {
     "data": {
      "text/plain": [
       "[{'num_expediente': 1001,\n",
       "  'nombre': 'Ana',\n",
       "  'apellidos': 'Martínez',\n",
       "  'fecha_nacimiento': '2005-03-15'},\n",
       " {'num_expediente': 1002,\n",
       "  'nombre': 'Luis',\n",
       "  'apellidos': 'Fernández',\n",
       "  'fecha_nacimiento': '2004-11-22'},\n",
       " {'num_expediente': 1003,\n",
       "  'nombre': 'Clara',\n",
       "  'apellidos': 'Ruiz',\n",
       "  'fecha_nacimiento': '2006-01-10'},\n",
       " {'num_expediente': 1004,\n",
       "  'nombre': 'Pedro',\n",
       "  'apellidos': 'Sánchez',\n",
       "  'fecha_nacimiento': '2005-07-08'},\n",
       " {'num_expediente': 1005,\n",
       "  'nombre': 'Lucía',\n",
       "  'apellidos': 'Torres',\n",
       "  'fecha_nacimiento': '2004-09-18'},\n",
       " {'num_expediente': 1006,\n",
       "  'nombre': 'Javier',\n",
       "  'apellidos': 'González',\n",
       "  'fecha_nacimiento': '2006-06-24'},\n",
       " {'num_expediente': 1007,\n",
       "  'nombre': 'María',\n",
       "  'apellidos': 'López',\n",
       "  'fecha_nacimiento': '2005-04-10'},\n",
       " {'num_expediente': 1008,\n",
       "  'nombre': 'David',\n",
       "  'apellidos': 'Pérez',\n",
       "  'fecha_nacimiento': '2004-12-12'},\n",
       " {'num_expediente': 1009,\n",
       "  'nombre': 'Sara',\n",
       "  'apellidos': 'García',\n",
       "  'fecha_nacimiento': '2005-08-15'},\n",
       " {'num_expediente': 1010,\n",
       "  'nombre': 'Ricardo',\n",
       "  'apellidos': 'Martín',\n",
       "  'fecha_nacimiento': '2006-03-22'},\n",
       " {'num_expediente': 1011,\n",
       "  'nombre': 'Alba',\n",
       "  'apellidos': 'Vázquez',\n",
       "  'fecha_nacimiento': '2004-05-05'},\n",
       " {'num_expediente': 1012,\n",
       "  'nombre': 'Carlos',\n",
       "  'apellidos': 'Serrano',\n",
       "  'fecha_nacimiento': '2005-02-28'},\n",
       " {'num_expediente': 1013,\n",
       "  'nombre': 'Elena',\n",
       "  'apellidos': 'Ramírez',\n",
       "  'fecha_nacimiento': '2006-08-01'},\n",
       " {'num_expediente': 1014,\n",
       "  'nombre': 'Iván',\n",
       "  'apellidos': 'Hernández',\n",
       "  'fecha_nacimiento': '2005-10-30'},\n",
       " {'num_expediente': 1015,\n",
       "  'nombre': 'Laura',\n",
       "  'apellidos': 'Jiménez',\n",
       "  'fecha_nacimiento': '2004-07-14'},\n",
       " {'num_expediente': 1016,\n",
       "  'nombre': 'Tomás',\n",
       "  'apellidos': 'López',\n",
       "  'fecha_nacimiento': '2005-12-18'},\n",
       " {'num_expediente': 1017,\n",
       "  'nombre': 'Paula',\n",
       "  'apellidos': 'Fernández',\n",
       "  'fecha_nacimiento': '2006-02-06'},\n",
       " {'num_expediente': 1018,\n",
       "  'nombre': 'Mario',\n",
       "  'apellidos': 'Díaz',\n",
       "  'fecha_nacimiento': '2004-11-30'},\n",
       " {'num_expediente': 1019,\n",
       "  'nombre': 'Raquel',\n",
       "  'apellidos': 'González',\n",
       "  'fecha_nacimiento': '2005-09-23'},\n",
       " {'num_expediente': 1020,\n",
       "  'nombre': 'Jorge',\n",
       "  'apellidos': 'Álvarez',\n",
       "  'fecha_nacimiento': '2006-05-17'}]"
      ]
     },
     "execution_count": 6,
     "metadata": {},
     "output_type": "execute_result"
    }
   ],
   "source": [
    "resultados['results']"
   ]
  },
  {
   "cell_type": "code",
   "execution_count": 7,
   "id": "cbf64937",
   "metadata": {},
   "outputs": [
    {
     "data": {
      "text/plain": [
       "1001"
      ]
     },
     "execution_count": 7,
     "metadata": {},
     "output_type": "execute_result"
    }
   ],
   "source": [
    "resultados['results'][0]['num_expediente']"
   ]
  },
  {
   "cell_type": "code",
   "execution_count": 8,
   "id": "1bb738cf",
   "metadata": {},
   "outputs": [
    {
     "data": {
      "text/plain": [
       "'Ana'"
      ]
     },
     "execution_count": 8,
     "metadata": {},
     "output_type": "execute_result"
    }
   ],
   "source": [
    "resultados['results'][0]['nombre']"
   ]
  },
  {
   "cell_type": "code",
   "execution_count": 9,
   "id": "af523524",
   "metadata": {},
   "outputs": [
    {
     "data": {
      "text/plain": [
       "'Martínez'"
      ]
     },
     "execution_count": 9,
     "metadata": {},
     "output_type": "execute_result"
    }
   ],
   "source": [
    "resultados['results'][0]['apellidos']"
   ]
  },
  {
   "cell_type": "code",
   "execution_count": null,
   "id": "72789478",
   "metadata": {},
   "outputs": [],
   "source": [
    "def limpiar_datos(resultados):\n",
    "    resultados_alumnas = []   #crear diccionario con keys (otra opción), cada value es una lista vacía\n",
    "    for resultado in resultados:\n",
    "        info = {\n",
    "            'num_expediente' : resultado['num_expediente'],\n",
    "            'nombre' : resultado['nombre'],\n",
    "            'apellido' : resultado['apellidos'] #se puede apendear una lista de apellido\n",
    "                }\n",
    "        resultados_alumnas.append(info)\n",
    "    return resultados_alumnas\n"
   ]
  },
  {
   "cell_type": "code",
   "execution_count": 11,
   "id": "8aee221b",
   "metadata": {},
   "outputs": [],
   "source": [
    "resultados_def = limpiar_datos(resultados['results'])"
   ]
  },
  {
   "cell_type": "code",
   "execution_count": 12,
   "id": "50bf7f50",
   "metadata": {},
   "outputs": [
    {
     "data": {
      "text/plain": [
       "[{'num_expediente': 1001, 'nombre': 'Ana', 'apellido': 'Martínez'},\n",
       " {'num_expediente': 1002, 'nombre': 'Luis', 'apellido': 'Fernández'},\n",
       " {'num_expediente': 1003, 'nombre': 'Clara', 'apellido': 'Ruiz'},\n",
       " {'num_expediente': 1004, 'nombre': 'Pedro', 'apellido': 'Sánchez'},\n",
       " {'num_expediente': 1005, 'nombre': 'Lucía', 'apellido': 'Torres'},\n",
       " {'num_expediente': 1006, 'nombre': 'Javier', 'apellido': 'González'},\n",
       " {'num_expediente': 1007, 'nombre': 'María', 'apellido': 'López'},\n",
       " {'num_expediente': 1008, 'nombre': 'David', 'apellido': 'Pérez'},\n",
       " {'num_expediente': 1009, 'nombre': 'Sara', 'apellido': 'García'},\n",
       " {'num_expediente': 1010, 'nombre': 'Ricardo', 'apellido': 'Martín'},\n",
       " {'num_expediente': 1011, 'nombre': 'Alba', 'apellido': 'Vázquez'},\n",
       " {'num_expediente': 1012, 'nombre': 'Carlos', 'apellido': 'Serrano'},\n",
       " {'num_expediente': 1013, 'nombre': 'Elena', 'apellido': 'Ramírez'},\n",
       " {'num_expediente': 1014, 'nombre': 'Iván', 'apellido': 'Hernández'},\n",
       " {'num_expediente': 1015, 'nombre': 'Laura', 'apellido': 'Jiménez'},\n",
       " {'num_expediente': 1016, 'nombre': 'Tomás', 'apellido': 'López'},\n",
       " {'num_expediente': 1017, 'nombre': 'Paula', 'apellido': 'Fernández'},\n",
       " {'num_expediente': 1018, 'nombre': 'Mario', 'apellido': 'Díaz'},\n",
       " {'num_expediente': 1019, 'nombre': 'Raquel', 'apellido': 'González'},\n",
       " {'num_expediente': 1020, 'nombre': 'Jorge', 'apellido': 'Álvarez'}]"
      ]
     },
     "execution_count": 12,
     "metadata": {},
     "output_type": "execute_result"
    }
   ],
   "source": [
    "resultados_def"
   ]
  },
  {
   "cell_type": "code",
   "execution_count": 13,
   "id": "9261135a",
   "metadata": {},
   "outputs": [],
   "source": [
    "df_resultados = pd.DataFrame(resultados_def)"
   ]
  },
  {
   "cell_type": "code",
   "execution_count": 14,
   "id": "85f93ace",
   "metadata": {},
   "outputs": [
    {
     "data": {
      "text/html": [
       "<div>\n",
       "<style scoped>\n",
       "    .dataframe tbody tr th:only-of-type {\n",
       "        vertical-align: middle;\n",
       "    }\n",
       "\n",
       "    .dataframe tbody tr th {\n",
       "        vertical-align: top;\n",
       "    }\n",
       "\n",
       "    .dataframe thead th {\n",
       "        text-align: right;\n",
       "    }\n",
       "</style>\n",
       "<table border=\"1\" class=\"dataframe\">\n",
       "  <thead>\n",
       "    <tr style=\"text-align: right;\">\n",
       "      <th></th>\n",
       "      <th>num_expediente</th>\n",
       "      <th>nombre</th>\n",
       "      <th>apellido</th>\n",
       "    </tr>\n",
       "  </thead>\n",
       "  <tbody>\n",
       "    <tr>\n",
       "      <th>0</th>\n",
       "      <td>1001</td>\n",
       "      <td>Ana</td>\n",
       "      <td>Martínez</td>\n",
       "    </tr>\n",
       "    <tr>\n",
       "      <th>1</th>\n",
       "      <td>1002</td>\n",
       "      <td>Luis</td>\n",
       "      <td>Fernández</td>\n",
       "    </tr>\n",
       "    <tr>\n",
       "      <th>2</th>\n",
       "      <td>1003</td>\n",
       "      <td>Clara</td>\n",
       "      <td>Ruiz</td>\n",
       "    </tr>\n",
       "    <tr>\n",
       "      <th>3</th>\n",
       "      <td>1004</td>\n",
       "      <td>Pedro</td>\n",
       "      <td>Sánchez</td>\n",
       "    </tr>\n",
       "    <tr>\n",
       "      <th>4</th>\n",
       "      <td>1005</td>\n",
       "      <td>Lucía</td>\n",
       "      <td>Torres</td>\n",
       "    </tr>\n",
       "    <tr>\n",
       "      <th>5</th>\n",
       "      <td>1006</td>\n",
       "      <td>Javier</td>\n",
       "      <td>González</td>\n",
       "    </tr>\n",
       "    <tr>\n",
       "      <th>6</th>\n",
       "      <td>1007</td>\n",
       "      <td>María</td>\n",
       "      <td>López</td>\n",
       "    </tr>\n",
       "    <tr>\n",
       "      <th>7</th>\n",
       "      <td>1008</td>\n",
       "      <td>David</td>\n",
       "      <td>Pérez</td>\n",
       "    </tr>\n",
       "    <tr>\n",
       "      <th>8</th>\n",
       "      <td>1009</td>\n",
       "      <td>Sara</td>\n",
       "      <td>García</td>\n",
       "    </tr>\n",
       "    <tr>\n",
       "      <th>9</th>\n",
       "      <td>1010</td>\n",
       "      <td>Ricardo</td>\n",
       "      <td>Martín</td>\n",
       "    </tr>\n",
       "    <tr>\n",
       "      <th>10</th>\n",
       "      <td>1011</td>\n",
       "      <td>Alba</td>\n",
       "      <td>Vázquez</td>\n",
       "    </tr>\n",
       "    <tr>\n",
       "      <th>11</th>\n",
       "      <td>1012</td>\n",
       "      <td>Carlos</td>\n",
       "      <td>Serrano</td>\n",
       "    </tr>\n",
       "    <tr>\n",
       "      <th>12</th>\n",
       "      <td>1013</td>\n",
       "      <td>Elena</td>\n",
       "      <td>Ramírez</td>\n",
       "    </tr>\n",
       "    <tr>\n",
       "      <th>13</th>\n",
       "      <td>1014</td>\n",
       "      <td>Iván</td>\n",
       "      <td>Hernández</td>\n",
       "    </tr>\n",
       "    <tr>\n",
       "      <th>14</th>\n",
       "      <td>1015</td>\n",
       "      <td>Laura</td>\n",
       "      <td>Jiménez</td>\n",
       "    </tr>\n",
       "    <tr>\n",
       "      <th>15</th>\n",
       "      <td>1016</td>\n",
       "      <td>Tomás</td>\n",
       "      <td>López</td>\n",
       "    </tr>\n",
       "    <tr>\n",
       "      <th>16</th>\n",
       "      <td>1017</td>\n",
       "      <td>Paula</td>\n",
       "      <td>Fernández</td>\n",
       "    </tr>\n",
       "    <tr>\n",
       "      <th>17</th>\n",
       "      <td>1018</td>\n",
       "      <td>Mario</td>\n",
       "      <td>Díaz</td>\n",
       "    </tr>\n",
       "    <tr>\n",
       "      <th>18</th>\n",
       "      <td>1019</td>\n",
       "      <td>Raquel</td>\n",
       "      <td>González</td>\n",
       "    </tr>\n",
       "    <tr>\n",
       "      <th>19</th>\n",
       "      <td>1020</td>\n",
       "      <td>Jorge</td>\n",
       "      <td>Álvarez</td>\n",
       "    </tr>\n",
       "  </tbody>\n",
       "</table>\n",
       "</div>"
      ],
      "text/plain": [
       "    num_expediente   nombre   apellido\n",
       "0             1001      Ana   Martínez\n",
       "1             1002     Luis  Fernández\n",
       "2             1003    Clara       Ruiz\n",
       "3             1004    Pedro    Sánchez\n",
       "4             1005    Lucía     Torres\n",
       "5             1006   Javier   González\n",
       "6             1007    María      López\n",
       "7             1008    David      Pérez\n",
       "8             1009     Sara     García\n",
       "9             1010  Ricardo     Martín\n",
       "10            1011     Alba    Vázquez\n",
       "11            1012   Carlos    Serrano\n",
       "12            1013    Elena    Ramírez\n",
       "13            1014     Iván  Hernández\n",
       "14            1015    Laura    Jiménez\n",
       "15            1016    Tomás      López\n",
       "16            1017    Paula  Fernández\n",
       "17            1018    Mario       Díaz\n",
       "18            1019   Raquel   González\n",
       "19            1020    Jorge    Álvarez"
      ]
     },
     "execution_count": 14,
     "metadata": {},
     "output_type": "execute_result"
    }
   ],
   "source": [
    "df_resultados"
   ]
  },
  {
   "cell_type": "markdown",
   "id": "85258bbb",
   "metadata": {},
   "source": [
    "## 2. Objetos cercanos a la tierra:\n",
    "\n",
    "- Usa esta API: https://api.nasa.gov/\n",
    "    - Requiere api_key\n",
    "\n",
    "- Utiliza este endpoint: Asteroids - NeoWs -> mira bien la documentación!!\n",
    "\n",
    "- Extrae los ids de los objetos cercanos a la Tierra de uno de los días (el que tú quieras) y crea una lista con ellos.\n",
    "\n",
    "- Busca si en ese mismo endpoint hay alguna manera de obtener la información de cada objeto por su id. Haz la llamada para cada id de la lista y almacena en un diccionario el id, nombre y si es peligroso de cada objeto."
   ]
  },
  {
   "cell_type": "code",
   "execution_count": 15,
   "id": "3284ab14",
   "metadata": {},
   "outputs": [],
   "source": [
    "nasa_api = \"3zXvKzzI3whrSbWZ4sU6Lj1XY2ZHadofXq8Dy9kB\""
   ]
  },
  {
   "cell_type": "code",
   "execution_count": 16,
   "id": "a53abd82",
   "metadata": {},
   "outputs": [],
   "source": [
    "url2 = f\"https://api.nasa.gov/neo/rest/v1/feed?start_date=1994-04-22&end_date=1994-04-29&api_key={nasa_api}\""
   ]
  },
  {
   "cell_type": "code",
   "execution_count": 17,
   "id": "0bc3cd7e",
   "metadata": {},
   "outputs": [],
   "source": [
    "def llamar_api(url):\n",
    "    llamada = requests.get(url)\n",
    "    if llamada.status_code != 200:\n",
    "        print(f\"El motivo por el que la llamada falló es {llamada.reason}\") \n",
    "    else:\n",
    "        return llamada.json()"
   ]
  },
  {
   "cell_type": "code",
   "execution_count": 18,
   "id": "185fc208",
   "metadata": {},
   "outputs": [],
   "source": [
    "datos_nasa = llamar_api(url2)"
   ]
  },
  {
   "cell_type": "code",
   "execution_count": 19,
   "id": "ab93bd40",
   "metadata": {},
   "outputs": [
    {
     "data": {
      "text/plain": [
       "dict_keys(['links', 'element_count', 'near_earth_objects'])"
      ]
     },
     "execution_count": 19,
     "metadata": {},
     "output_type": "execute_result"
    }
   ],
   "source": [
    "datos_nasa.keys()"
   ]
  },
  {
   "cell_type": "code",
   "execution_count": 20,
   "id": "35a76adb",
   "metadata": {},
   "outputs": [
    {
     "data": {
      "text/plain": [
       "{'next': 'http://api.nasa.gov/neo/rest/v1/feed?start_date=1994-04-29&end_date=1994-05-06&detailed=false&api_key=3zXvKzzI3whrSbWZ4sU6Lj1XY2ZHadofXq8Dy9kB',\n",
       " 'previous': 'http://api.nasa.gov/neo/rest/v1/feed?start_date=1994-04-15&end_date=1994-04-22&detailed=false&api_key=3zXvKzzI3whrSbWZ4sU6Lj1XY2ZHadofXq8Dy9kB',\n",
       " 'self': 'http://api.nasa.gov/neo/rest/v1/feed?start_date=1994-04-22&end_date=1994-04-29&detailed=false&api_key=3zXvKzzI3whrSbWZ4sU6Lj1XY2ZHadofXq8Dy9kB'}"
      ]
     },
     "execution_count": 20,
     "metadata": {},
     "output_type": "execute_result"
    }
   ],
   "source": [
    "datos_nasa['links']"
   ]
  },
  {
   "cell_type": "code",
   "execution_count": 21,
   "id": "05ed63da",
   "metadata": {},
   "outputs": [
    {
     "data": {
      "text/plain": [
       "dict_keys(['1994-04-22', '1994-04-24', '1994-04-23', '1994-04-26', '1994-04-25', '1994-04-28', '1994-04-27', '1994-04-29'])"
      ]
     },
     "execution_count": 21,
     "metadata": {},
     "output_type": "execute_result"
    }
   ],
   "source": [
    "datos_nasa['near_earth_objects'].keys()"
   ]
  },
  {
   "cell_type": "code",
   "execution_count": 22,
   "id": "ccd4620f",
   "metadata": {},
   "outputs": [
    {
     "data": {
      "text/plain": [
       "[{'links': {'self': 'http://api.nasa.gov/neo/rest/v1/neo/2194126?api_key=3zXvKzzI3whrSbWZ4sU6Lj1XY2ZHadofXq8Dy9kB'},\n",
       "  'id': '2194126',\n",
       "  'neo_reference_id': '2194126',\n",
       "  'name': '194126 (2001 SG276)',\n",
       "  'nasa_jpl_url': 'https://ssd.jpl.nasa.gov/tools/sbdb_lookup.html#/?sstr=2194126',\n",
       "  'absolute_magnitude_h': 17.91,\n",
       "  'estimated_diameter': {'kilometers': {'estimated_diameter_min': 0.6959130436,\n",
       "    'estimated_diameter_max': 1.5561088719},\n",
       "   'meters': {'estimated_diameter_min': 695.9130435846,\n",
       "    'estimated_diameter_max': 1556.108871884},\n",
       "   'miles': {'estimated_diameter_min': 0.4324201838,\n",
       "    'estimated_diameter_max': 0.9669209258},\n",
       "   'feet': {'estimated_diameter_min': 2283.1793499141,\n",
       "    'estimated_diameter_max': 5105.3442312318}},\n",
       "  'is_potentially_hazardous_asteroid': False,\n",
       "  'close_approach_data': [{'close_approach_date': '1994-04-24',\n",
       "    'close_approach_date_full': '1994-Apr-24 21:46',\n",
       "    'epoch_date_close_approach': 767223960000,\n",
       "    'relative_velocity': {'kilometers_per_second': '15.0311761485',\n",
       "     'kilometers_per_hour': '54112.2341346828',\n",
       "     'miles_per_hour': '33623.2379266311'},\n",
       "    'miss_distance': {'astronomical': '0.1160350785',\n",
       "     'lunar': '45.1376455365',\n",
       "     'kilometers': '17358600.588882795',\n",
       "     'miles': '10786134.246240771'},\n",
       "    'orbiting_body': 'Earth'}],\n",
       "  'is_sentry_object': False},\n",
       " {'links': {'self': 'http://api.nasa.gov/neo/rest/v1/neo/2455588?api_key=3zXvKzzI3whrSbWZ4sU6Lj1XY2ZHadofXq8Dy9kB'},\n",
       "  'id': '2455588',\n",
       "  'neo_reference_id': '2455588',\n",
       "  'name': '455588 (2004 RU331)',\n",
       "  'nasa_jpl_url': 'https://ssd.jpl.nasa.gov/tools/sbdb_lookup.html#/?sstr=2455588',\n",
       "  'absolute_magnitude_h': 20.65,\n",
       "  'estimated_diameter': {'kilometers': {'estimated_diameter_min': 0.1970402621,\n",
       "    'estimated_diameter_max': 0.4405954204},\n",
       "   'meters': {'estimated_diameter_min': 197.0402621378,\n",
       "    'estimated_diameter_max': 440.5954204445},\n",
       "   'miles': {'estimated_diameter_min': 0.1224351047,\n",
       "    'estimated_diameter_max': 0.273773217},\n",
       "   'feet': {'estimated_diameter_min': 646.4575736321,\n",
       "    'estimated_diameter_max': 1445.523079211}},\n",
       "  'is_potentially_hazardous_asteroid': False,\n",
       "  'close_approach_data': [{'close_approach_date': '1994-04-24',\n",
       "    'close_approach_date_full': '1994-Apr-24 14:10',\n",
       "    'epoch_date_close_approach': 767196600000,\n",
       "    'relative_velocity': {'kilometers_per_second': '9.4716893316',\n",
       "     'kilometers_per_hour': '34098.0815939328',\n",
       "     'miles_per_hour': '21187.2218659634'},\n",
       "    'miss_distance': {'astronomical': '0.4065589271',\n",
       "     'lunar': '158.1514226419',\n",
       "     'kilometers': '60820349.523645277',\n",
       "     'miles': '37792012.7550757426'},\n",
       "    'orbiting_body': 'Earth'}],\n",
       "  'is_sentry_object': False},\n",
       " {'links': {'self': 'http://api.nasa.gov/neo/rest/v1/neo/2459200?api_key=3zXvKzzI3whrSbWZ4sU6Lj1XY2ZHadofXq8Dy9kB'},\n",
       "  'id': '2459200',\n",
       "  'neo_reference_id': '2459200',\n",
       "  'name': '459200 (2012 DK61)',\n",
       "  'nasa_jpl_url': 'https://ssd.jpl.nasa.gov/tools/sbdb_lookup.html#/?sstr=2459200',\n",
       "  'absolute_magnitude_h': 21.08,\n",
       "  'estimated_diameter': {'kilometers': {'estimated_diameter_min': 0.1616422833,\n",
       "    'estimated_diameter_max': 0.3614431336},\n",
       "   'meters': {'estimated_diameter_min': 161.6422833399,\n",
       "    'estimated_diameter_max': 361.4431335863},\n",
       "   'miles': {'estimated_diameter_min': 0.1004398272,\n",
       "    'estimated_diameter_max': 0.2245902814},\n",
       "   'feet': {'estimated_diameter_min': 530.3224688728,\n",
       "    'estimated_diameter_max': 1185.8370903951}},\n",
       "  'is_potentially_hazardous_asteroid': False,\n",
       "  'close_approach_data': [{'close_approach_date': '1994-04-24',\n",
       "    'close_approach_date_full': '1994-Apr-24 09:39',\n",
       "    'epoch_date_close_approach': 767180340000,\n",
       "    'relative_velocity': {'kilometers_per_second': '2.5172151677',\n",
       "     'kilometers_per_hour': '9061.9746035924',\n",
       "     'miles_per_hour': '5630.7586085489'},\n",
       "    'miss_distance': {'astronomical': '0.1967282148',\n",
       "     'lunar': '76.5272755572',\n",
       "     'kilometers': '29430121.902982476',\n",
       "     'miles': '18287029.7696751288'},\n",
       "    'orbiting_body': 'Earth'}],\n",
       "  'is_sentry_object': False},\n",
       " {'links': {'self': 'http://api.nasa.gov/neo/rest/v1/neo/3423321?api_key=3zXvKzzI3whrSbWZ4sU6Lj1XY2ZHadofXq8Dy9kB'},\n",
       "  'id': '3423321',\n",
       "  'neo_reference_id': '3423321',\n",
       "  'name': '(2008 PW4)',\n",
       "  'nasa_jpl_url': 'https://ssd.jpl.nasa.gov/tools/sbdb_lookup.html#/?sstr=3423321',\n",
       "  'absolute_magnitude_h': 22.42,\n",
       "  'estimated_diameter': {'kilometers': {'estimated_diameter_min': 0.0872077289,\n",
       "    'estimated_diameter_max': 0.19500241},\n",
       "   'meters': {'estimated_diameter_min': 87.2077289095,\n",
       "    'estimated_diameter_max': 195.0024100049},\n",
       "   'miles': {'estimated_diameter_min': 0.0541883537,\n",
       "    'estimated_diameter_max': 0.1211688425},\n",
       "   'feet': {'estimated_diameter_min': 286.1146053153,\n",
       "    'estimated_diameter_max': 639.7717068406}},\n",
       "  'is_potentially_hazardous_asteroid': False,\n",
       "  'close_approach_data': [{'close_approach_date': '1994-04-24',\n",
       "    'close_approach_date_full': '1994-Apr-24 17:03',\n",
       "    'epoch_date_close_approach': 767206980000,\n",
       "    'relative_velocity': {'kilometers_per_second': '8.4290745821',\n",
       "     'kilometers_per_hour': '30344.6684954659',\n",
       "     'miles_per_hour': '18854.996932641'},\n",
       "    'miss_distance': {'astronomical': '0.4600224098',\n",
       "     'lunar': '178.9487174122',\n",
       "     'kilometers': '68818372.658347126',\n",
       "     'miles': '42761753.8810212988'},\n",
       "    'orbiting_body': 'Earth'}],\n",
       "  'is_sentry_object': False},\n",
       " {'links': {'self': 'http://api.nasa.gov/neo/rest/v1/neo/3673918?api_key=3zXvKzzI3whrSbWZ4sU6Lj1XY2ZHadofXq8Dy9kB'},\n",
       "  'id': '3673918',\n",
       "  'neo_reference_id': '3673918',\n",
       "  'name': '(2014 MA6)',\n",
       "  'nasa_jpl_url': 'https://ssd.jpl.nasa.gov/tools/sbdb_lookup.html#/?sstr=3673918',\n",
       "  'absolute_magnitude_h': 24.39,\n",
       "  'estimated_diameter': {'kilometers': {'estimated_diameter_min': 0.035200998,\n",
       "    'estimated_diameter_max': 0.0787118244},\n",
       "   'meters': {'estimated_diameter_min': 35.2009980055,\n",
       "    'estimated_diameter_max': 78.7118244161},\n",
       "   'miles': {'estimated_diameter_min': 0.0218728793,\n",
       "    'estimated_diameter_max': 0.048909245},\n",
       "   'feet': {'estimated_diameter_min': 115.4888422963,\n",
       "    'estimated_diameter_max': 258.2409020172}},\n",
       "  'is_potentially_hazardous_asteroid': False,\n",
       "  'close_approach_data': [{'close_approach_date': '1994-04-24',\n",
       "    'close_approach_date_full': '1994-Apr-24 14:04',\n",
       "    'epoch_date_close_approach': 767196240000,\n",
       "    'relative_velocity': {'kilometers_per_second': '5.760459595',\n",
       "     'kilometers_per_hour': '20737.6545420533',\n",
       "     'miles_per_hour': '12885.5720680886'},\n",
       "    'miss_distance': {'astronomical': '0.3833678453',\n",
       "     'lunar': '149.1300918217',\n",
       "     'kilometers': '57351013.083369511',\n",
       "     'miles': '35636267.0543448118'},\n",
       "    'orbiting_body': 'Earth'}],\n",
       "  'is_sentry_object': False}]"
      ]
     },
     "execution_count": 22,
     "metadata": {},
     "output_type": "execute_result"
    }
   ],
   "source": [
    "datos_nasa['near_earth_objects']['1994-04-24']"
   ]
  },
  {
   "cell_type": "code",
   "execution_count": 23,
   "id": "18741dfc",
   "metadata": {},
   "outputs": [
    {
     "data": {
      "text/plain": [
       "'2455588'"
      ]
     },
     "execution_count": 23,
     "metadata": {},
     "output_type": "execute_result"
    }
   ],
   "source": [
    "datos_nasa['near_earth_objects']['1994-04-24'][1]['id']"
   ]
  },
  {
   "cell_type": "code",
   "execution_count": 24,
   "id": "ce7b05b2",
   "metadata": {},
   "outputs": [
    {
     "data": {
      "text/plain": [
       "'455588 (2004 RU331)'"
      ]
     },
     "execution_count": 24,
     "metadata": {},
     "output_type": "execute_result"
    }
   ],
   "source": [
    "datos_nasa['near_earth_objects']['1994-04-24'][1]['name']"
   ]
  },
  {
   "cell_type": "code",
   "execution_count": 25,
   "id": "5ddcb7a2",
   "metadata": {},
   "outputs": [
    {
     "data": {
      "text/plain": [
       "False"
      ]
     },
     "execution_count": 25,
     "metadata": {},
     "output_type": "execute_result"
    }
   ],
   "source": [
    "datos_nasa['near_earth_objects']['1994-04-24'][1]['is_potentially_hazardous_asteroid']"
   ]
  },
  {
   "cell_type": "code",
   "execution_count": 26,
   "id": "b13a8d5d",
   "metadata": {},
   "outputs": [],
   "source": [
    "def asteroides(datos_nasa):\n",
    "    resultados_asteroides = []\n",
    "    for item in datos_nasa['near_earth_objects']['1994-04-24']:\n",
    "        info = {\n",
    "            'id_asteroide' : item['id'],\n",
    "            'name_asteroide' : item['name'],\n",
    "            'potencially_hazardous' : item['is_potentially_hazardous_asteroid']\n",
    "        }\n",
    "        resultados_asteroides.append(info)\n",
    "\n",
    "    return resultados_asteroides"
   ]
  },
  {
   "cell_type": "code",
   "execution_count": 27,
   "id": "bc3ac9c8",
   "metadata": {},
   "outputs": [],
   "source": [
    "res = asteroides(datos_nasa)"
   ]
  },
  {
   "cell_type": "code",
   "execution_count": 28,
   "id": "9f542b6a",
   "metadata": {},
   "outputs": [
    {
     "data": {
      "text/plain": [
       "[{'id_asteroide': '2194126',\n",
       "  'name_asteroide': '194126 (2001 SG276)',\n",
       "  'potencially_hazardous': False},\n",
       " {'id_asteroide': '2455588',\n",
       "  'name_asteroide': '455588 (2004 RU331)',\n",
       "  'potencially_hazardous': False},\n",
       " {'id_asteroide': '2459200',\n",
       "  'name_asteroide': '459200 (2012 DK61)',\n",
       "  'potencially_hazardous': False},\n",
       " {'id_asteroide': '3423321',\n",
       "  'name_asteroide': '(2008 PW4)',\n",
       "  'potencially_hazardous': False},\n",
       " {'id_asteroide': '3673918',\n",
       "  'name_asteroide': '(2014 MA6)',\n",
       "  'potencially_hazardous': False}]"
      ]
     },
     "execution_count": 28,
     "metadata": {},
     "output_type": "execute_result"
    }
   ],
   "source": [
    "res"
   ]
  },
  {
   "cell_type": "code",
   "execution_count": 29,
   "id": "acc5b344",
   "metadata": {},
   "outputs": [],
   "source": [
    "df = pd.DataFrame(res)"
   ]
  },
  {
   "cell_type": "code",
   "execution_count": 30,
   "id": "bf73bb7e",
   "metadata": {},
   "outputs": [
    {
     "data": {
      "text/html": [
       "<div>\n",
       "<style scoped>\n",
       "    .dataframe tbody tr th:only-of-type {\n",
       "        vertical-align: middle;\n",
       "    }\n",
       "\n",
       "    .dataframe tbody tr th {\n",
       "        vertical-align: top;\n",
       "    }\n",
       "\n",
       "    .dataframe thead th {\n",
       "        text-align: right;\n",
       "    }\n",
       "</style>\n",
       "<table border=\"1\" class=\"dataframe\">\n",
       "  <thead>\n",
       "    <tr style=\"text-align: right;\">\n",
       "      <th></th>\n",
       "      <th>id_asteroide</th>\n",
       "      <th>name_asteroide</th>\n",
       "      <th>potencially_hazardous</th>\n",
       "    </tr>\n",
       "  </thead>\n",
       "  <tbody>\n",
       "    <tr>\n",
       "      <th>0</th>\n",
       "      <td>2194126</td>\n",
       "      <td>194126 (2001 SG276)</td>\n",
       "      <td>False</td>\n",
       "    </tr>\n",
       "    <tr>\n",
       "      <th>1</th>\n",
       "      <td>2455588</td>\n",
       "      <td>455588 (2004 RU331)</td>\n",
       "      <td>False</td>\n",
       "    </tr>\n",
       "    <tr>\n",
       "      <th>2</th>\n",
       "      <td>2459200</td>\n",
       "      <td>459200 (2012 DK61)</td>\n",
       "      <td>False</td>\n",
       "    </tr>\n",
       "    <tr>\n",
       "      <th>3</th>\n",
       "      <td>3423321</td>\n",
       "      <td>(2008 PW4)</td>\n",
       "      <td>False</td>\n",
       "    </tr>\n",
       "    <tr>\n",
       "      <th>4</th>\n",
       "      <td>3673918</td>\n",
       "      <td>(2014 MA6)</td>\n",
       "      <td>False</td>\n",
       "    </tr>\n",
       "  </tbody>\n",
       "</table>\n",
       "</div>"
      ],
      "text/plain": [
       "  id_asteroide       name_asteroide  potencially_hazardous\n",
       "0      2194126  194126 (2001 SG276)                  False\n",
       "1      2455588  455588 (2004 RU331)                  False\n",
       "2      2459200   459200 (2012 DK61)                  False\n",
       "3      3423321           (2008 PW4)                  False\n",
       "4      3673918           (2014 MA6)                  False"
      ]
     },
     "execution_count": 30,
     "metadata": {},
     "output_type": "execute_result"
    }
   ],
   "source": [
    "df"
   ]
  }
 ],
 "metadata": {
  "kernelspec": {
   "display_name": "base",
   "language": "python",
   "name": "python3"
  },
  "language_info": {
   "codemirror_mode": {
    "name": "ipython",
    "version": 3
   },
   "file_extension": ".py",
   "mimetype": "text/x-python",
   "name": "python",
   "nbconvert_exporter": "python",
   "pygments_lexer": "ipython3",
   "version": "3.12.7"
  }
 },
 "nbformat": 4,
 "nbformat_minor": 5
}
