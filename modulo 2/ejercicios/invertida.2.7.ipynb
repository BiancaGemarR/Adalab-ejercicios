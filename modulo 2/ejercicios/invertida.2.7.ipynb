{
 "cells": [
  {
   "cell_type": "code",
   "execution_count": 5,
   "id": "21bfd5bb",
   "metadata": {},
   "outputs": [
    {
     "name": "stdout",
     "output_type": "stream",
     "text": [
      "Collecting mysql-connector-python\n",
      "  Downloading mysql_connector_python-9.3.0-cp312-cp312-win_amd64.whl.metadata (7.7 kB)\n",
      "Downloading mysql_connector_python-9.3.0-cp312-cp312-win_amd64.whl (16.4 MB)\n",
      "   ---------------------------------------- 0.0/16.4 MB ? eta -:--:--\n",
      "   ---------------- ----------------------- 6.6/16.4 MB 33.5 MB/s eta 0:00:01\n",
      "   ------------------------------- -------- 12.8/16.4 MB 30.9 MB/s eta 0:00:01\n",
      "   ---------------------------------------  16.3/16.4 MB 29.2 MB/s eta 0:00:01\n",
      "   ---------------------------------------- 16.4/16.4 MB 25.8 MB/s eta 0:00:00\n",
      "Installing collected packages: mysql-connector-python\n",
      "Successfully installed mysql-connector-python-9.3.0\n",
      "Note: you may need to restart the kernel to use updated packages.\n"
     ]
    }
   ],
   "source": [
    "pip install mysql-connector-python\n"
   ]
  },
  {
   "cell_type": "code",
   "execution_count": 24,
   "id": "2bd23f81",
   "metadata": {},
   "outputs": [],
   "source": [
    "import mysql.connector\n",
    "from mysql.connector import errorcode\n",
    "import pandas as pd"
   ]
  },
  {
   "cell_type": "code",
   "execution_count": 7,
   "id": "673815a0",
   "metadata": {},
   "outputs": [
    {
     "name": "stdout",
     "output_type": "stream",
     "text": [
      "<mysql.connector.connection_cext.CMySQLConnection object at 0x000001CFEB77A240>\n"
     ]
    }
   ],
   "source": [
    "cnx = mysql.connector.connect(user='root',      password='AlumnaAdalab',\n",
    "host='127.0.0.1',\n",
    "database='tienda')\n",
    "\n",
    "print(cnx) # Muestra la conexión.\n",
    "cnx.close() # Cierra la conexión."
   ]
  },
  {
   "cell_type": "code",
   "execution_count": 13,
   "id": "96220414",
   "metadata": {},
   "outputs": [
    {
     "name": "stdout",
     "output_type": "stream",
     "text": [
      "Acces ok\n"
     ]
    }
   ],
   "source": [
    "#ejercicio 1\n",
    "try:\n",
    "  cnx = mysql.connector.connect(user='root', password='AlumnaAdalab',\n",
    "                              host='127.0.0.1',\n",
    "                              database='tienda')\n",
    "  print(\"Acces ok\")\n",
    "except mysql.connector.Error as err:\n",
    "    if err.errno == errorcode.ER_ACCESS_DENIED_ERROR:\n",
    "        print(\"Something is wrong with your user name or password\")\n",
    "    else:\n",
    "        print(err)\n",
    "else:\n",
    "  cnx.close()"
   ]
  },
  {
   "cell_type": "code",
   "execution_count": 15,
   "id": "1eb17aa1",
   "metadata": {},
   "outputs": [
    {
     "name": "stdout",
     "output_type": "stream",
     "text": [
      "CMySQLCursor: CREATE DATABASE alumnas_promo_56\n"
     ]
    }
   ],
   "source": [
    "# ejercicio 2. Crea un nuevo \"schema\" llamado \"alumnas-promo-X\"\n",
    "cnx = mysql.connector.connect(user='root', password='AlumnaAdalab',\n",
    "                              host='127.0.0.1')\n",
    "\n",
    "\n",
    "mycursor = cnx.cursor()\n",
    "try:\n",
    "    mycursor.execute(\"CREATE DATABASE alumnas_promo_56\")\n",
    "    print(mycursor)\n",
    "except mysql.connector.Error as err:\n",
    "    print(err)\n",
    "    print(\"Error Code:\", err.errno)\n",
    "    print(\"SQLSTATE\", err.sqlstate)\n",
    "    print(\"Message\", err.msg)"
   ]
  },
  {
   "cell_type": "code",
   "execution_count": 16,
   "id": "4dae12d2",
   "metadata": {},
   "outputs": [
    {
     "name": "stdout",
     "output_type": "stream",
     "text": [
      "CMySQLCursor: CREATE TABLE info_alumnas (id_alumna INT..\n"
     ]
    }
   ],
   "source": [
    "#ejercicio 3. Crea una tabla con la información de las alumnas de la promo. Debe incluir: id_alumna, nombre, apellidos, ciudad y teléfono.\n",
    "cnx = mysql.connector.connect(user='root', password='AlumnaAdalab',\n",
    "                              host='127.0.0.1', database='alumnas_promo_56')\n",
    "\n",
    "\n",
    "mycursor = cnx.cursor()\n",
    "try:\n",
    "    mycursor.execute(\"CREATE TABLE info_alumnas (id_alumna INT, nombre VARCHAR(255), apellidos VARCHAR(30), ciudad VARCHAR(255), telefono VARCHAR(15))\")\n",
    "    print(mycursor)\n",
    "except mysql.connector.Error as err:\n",
    "    print(err)\n",
    "    print(\"Error Code:\", err.errno)\n",
    "    print(\"SQLSTATE\", err.sqlstate)\n",
    "    print(\"Message\", err.msg)"
   ]
  },
  {
   "cell_type": "code",
   "execution_count": 20,
   "id": "e861771c",
   "metadata": {},
   "outputs": [
    {
     "name": "stdout",
     "output_type": "stream",
     "text": [
      "4 registro/s insertado/s.\n"
     ]
    }
   ],
   "source": [
    "#ejercicio 4. Inserta por lo menos 10 datos en la tabla creada en el ejercicio anterior (pueden ser inventados).\n",
    "cnx = mysql.connector.connect(user='root', password='AlumnaAdalab',\n",
    "                              host='127.0.0.1', database='alumnas_promo_56')\n",
    "\n",
    "\n",
    "mycursor = cnx.cursor()\n",
    "sql = \"INSERT INTO info_alumnas (id_alumna, nombre, apellidos, ciudad, telefono) VALUES (%s, %s, %s, %s, %s)\"\n",
    "val = [\n",
    "  (1, 'Ana', 'lopez', 'bcn', '1234567'),\n",
    "  (2, 'Rocio', 'garcia', 'girona', ' 14578652'),\n",
    "  (3,'Juana', 'Mountain', 'lleida', '45678912'),\n",
    "  (4, 'Pedro', 'Valle', 'caldes', '456789345')\n",
    "]\n",
    "\n",
    "try: \n",
    "    mycursor.executemany(sql, val)\n",
    "    cnx.commit()\n",
    "    print(mycursor.rowcount, \"registro/s insertado/s.\")\n",
    "\n",
    "except mysql.connector.Error as err:\n",
    "    print(err)\n",
    "    print(\"Error Code:\", err.errno)\n",
    "    print(\"SQLSTATE\", err.sqlstate)\n",
    "    print(\"Message\", err.msg)"
   ]
  },
  {
   "cell_type": "code",
   "execution_count": 26,
   "id": "00e4c4fe",
   "metadata": {},
   "outputs": [],
   "source": [
    "# ejercicio 5. Haz una consulta que devuelva todos los registros de la tabla \"alumnas\" y conviértelo en Dataframe (no te olvides del nombre de las columnas).\n",
    "cnx = mysql.connector.connect(user='root', password='AlumnaAdalab',\n",
    "                              host='127.0.0.1',\n",
    "                              database='alumnas_promo_56')\n",
    "\n",
    "# iniciamos el cursor\n",
    "mycursor = cnx.cursor()\n",
    "\n",
    "# ejecutamos nuestra query\n",
    "mycursor.execute(\"SELECT * FROM info_alumnas\")\n",
    "\n",
    "# le decimos que nos devuelva todos los resultados y los almacenamos en una variable llamada myresult\n",
    "myresult = mycursor.fetchall()\n",
    "\n",
    "#Creamos un dataframe con los resultados de la consulta SQL almacenados en myresult. Si os fijáis le estamos pasando un parámetro llamado \"columns\" donde estamos especificando cuáles son las columnas de lo que será nuestro dataframe\n",
    "df = pd.DataFrame(myresult, columns = ['id_alumna', 'nombre', 'apellidos', 'ciudad', 'telefono'])\n",
    "\n",
    "#Cerramos la conexion\n",
    "cnx.close()"
   ]
  },
  {
   "cell_type": "code",
   "execution_count": 28,
   "id": "182469ef",
   "metadata": {},
   "outputs": [
    {
     "data": {
      "text/html": [
       "<div>\n",
       "<style scoped>\n",
       "    .dataframe tbody tr th:only-of-type {\n",
       "        vertical-align: middle;\n",
       "    }\n",
       "\n",
       "    .dataframe tbody tr th {\n",
       "        vertical-align: top;\n",
       "    }\n",
       "\n",
       "    .dataframe thead th {\n",
       "        text-align: right;\n",
       "    }\n",
       "</style>\n",
       "<table border=\"1\" class=\"dataframe\">\n",
       "  <thead>\n",
       "    <tr style=\"text-align: right;\">\n",
       "      <th></th>\n",
       "      <th>id_alumna</th>\n",
       "      <th>nombre</th>\n",
       "      <th>apellidos</th>\n",
       "      <th>ciudad</th>\n",
       "      <th>telefono</th>\n",
       "    </tr>\n",
       "  </thead>\n",
       "  <tbody>\n",
       "    <tr>\n",
       "      <th>0</th>\n",
       "      <td>1</td>\n",
       "      <td>Ana</td>\n",
       "      <td>lopez</td>\n",
       "      <td>bcn</td>\n",
       "      <td>1234567</td>\n",
       "    </tr>\n",
       "    <tr>\n",
       "      <th>1</th>\n",
       "      <td>2</td>\n",
       "      <td>Rocio</td>\n",
       "      <td>garcia</td>\n",
       "      <td>girona</td>\n",
       "      <td>14578652</td>\n",
       "    </tr>\n",
       "    <tr>\n",
       "      <th>2</th>\n",
       "      <td>3</td>\n",
       "      <td>Juana</td>\n",
       "      <td>Mountain</td>\n",
       "      <td>lleida</td>\n",
       "      <td>45678912</td>\n",
       "    </tr>\n",
       "  </tbody>\n",
       "</table>\n",
       "</div>"
      ],
      "text/plain": [
       "   id_alumna nombre apellidos  ciudad   telefono\n",
       "0          1    Ana     lopez     bcn    1234567\n",
       "1          2  Rocio    garcia  girona   14578652\n",
       "2          3  Juana  Mountain  lleida   45678912"
      ]
     },
     "execution_count": 28,
     "metadata": {},
     "output_type": "execute_result"
    }
   ],
   "source": [
    "df.head(3)"
   ]
  }
 ],
 "metadata": {
  "kernelspec": {
   "display_name": "base",
   "language": "python",
   "name": "python3"
  },
  "language_info": {
   "codemirror_mode": {
    "name": "ipython",
    "version": 3
   },
   "file_extension": ".py",
   "mimetype": "text/x-python",
   "name": "python",
   "nbconvert_exporter": "python",
   "pygments_lexer": "ipython3",
   "version": "3.12.7"
  }
 },
 "nbformat": 4,
 "nbformat_minor": 5
}
