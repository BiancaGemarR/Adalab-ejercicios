{
 "cells": [
  {
   "cell_type": "code",
   "execution_count": 2,
   "id": "7bb5086a",
   "metadata": {},
   "outputs": [],
   "source": [
    "import requests"
   ]
  },
  {
   "cell_type": "code",
   "execution_count": 3,
   "id": "1299933b",
   "metadata": {},
   "outputs": [
    {
     "name": "stdout",
     "output_type": "stream",
     "text": [
      "Tu API Key es: c303bc1aa263997daee2f259f41108c7\n"
     ]
    }
   ],
   "source": [
    "from dotenv import load_dotenv\n",
    "import os\n",
    "\n",
    "load_dotenv(dotenv_path=\"apimusica.env\")\n",
    "\n",
    "api_key = os.getenv(\"API_KEY_LASTFM\")  # Asegurate de que este nombre coincide con tu archivo .env\n",
    "print(\"Tu API Key es:\", api_key)\n"
   ]
  },
  {
   "cell_type": "code",
   "execution_count": 4,
   "id": "af5b46c6",
   "metadata": {},
   "outputs": [],
   "source": [
    "def busca_artistas_similares(artist, api_key):\n",
    "    url = 'http://ws.audioscrobbler.com/2.0/'\n",
    "    params = {\n",
    "        'method': 'artist.getsimilar',\n",
    "        'artist': artist,\n",
    "        'api_key': api_key,\n",
    "        'format': 'json',\n",
    "        'limit': 50\n",
    "    }\n",
    "    response = requests.get(url, params=params)\n",
    "    if response.status_code == 200:  #necesita el status_code\n",
    "        datos = response.json()\n",
    "        artistas = []\n",
    "        artists = datos.get('similarartists', {}).get('artist', []) #si similarartist no existe devuelve {} e = con artist\n",
    "        artistas.extend(artists) #añade cada artista individualx\n",
    "        for artista in artistas:\n",
    "            print(f\"{artista['name']} - {artista['url']}\") #se puede añadir url o dejar solo el nombre del artista\n",
    "    else:\n",
    "        print(f\"Error\", response.status_code) #por si da error el response #print o response?queremos imprimir o q nos lo devuelva"
   ]
  },
  {
   "cell_type": "code",
   "execution_count": 5,
   "id": "9060faf5",
   "metadata": {},
   "outputs": [
    {
     "name": "stdout",
     "output_type": "stream",
     "text": [
      "Ludwig van Beethoven - https://www.last.fm/music/Ludwig+van+Beethoven\n",
      "Wolfgang Amadeus Mozart - https://www.last.fm/music/Wolfgang+Amadeus+Mozart\n",
      "Georg Friedrich Händel - https://www.last.fm/music/Georg+Friedrich+H%C3%A4ndel\n",
      "Franz Schubert - https://www.last.fm/music/Franz+Schubert\n",
      "Johannes Brahms - https://www.last.fm/music/Johannes+Brahms\n",
      "Franz Joseph Haydn - https://www.last.fm/music/Franz+Joseph+Haydn\n",
      "Antonio Vivaldi - https://www.last.fm/music/Antonio+Vivaldi\n",
      "Felix Mendelssohn - https://www.last.fm/music/Felix+Mendelssohn\n",
      "Frédéric Chopin - https://www.last.fm/music/Fr%C3%A9d%C3%A9ric+Chopin\n",
      "Robert Schumann - https://www.last.fm/music/Robert+Schumann\n",
      "Carl Philipp Emanuel Bach - https://www.last.fm/music/Carl+Philipp+Emanuel+Bach\n",
      "Georg Philipp Telemann - https://www.last.fm/music/Georg+Philipp+Telemann\n",
      "Gustav Mahler - https://www.last.fm/music/Gustav+Mahler\n",
      "Béla Bartók - https://www.last.fm/music/B%C3%A9la+Bart%C3%B3k\n",
      "Maurice Ravel - https://www.last.fm/music/Maurice+Ravel\n",
      "Igor Stravinsky - https://www.last.fm/music/Igor+Stravinsky\n",
      "Claudio Monteverdi - https://www.last.fm/music/Claudio+Monteverdi\n",
      "Richard Strauss - https://www.last.fm/music/Richard+Strauss\n",
      "Franz Liszt - https://www.last.fm/music/Franz+Liszt\n",
      "Dmitri Shostakovich - https://www.last.fm/music/Dmitri+Shostakovich\n",
      "Henry Purcell - https://www.last.fm/music/Henry+Purcell\n",
      "Sergei Rachmaninoff - https://www.last.fm/music/Sergei+Rachmaninoff\n",
      "Domenico Scarlatti - https://www.last.fm/music/Domenico+Scarlatti\n",
      "Antonín Dvořák - https://www.last.fm/music/Anton%C3%ADn+Dvo%C5%99%C3%A1k\n",
      "François Couperin - https://www.last.fm/music/Fran%C3%A7ois+Couperin\n",
      "Richard Wagner - https://www.last.fm/music/Richard+Wagner\n",
      "Arcangelo Corelli - https://www.last.fm/music/Arcangelo+Corelli\n",
      "Sergei Prokofiev - https://www.last.fm/music/Sergei+Prokofiev\n",
      "Claude Debussy - https://www.last.fm/music/Claude+Debussy\n",
      "Edvard Grieg - https://www.last.fm/music/Edvard+Grieg\n",
      "Tomaso Giovanni Albinoni - https://www.last.fm/music/Tomaso+Giovanni+Albinoni\n",
      "Jean Sibelius - https://www.last.fm/music/Jean+Sibelius\n",
      "Sir Edward Elgar - https://www.last.fm/music/Sir+Edward+Elgar\n",
      "Alexander Scriabin - https://www.last.fm/music/Alexander+Scriabin\n",
      "Pyotr Ilyich Tchaikovsky - https://www.last.fm/music/Pyotr+Ilyich+Tchaikovsky\n",
      "Jean-Philippe Rameau - https://www.last.fm/music/Jean-Philippe+Rameau\n",
      "Gabriel Fauré - https://www.last.fm/music/Gabriel+Faur%C3%A9\n",
      "Luigi Boccherini - https://www.last.fm/music/Luigi+Boccherini\n",
      "Johann Pachelbel - https://www.last.fm/music/Johann+Pachelbel\n",
      "Giuseppe Verdi - https://www.last.fm/music/Giuseppe+Verdi\n",
      "Anton Bruckner - https://www.last.fm/music/Anton+Bruckner\n",
      "Erik Satie - https://www.last.fm/music/Erik+Satie\n",
      "Leoš Janáček - https://www.last.fm/music/Leo%C5%A1+Jan%C3%A1%C4%8Dek\n",
      "Carl Maria von Weber - https://www.last.fm/music/Carl+Maria+von+Weber\n",
      "Gioacchino Rossini - https://www.last.fm/music/Gioacchino+Rossini\n",
      "Camille Saint-Saëns - https://www.last.fm/music/Camille+Saint-Sa%C3%ABns\n",
      "Georges Bizet - https://www.last.fm/music/Georges+Bizet\n",
      "Benjamin Britten - https://www.last.fm/music/Benjamin+Britten\n",
      "Giacomo Puccini - https://www.last.fm/music/Giacomo+Puccini\n",
      "Bedřich Smetana - https://www.last.fm/music/Bed%C5%99ich+Smetana\n"
     ]
    }
   ],
   "source": [
    "busca_artistas_similares('bach', api_key)"
   ]
  },
  {
   "cell_type": "code",
   "execution_count": 40,
   "id": "d3d18e13",
   "metadata": {},
   "outputs": [],
   "source": [
    "def bio(artist, api_key):\n",
    "    url = 'http://ws.audioscrobbler.com/2.0/'\n",
    "    params = {\n",
    "        'method': 'artist.getinfo',\n",
    "        'artist' : artist,\n",
    "        'api_key': api_key,\n",
    "        'format': 'json'\n",
    "        }\n",
    "    biografias = []\n",
    "    response = requests.get(url, params=params)\n",
    "    if response.status_code != 200:\n",
    "        print(f\"Da error\")\n",
    "    else:\n",
    "        datos = response.json()\n",
    "        info =datos['artist']['bio']['summary']\n",
    "        biografias.append(info)\n",
    "    return biografias"
   ]
  },
  {
   "cell_type": "code",
   "execution_count": 41,
   "id": "8c387aa2",
   "metadata": {},
   "outputs": [
    {
     "data": {
      "text/plain": [
       "['Ludwig van Beethoven (baptised 17 December 1770 – 26 March 1827) was a German composer and pianist. He is regarded as one of the central figures in the history of Western music. His compositions, which are among the most frequently performed in the classical repertoire, mark a transition from the Classical period to the Romantic era. His career is often divided into three periods: the early period, ending around 1802, in which he developed his compositional style; the middle period <a href=\"https://www.last.fm/music/Ludwig+van+Beethoven\">Read more on Last.fm</a>']"
      ]
     },
     "execution_count": 41,
     "metadata": {},
     "output_type": "execute_result"
    }
   ],
   "source": [
    "bio('Ludwig van Beethoven', api_key)"
   ]
  },
  {
   "cell_type": "code",
   "execution_count": 37,
   "id": "9fd6af24",
   "metadata": {},
   "outputs": [
    {
     "name": "stdout",
     "output_type": "stream",
     "text": [
      "{'artist': {'name': 'Johann Sebastian Bach', 'mbid': '24f1766e-9635-4d58-a4d4-9413f9f98a4c', 'url': 'https://www.last.fm/music/Johann+Sebastian+Bach', 'image': [{'#text': 'https://lastfm.freetls.fastly.net/i/u/34s/2a96cbd8b46e442fc41c2b86b821562f.png', 'size': 'small'}, {'#text': 'https://lastfm.freetls.fastly.net/i/u/64s/2a96cbd8b46e442fc41c2b86b821562f.png', 'size': 'medium'}, {'#text': 'https://lastfm.freetls.fastly.net/i/u/174s/2a96cbd8b46e442fc41c2b86b821562f.png', 'size': 'large'}, {'#text': 'https://lastfm.freetls.fastly.net/i/u/300x300/2a96cbd8b46e442fc41c2b86b821562f.png', 'size': 'extralarge'}, {'#text': 'https://lastfm.freetls.fastly.net/i/u/300x300/2a96cbd8b46e442fc41c2b86b821562f.png', 'size': 'mega'}, {'#text': 'https://lastfm.freetls.fastly.net/i/u/300x300/2a96cbd8b46e442fc41c2b86b821562f.png', 'size': ''}], 'streamable': '0', 'ontour': '0', 'stats': {'listeners': '2405288', 'playcount': '93071658'}, 'similar': {'artist': [{'name': 'Ludwig van Beethoven', 'url': 'https://www.last.fm/music/Ludwig+van+Beethoven', 'image': [{'#text': 'https://lastfm.freetls.fastly.net/i/u/34s/2a96cbd8b46e442fc41c2b86b821562f.png', 'size': 'small'}, {'#text': 'https://lastfm.freetls.fastly.net/i/u/64s/2a96cbd8b46e442fc41c2b86b821562f.png', 'size': 'medium'}, {'#text': 'https://lastfm.freetls.fastly.net/i/u/174s/2a96cbd8b46e442fc41c2b86b821562f.png', 'size': 'large'}, {'#text': 'https://lastfm.freetls.fastly.net/i/u/300x300/2a96cbd8b46e442fc41c2b86b821562f.png', 'size': 'extralarge'}, {'#text': 'https://lastfm.freetls.fastly.net/i/u/300x300/2a96cbd8b46e442fc41c2b86b821562f.png', 'size': 'mega'}, {'#text': 'https://lastfm.freetls.fastly.net/i/u/300x300/2a96cbd8b46e442fc41c2b86b821562f.png', 'size': ''}]}, {'name': 'Wolfgang Amadeus Mozart', 'url': 'https://www.last.fm/music/Wolfgang+Amadeus+Mozart', 'image': [{'#text': 'https://lastfm.freetls.fastly.net/i/u/34s/2a96cbd8b46e442fc41c2b86b821562f.png', 'size': 'small'}, {'#text': 'https://lastfm.freetls.fastly.net/i/u/64s/2a96cbd8b46e442fc41c2b86b821562f.png', 'size': 'medium'}, {'#text': 'https://lastfm.freetls.fastly.net/i/u/174s/2a96cbd8b46e442fc41c2b86b821562f.png', 'size': 'large'}, {'#text': 'https://lastfm.freetls.fastly.net/i/u/300x300/2a96cbd8b46e442fc41c2b86b821562f.png', 'size': 'extralarge'}, {'#text': 'https://lastfm.freetls.fastly.net/i/u/300x300/2a96cbd8b46e442fc41c2b86b821562f.png', 'size': 'mega'}, {'#text': 'https://lastfm.freetls.fastly.net/i/u/300x300/2a96cbd8b46e442fc41c2b86b821562f.png', 'size': ''}]}, {'name': 'Georg Friedrich Händel', 'url': 'https://www.last.fm/music/Georg+Friedrich+H%C3%A4ndel', 'image': [{'#text': 'https://lastfm.freetls.fastly.net/i/u/34s/2a96cbd8b46e442fc41c2b86b821562f.png', 'size': 'small'}, {'#text': 'https://lastfm.freetls.fastly.net/i/u/64s/2a96cbd8b46e442fc41c2b86b821562f.png', 'size': 'medium'}, {'#text': 'https://lastfm.freetls.fastly.net/i/u/174s/2a96cbd8b46e442fc41c2b86b821562f.png', 'size': 'large'}, {'#text': 'https://lastfm.freetls.fastly.net/i/u/300x300/2a96cbd8b46e442fc41c2b86b821562f.png', 'size': 'extralarge'}, {'#text': 'https://lastfm.freetls.fastly.net/i/u/300x300/2a96cbd8b46e442fc41c2b86b821562f.png', 'size': 'mega'}, {'#text': 'https://lastfm.freetls.fastly.net/i/u/300x300/2a96cbd8b46e442fc41c2b86b821562f.png', 'size': ''}]}, {'name': 'Franz Schubert', 'url': 'https://www.last.fm/music/Franz+Schubert', 'image': [{'#text': 'https://lastfm.freetls.fastly.net/i/u/34s/2a96cbd8b46e442fc41c2b86b821562f.png', 'size': 'small'}, {'#text': 'https://lastfm.freetls.fastly.net/i/u/64s/2a96cbd8b46e442fc41c2b86b821562f.png', 'size': 'medium'}, {'#text': 'https://lastfm.freetls.fastly.net/i/u/174s/2a96cbd8b46e442fc41c2b86b821562f.png', 'size': 'large'}, {'#text': 'https://lastfm.freetls.fastly.net/i/u/300x300/2a96cbd8b46e442fc41c2b86b821562f.png', 'size': 'extralarge'}, {'#text': 'https://lastfm.freetls.fastly.net/i/u/300x300/2a96cbd8b46e442fc41c2b86b821562f.png', 'size': 'mega'}, {'#text': 'https://lastfm.freetls.fastly.net/i/u/300x300/2a96cbd8b46e442fc41c2b86b821562f.png', 'size': ''}]}, {'name': 'Johannes Brahms', 'url': 'https://www.last.fm/music/Johannes+Brahms', 'image': [{'#text': 'https://lastfm.freetls.fastly.net/i/u/34s/2a96cbd8b46e442fc41c2b86b821562f.png', 'size': 'small'}, {'#text': 'https://lastfm.freetls.fastly.net/i/u/64s/2a96cbd8b46e442fc41c2b86b821562f.png', 'size': 'medium'}, {'#text': 'https://lastfm.freetls.fastly.net/i/u/174s/2a96cbd8b46e442fc41c2b86b821562f.png', 'size': 'large'}, {'#text': 'https://lastfm.freetls.fastly.net/i/u/300x300/2a96cbd8b46e442fc41c2b86b821562f.png', 'size': 'extralarge'}, {'#text': 'https://lastfm.freetls.fastly.net/i/u/300x300/2a96cbd8b46e442fc41c2b86b821562f.png', 'size': 'mega'}, {'#text': 'https://lastfm.freetls.fastly.net/i/u/300x300/2a96cbd8b46e442fc41c2b86b821562f.png', 'size': ''}]}]}, 'tags': {'tag': [{'name': 'Classical', 'url': 'https://www.last.fm/tag/Classical'}, {'name': 'baroque', 'url': 'https://www.last.fm/tag/baroque'}, {'name': 'instrumental', 'url': 'https://www.last.fm/tag/instrumental'}, {'name': 'composers', 'url': 'https://www.last.fm/tag/composers'}, {'name': 'german', 'url': 'https://www.last.fm/tag/german'}]}, 'bio': {'links': {'link': {'#text': '', 'rel': 'original', 'href': 'https://last.fm/music/Johann+Sebastian+Bach/+wiki'}}, 'published': '11 Feb 2006, 23:03', 'summary': 'Johann Sebastian Bach (31 March 1685 – 28 July 1750) was a German composer and musician of the late Baroque period. He composed a wide range of music across various instruments and forms, including orchestral works such as the Brandenburg Concertos; solo instrumental pieces like the cello suites and the sonatas and partitas for solo violin; keyboard compositions including the Goldberg Variations and The Well-Tempered Clavier; organ works such as <a href=\"https://www.last.fm/music/Johann+Sebastian+Bach\">Read more on Last.fm</a>', 'content': 'Johann Sebastian Bach (31 March 1685 – 28 July 1750) was a German composer and musician of the late Baroque period. He composed a wide range of music across various instruments and forms, including orchestral works such as the Brandenburg Concertos; solo instrumental pieces like the cello suites and the sonatas and partitas for solo violin; keyboard compositions including the Goldberg Variations and The Well-Tempered Clavier; organ works such as the Schübler Chorales and the Toccata and Fugue in D minor; and choral music including the St Matthew Passion and the Mass in B minor. Since the 19th century, Bach has been recognised as an influential figure in Western classical music.\\n\\nBach was born into a family with several musicians. After becoming an orphan at the age of 10, he lived with his eldest brother Johann Christoph and continued his musical studies in Lüneburg. He returned to Thuringia in 1703, working in various positions for Protestant churches in Arnstadt and Mühlhausen, and later at courts in Weimar and Köthen. In 1723, he was appointed cantor at St Thomas Church in Leipzig, where he composed for local churches and the university\\'s student ensemble Collegium Musicum. He began publishing keyboard and organ music in 1726. During his career, Bach experienced some difficulties in his professional relationships. In 1736, Augustus III of Poland granted him the title of court composer. In his later years, Bach revised and expanded many earlier works. He died in 1750 following complications from eye surgery. Bach had 20 children with two wives, Maria Barbara and Anna Magdalena, with 10 surviving into adulthood. Four of his sons became composers.\\n\\nBach\\'s work incorporates German musical traditions and techniques such as counterpoint, harmonic and motivic organisation, and includes influences from Italian and French music. His output comprises hundreds of cantatas, both sacred and secular, as well as Latin church music, Passions, oratorios, and motets. He frequently used Lutheran hymns in his vocal music, including four-part chorales and sacred songs. His compositions cover organ and other keyboard instruments, concertos for violin and harpsichord, and chamber and orchestral suites. His music often employs contrapuntal methods such as canon and fugue.\\n\\nDuring the 18th century, Bach was mainly known as an organist, and his keyboard works, such as The Well-Tempered Clavier, were valued for their educational aspects. The 19th century brought renewed interest in his music, with biographies published and his complete works printed. Scholarship on Bach has continued through dedicated periodicals, catalogues such as the Bach-Werke-Verzeichnis, and critical editions. His music has been popularised through arrangements like \"Air on the G String\" and \"Jesu, Joy of Man\\'s Desiring,\" as well as recordings, including complete collections released for the 250th anniversary of his death. <a href=\"https://www.last.fm/music/Johann+Sebastian+Bach\">Read more on Last.fm</a>. User-contributed text is available under the Creative Commons By-SA License; additional terms may apply.'}}}\n"
     ]
    }
   ],
   "source": [
    "biografia = bio('Johann Sebastian Bach', api_key)"
   ]
  },
  {
   "cell_type": "code",
   "execution_count": 38,
   "id": "f5171050",
   "metadata": {},
   "outputs": [
    {
     "data": {
      "text/plain": [
       "dict_keys(['artist'])"
      ]
     },
     "execution_count": 38,
     "metadata": {},
     "output_type": "execute_result"
    }
   ],
   "source": [
    "biografia.keys()"
   ]
  },
  {
   "cell_type": "code",
   "execution_count": 39,
   "id": "66fb382d",
   "metadata": {},
   "outputs": [
    {
     "data": {
      "text/plain": [
       "'Johann Sebastian Bach (31 March 1685 – 28 July 1750) was a German composer and musician of the late Baroque period. He composed a wide range of music across various instruments and forms, including orchestral works such as the Brandenburg Concertos; solo instrumental pieces like the cello suites and the sonatas and partitas for solo violin; keyboard compositions including the Goldberg Variations and The Well-Tempered Clavier; organ works such as <a href=\"https://www.last.fm/music/Johann+Sebastian+Bach\">Read more on Last.fm</a>'"
      ]
     },
     "execution_count": 39,
     "metadata": {},
     "output_type": "execute_result"
    }
   ],
   "source": [
    "biografia['artist']['bio']['summary']"
   ]
  }
 ],
 "metadata": {
  "kernelspec": {
   "display_name": "base",
   "language": "python",
   "name": "python3"
  },
  "language_info": {
   "codemirror_mode": {
    "name": "ipython",
    "version": 3
   },
   "file_extension": ".py",
   "mimetype": "text/x-python",
   "name": "python",
   "nbconvert_exporter": "python",
   "pygments_lexer": "ipython3",
   "version": "3.12.7"
  }
 },
 "nbformat": 4,
 "nbformat_minor": 5
}
