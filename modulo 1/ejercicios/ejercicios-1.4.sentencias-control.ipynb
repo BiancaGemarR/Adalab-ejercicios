{
 "cells": [
  {
   "cell_type": "markdown",
   "id": "77262f51",
   "metadata": {},
   "source": [
    "Sentencias de control\n"
   ]
  },
  {
   "cell_type": "code",
   "execution_count": 1,
   "id": "dc115595",
   "metadata": {},
   "outputs": [],
   "source": [
    "var1 = 8\n",
    "var2 = 2\n",
    "var3 = 8"
   ]
  },
  {
   "cell_type": "code",
   "execution_count": 2,
   "id": "ba7e74d1",
   "metadata": {},
   "outputs": [
    {
     "name": "stdout",
     "output_type": "stream",
     "text": [
      "¡Es enorme!\n"
     ]
    }
   ],
   "source": [
    "if var1 > 6:\n",
    "    print(\"¡Es enorme!\")"
   ]
  },
  {
   "cell_type": "code",
   "execution_count": 3,
   "id": "01259ce2",
   "metadata": {},
   "outputs": [],
   "source": [
    "if var2 > 6:\n",
    "    print(\"¡Es enorme también!\")"
   ]
  },
  {
   "cell_type": "code",
   "execution_count": 4,
   "id": "2126ece4",
   "metadata": {},
   "outputs": [
    {
     "name": "stdout",
     "output_type": "stream",
     "text": [
      "¡Es enorme!\n",
      "¡pero de verdad\n"
     ]
    }
   ],
   "source": [
    "if var3 > 6:\n",
    "    print(\"¡Es enorme!\")\n",
    "    print(\"¡pero de verdad\")"
   ]
  },
  {
   "cell_type": "code",
   "execution_count": 5,
   "id": "f8389289",
   "metadata": {},
   "outputs": [
    {
     "name": "stdout",
     "output_type": "stream",
     "text": [
      "son iguales\n"
     ]
    }
   ],
   "source": [
    "if var1 == var3:\n",
    "    print(\"son iguales\")\n"
   ]
  },
  {
   "cell_type": "code",
   "execution_count": 6,
   "id": "fb8843be",
   "metadata": {},
   "outputs": [],
   "source": [
    "if var1 == var2:\n",
    "    print(\"son iguales\")"
   ]
  },
  {
   "cell_type": "markdown",
   "id": "adca9ade",
   "metadata": {},
   "source": [
    "No devuelve el print porque la sentencia es falsa"
   ]
  },
  {
   "cell_type": "code",
   "execution_count": 7,
   "id": "48a0b507",
   "metadata": {},
   "outputs": [
    {
     "name": "stdout",
     "output_type": "stream",
     "text": [
      "La diferencia es dif\n"
     ]
    }
   ],
   "source": [
    "if var1 >= var2:\n",
    "    dif = var1 - var2\n",
    "    print(\"La diferencia es dif\")"
   ]
  },
  {
   "cell_type": "code",
   "execution_count": 8,
   "id": "a2b11d04",
   "metadata": {},
   "outputs": [
    {
     "name": "stdout",
     "output_type": "stream",
     "text": [
      "¡Es enorme!\n"
     ]
    }
   ],
   "source": [
    "if var1 > 6:\n",
    "    print(\"¡Es enorme!\")\n",
    "else:\n",
    "    print(\"Es chiquirritín\")"
   ]
  },
  {
   "cell_type": "code",
   "execution_count": 9,
   "id": "310628f6",
   "metadata": {},
   "outputs": [
    {
     "name": "stdout",
     "output_type": "stream",
     "text": [
      "Es chiquirritín también\n"
     ]
    }
   ],
   "source": [
    "if var2 > 6:\n",
    "    print(\"¡Es enorme también!\")\n",
    "else:\n",
    "    print(\"Es chiquirritín también\")"
   ]
  },
  {
   "cell_type": "code",
   "execution_count": 10,
   "id": "6f827a21",
   "metadata": {},
   "outputs": [
    {
     "name": "stdout",
     "output_type": "stream",
     "text": [
      "son iguales\n"
     ]
    }
   ],
   "source": [
    "if var1 == var3:\n",
    "    print(\"son iguales\")\n",
    "else:\n",
    "    print(\"son distintos\")"
   ]
  },
  {
   "cell_type": "code",
   "execution_count": 11,
   "id": "f4db91bf",
   "metadata": {},
   "outputs": [
    {
     "name": "stdout",
     "output_type": "stream",
     "text": [
      "son distintos\n"
     ]
    }
   ],
   "source": [
    "if var1 == var2:\n",
    "    print(\"son iguales\")\n",
    "else:\n",
    "    print(\"son distintos\")"
   ]
  },
  {
   "cell_type": "markdown",
   "id": "becf672a",
   "metadata": {},
   "source": [
    "programa sala de juegos"
   ]
  },
  {
   "cell_type": "code",
   "execution_count": null,
   "id": "055e18e0",
   "metadata": {},
   "outputs": [
    {
     "name": "stdout",
     "output_type": "stream",
     "text": [
      "18\n",
      "Debe pagar 10 €\n"
     ]
    }
   ],
   "source": [
    "#preguntar edad del cliente\n",
    "\n",
    "age = int(input())\n",
    "print(age)\n",
    "\n",
    "#crear condiciones\n",
    "if age <= 4:\n",
    "    print(\"Puede entrar gratis\")\n",
    "elif age <= 17:\n",
    "    print(\"Debe pagar 5€\")\n",
    "else:\n",
    "    print(\"Debe pagar 10 €\")\n",
    "\n"
   ]
  },
  {
   "cell_type": "code",
   "execution_count": null,
   "id": "1d83849e",
   "metadata": {},
   "outputs": [
    {
     "name": "stdout",
     "output_type": "stream",
     "text": [
      "cantidad: 5\n",
      "cantidad: 10\n",
      "cantidad: 15\n",
      "cantidad: 20\n"
     ]
    }
   ],
   "source": [
    "ahorros = 5\n",
    "while ahorros <= 20:\n",
    "    print(\"cantidad:\", ahorros)\n",
    "    ahorros += 5"
   ]
  },
  {
   "cell_type": "code",
   "execution_count": null,
   "id": "857c6430",
   "metadata": {},
   "outputs": [],
   "source": [
    "Farenheit = float((Celsius * 1.8) + 32)"
   ]
  },
  {
   "cell_type": "code",
   "execution_count": 7,
   "id": "ef24ffdf",
   "metadata": {},
   "outputs": [
    {
     "name": "stdout",
     "output_type": "stream",
     "text": [
      "La temperatura en Celsius es: -17.77777777777778\n"
     ]
    }
   ],
   "source": [
    "tipo = (input(\"inserta aquí el tipo de temperatura inicial, Celsius o Farenheit\"))\n",
    "temperature_value = float(input(\"inserta el valor de la temperatura\"))\n",
    "\n",
    "\n",
    "if tipo == 'Celsius':\n",
    "    Farenheit = (temperature_value * 1.8) + 32\n",
    "    print(F\"La temperatura en Farenheit es:\", Farenheit)\n",
    "else:\n",
    "    celsius = (temperature_value - 32) / 1.8\n",
    "    print(F\"La temperatura en Celsius es:\", celsius)\n",
    "\n"
   ]
  },
  {
   "cell_type": "markdown",
   "id": "ee48f5a9",
   "metadata": {},
   "source": [
    "#ejercicio impuesto sobre la renta\n",
    "\n",
    "ingreso_anual = input(\"inserta tu salario anual)\n",
    "\n"
   ]
  },
  {
   "cell_type": "code",
   "execution_count": null,
   "id": "9c8dddc4",
   "metadata": {},
   "outputs": [
    {
     "name": "stdout",
     "output_type": "stream",
     "text": [
      "Este es tu salario en bruto: 25000\n",
      "Este es tu estado civil: c\n",
      "Tus impuestos a pagar son: 2223.2\n"
     ]
    }
   ],
   "source": [
    "# ejercicio impuesto sobre la renta\n",
    "ingreso_anual = int(input(\"Inserta tu salario en bruto\"))\n",
    "print(\"Este es tu salario en bruto:\", ingreso_anual)\n",
    "\n",
    "estado_civil = input(\"inserta tu estado civil: (S) para soltero y (C) para casado.\")\n",
    "print(\"Este es tu estado civil:\", estado_civil)\n",
    "\n",
    "if estado_civil == 's':\n",
    "    if ingreso_anual <= 9875: \n",
    "        print(\"Tus impuestos a pagar son:\", (ingreso_anual * 0.10))\n",
    "    elif 9876 <= ingreso_anual <= 40125:\n",
    "        print(\"Tus impuestos a pagar son:\", ((9875 * 0.10) + ((9875 * 0.10) * 0.12)))\n",
    "\n",
    "elif estado_civil == 'c':\n",
    "    if ingreso_anual <= 19850: \n",
    "        print(\"Tus impuestos a pagar son:\", (ingreso_anual * 0.10))\n",
    "    elif 19850 <= ingreso_anual <= 80250:\n",
    "        print(\"Tus impuestos a pagar son:\", ((19850 * 0.10) + ((19850 * 0.10) * 0.12)))\n",
    "else:\n",
    "    print('Eres una precaria y por eso no pagas impuestos')\n",
    "\n",
    "              "
   ]
  },
  {
   "cell_type": "markdown",
   "id": "b2c918ff",
   "metadata": {},
   "source": [
    "Crear programa nivel contaminación"
   ]
  },
  {
   "cell_type": "code",
   "execution_count": 55,
   "id": "16495a7d",
   "metadata": {},
   "outputs": [
    {
     "name": "stdout",
     "output_type": "stream",
     "text": [
      "Esta es la concentracion en PM2.5 insertada 160.0\n",
      "Condiciones no favorables\n"
     ]
    }
   ],
   "source": [
    "concentracion_aire = float(input(\"Inserta los niveles de  PM2.5\"))\n",
    "print(\"Esta es la concentracion en PM2.5 insertada\", concentracion_aire)\n",
    "\n",
    "if 0 > concentracion_aire:\n",
    "    print(\"Error: número no válido\")\n",
    "elif concentracion_aire <= 12:\n",
    "    print(\"Condición: Excelente\")\n",
    "elif 13 <= concentracion_aire <= 35:\n",
    "    print(\"Condición: Buena\")\n",
    "elif 36 <= concentracion_aire <= 55:\n",
    "    print(\"Condición: Aceptable\")\n",
    "elif 56 <= concentracion_aire <= 150:\n",
    "    print(\"Condición: No saludable para grupos sensibles\")\n",
    "else:\n",
    "    print( \"Condiciones no favorables\")\n",
    "\n",
    "\n",
    "\n"
   ]
  }
 ],
 "metadata": {
  "kernelspec": {
   "display_name": "base",
   "language": "python",
   "name": "python3"
  },
  "language_info": {
   "codemirror_mode": {
    "name": "ipython",
    "version": 3
   },
   "file_extension": ".py",
   "mimetype": "text/x-python",
   "name": "python",
   "nbconvert_exporter": "python",
   "pygments_lexer": "ipython3",
   "version": "3.12.7"
  }
 },
 "nbformat": 4,
 "nbformat_minor": 5
}
