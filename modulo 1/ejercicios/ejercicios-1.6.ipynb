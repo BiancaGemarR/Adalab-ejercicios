{
 "cells": [
  {
   "cell_type": "markdown",
   "id": "a0c427aa",
   "metadata": {},
   "source": [
    "1. Escribe una función que reciba una cadena de texto como parámetro y devuelva un diccionario con las frecuencias de cada letra en la cadena. Los espacios no deben ser considerados."
   ]
  },
  {
   "cell_type": "code",
   "execution_count": null,
   "id": "44a481e0",
   "metadata": {},
   "outputs": [
    {
     "name": "stdout",
     "output_type": "stream",
     "text": [
      "{}\n"
     ]
    }
   ],
   "source": [
    "cadena = 'Los cactus con flores florecen ahora'\n",
    "frecuencia = {}\n",
    "def contar(cadena):\n",
    "    for letra in cadena:\n",
    "        frecuencia[letra] = frecuencia.get(letra, 0)\n",
    "        frecuencia.append(letra)\n",
    "        return frecuencia\n",
    "print(frecuencia)\n",
    "#da error "
   ]
  },
  {
   "cell_type": "code",
   "execution_count": 1,
   "id": "f62d5593",
   "metadata": {},
   "outputs": [],
   "source": [
    "#solución # clase\n",
    "frase = 'Los cactus con flores florecen ahora'\n",
    "dic_letras = {}\n",
    "dic_letras['a'] = frase.count('a')\n"
   ]
  },
  {
   "cell_type": "code",
   "execution_count": 4,
   "id": "6423e4ee",
   "metadata": {},
   "outputs": [
    {
     "data": {
      "text/plain": [
       "{'a': 3}"
      ]
     },
     "execution_count": 4,
     "metadata": {},
     "output_type": "execute_result"
    }
   ],
   "source": [
    "dic_letras"
   ]
  },
  {
   "cell_type": "code",
   "execution_count": 6,
   "id": "4386126c",
   "metadata": {},
   "outputs": [
    {
     "data": {
      "text/plain": [
       "{'a': 3,\n",
       " 'L': 1,\n",
       " 'o': 5,\n",
       " 's': 3,\n",
       " ' ': 5,\n",
       " 'c': 4,\n",
       " 't': 1,\n",
       " 'u': 1,\n",
       " 'n': 2,\n",
       " 'f': 2,\n",
       " 'l': 2,\n",
       " 'r': 3,\n",
       " 'e': 3,\n",
       " 'h': 1}"
      ]
     },
     "execution_count": 6,
     "metadata": {},
     "output_type": "execute_result"
    }
   ],
   "source": [
    "for letra in frase:\n",
    "    dic_letras[letra] = frase.count(letra)\n",
    "\n",
    "dic_letras"
   ]
  },
  {
   "cell_type": "code",
   "execution_count": null,
   "id": "adf4bd22",
   "metadata": {},
   "outputs": [
    {
     "data": {
      "text/plain": [
       "{'L': 1,\n",
       " 'o': 5,\n",
       " 's': 3,\n",
       " ' ': 5,\n",
       " 'c': 4,\n",
       " 'a': 3,\n",
       " 't': 1,\n",
       " 'u': 1,\n",
       " 'n': 2,\n",
       " 'f': 2,\n",
       " 'l': 2,\n",
       " 'r': 3,\n",
       " 'e': 3,\n",
       " 'h': 1}"
      ]
     },
     "execution_count": 15,
     "metadata": {},
     "output_type": "execute_result"
    }
   ],
   "source": [
    "#solución clase final\n",
    "frase = 'Los cactus con flores florecen ahora'\n",
    "def contar_letras(frase):\n",
    "    dic_letras = {}\n",
    "\n",
    "    for letra in frase:\n",
    "        if letra != '':\n",
    "            dic_letras[letra] = frase.count(letra)\n",
    "        else:\n",
    "            pass\n",
    "    return dic_letras\n",
    "\n",
    "contar_letras(frase)"
   ]
  },
  {
   "cell_type": "markdown",
   "id": "636990aa",
   "metadata": {},
   "source": [
    "2. Escribe una función que reciba una cadena de texto como parámetro y devuelva una lista con todas las palabras que tienen más de 5 letras."
   ]
  },
  {
   "cell_type": "code",
   "execution_count": 7,
   "id": "e6bc9b89",
   "metadata": {},
   "outputs": [
    {
     "name": "stdout",
     "output_type": "stream",
     "text": [
      "['mejores', 'animales']\n"
     ]
    }
   ],
   "source": [
    "cadena = 'los gatos son los mejores animales'\n",
    "\n",
    "def new_list(cadena):\n",
    "    palabras = cadena.split()\n",
    "    resultado = [palabra for palabra in palabras if len(palabra) > 5]\n",
    "    return resultado\n",
    "print(new_list(cadena))\n"
   ]
  },
  {
   "cell_type": "markdown",
   "id": "4f444987",
   "metadata": {},
   "source": [
    "3. Crea una función que tome una lista de palabras como entrada y devuelva una lista de palabras que contengan más de una vocal."
   ]
  },
  {
   "cell_type": "code",
   "execution_count": 11,
   "id": "7941d190",
   "metadata": {},
   "outputs": [
    {
     "name": "stdout",
     "output_type": "stream",
     "text": [
      "['los', 'gatos', 'son', 'los', 'mejores', 'animales']\n"
     ]
    }
   ],
   "source": [
    "lista = ['lavanda', 'petunia', 'amapola', 'calanchoe', 'mar', 'sol']\n",
    "vocal = 'aeiou'\n",
    "def lista_vocal(lista):\n",
    "    palabras = cadena.split()\n",
    "    resultado = [palabra for palabra in palabras if sum(1 for letra in palabra if letra in vocal)]\n",
    "    return resultado\n",
    "\n",
    "print(lista_vocal(lista))"
   ]
  },
  {
   "cell_type": "markdown",
   "id": "1d00b958",
   "metadata": {},
   "source": [
    "4. Crea una función que tome una lista de números y calcule la suma de todos los números pares en la lista."
   ]
  },
  {
   "cell_type": "code",
   "execution_count": 18,
   "id": "e38fb2de",
   "metadata": {},
   "outputs": [
    {
     "name": "stdout",
     "output_type": "stream",
     "text": [
      "220\n"
     ]
    }
   ],
   "source": [
    "lista_num = [1, 22, 3, 44, 5, 66, 7 , 88 , 9, 111]\n",
    "def suma_pares(lista_num):\n",
    "    suma = 0\n",
    "    for number in lista_num:\n",
    "        if number % 2 == 0:\n",
    "            suma += number\n",
    "    return suma\n",
    "print(suma_pares(lista_num))"
   ]
  },
  {
   "cell_type": "markdown",
   "id": "9d9a3491",
   "metadata": {},
   "source": [
    "5. \n",
    "Escribe una función que tome una lista de números como entrada y calcule el promedio de esos números."
   ]
  },
  {
   "cell_type": "code",
   "execution_count": null,
   "id": "d2891b08",
   "metadata": {},
   "outputs": [
    {
     "name": "stdout",
     "output_type": "stream",
     "text": [
      "35.6\n"
     ]
    }
   ],
   "source": [
    "lista_num = [1, 22, 3, 44, 5, 66, 7 , 88 , 9, 111]\n",
    "def promedio(lista_num):\n",
    "    if len(lista_num) != 0:\n",
    "        return sum(lista_num) / len(lista_num)\n",
    "\n",
    "print(promedio(lista_num))\n"
   ]
  },
  {
   "cell_type": "code",
   "execution_count": 21,
   "id": "edff177b",
   "metadata": {},
   "outputs": [
    {
     "name": "stdout",
     "output_type": "stream",
     "text": [
      "35.6\n"
     ]
    }
   ],
   "source": [
    "#solución chat gpt\n",
    "lista_num = [1, 22, 3, 44, 5, 66, 7, 88, 9, 111]\n",
    "\n",
    "def promedio(lista_num):\n",
    "    if len(lista_num) == 0:\n",
    "        return 0  # O puedes devolver None si prefieres indicar que no hay promedio\n",
    "    return sum(lista_num) / len(lista_num)\n",
    "\n",
    "print(promedio(lista_num))"
   ]
  },
  {
   "cell_type": "markdown",
   "id": "fee78f4c",
   "metadata": {},
   "source": [
    "6. Crea una función que determine el próximo año en el que las cifras del año de tu cumpleaños no se repitan. La función toma un año de tu cumpleaños como entrada y calcula el próximo año en el que las cifras no se repitan, es decir, todas las cifras en el año son diferentes entre sí."
   ]
  },
  {
   "cell_type": "code",
   "execution_count": 6,
   "id": "3c30c30a",
   "metadata": {},
   "outputs": [
    {
     "name": "stdout",
     "output_type": "stream",
     "text": [
      "<function proxima_fecha_unica at 0x0000022FBAE41B20>\n"
     ]
    }
   ],
   "source": [
    "fecha = ['24', '04', '1994']\n",
    "def proxima_fecha_unica(fecha):\n",
    "    year += 1\n",
    "    for n in fecha:\n",
    "        if n not in proxima_fecha_unica:\n",
    "            proxima_fecha_unica.append(n)\n",
    "        else:\n",
    "            print(\"ya está en la lista\")\n",
    "print(proxima_fecha_unica)\n"
   ]
  },
  {
   "cell_type": "code",
   "execution_count": 4,
   "id": "a15d7dcc",
   "metadata": {},
   "outputs": [
    {
     "ename": "TypeError",
     "evalue": "'function' object is not iterable",
     "output_type": "error",
     "traceback": [
      "\u001b[1;31m---------------------------------------------------------------------------\u001b[0m",
      "\u001b[1;31mTypeError\u001b[0m                                 Traceback (most recent call last)",
      "Cell \u001b[1;32mIn[4], line 2\u001b[0m\n\u001b[0;32m      1\u001b[0m fecha \u001b[38;5;241m=\u001b[39m [\u001b[38;5;124m'\u001b[39m\u001b[38;5;124m24\u001b[39m\u001b[38;5;124m'\u001b[39m, \u001b[38;5;124m'\u001b[39m\u001b[38;5;124m04\u001b[39m\u001b[38;5;124m'\u001b[39m, \u001b[38;5;124m'\u001b[39m\u001b[38;5;124m1994\u001b[39m\u001b[38;5;124m'\u001b[39m]\n\u001b[1;32m----> 2\u001b[0m \u001b[38;5;28mprint\u001b[39m(\u001b[38;5;28mlist\u001b[39m(\u001b[38;5;28mset\u001b[39m(proxima_fecha_unica)))\n",
      "\u001b[1;31mTypeError\u001b[0m: 'function' object is not iterable"
     ]
    }
   ],
   "source": [
    "fecha = ['24', '04', '1994']\n",
    "print(list(set(proxima_fecha_unica)))"
   ]
  },
  {
   "cell_type": "code",
   "execution_count": null,
   "id": "657bdd08",
   "metadata": {},
   "outputs": [],
   "source": [
    "def cumpleaños(año):\n",
    "    felicidades = año + 1\n",
    "    \n",
    "    while len(set(str(felicidades))) != 4:\n",
    "        felicidades += 1\n",
    "    return felicidades"
   ]
  },
  {
   "cell_type": "markdown",
   "id": "86bcbbe0",
   "metadata": {},
   "source": [
    "7. Crea una función que determine cuántos pasteles puedes hornear según una receta y los ingredientes disponibles. La función toma dos diccionarios como entrada: receta, que contiene los ingredientes necesarios para un pastel, y disponible, que contiene la cantidad disponible de cada ingrediente. Sus parámetros de entrada son:\n",
    "\n",
    "receta: Un diccionario que representa los ingredientes necesarios para un pastel, donde las claves son los nombres de los ingredientes y los valores son las cantidades necesarias de cada ingrediente.\n",
    "\n",
    "disponible: Un diccionario que representa la cantidad disponible de cada ingrediente, donde las claves son los nombres de los ingredientes y los valores son las cantidades disponibles."
   ]
  },
  {
   "cell_type": "code",
   "execution_count": 43,
   "id": "b575908e",
   "metadata": {},
   "outputs": [
    {
     "ename": "NameError",
     "evalue": "name 'ingrediente' is not defined",
     "output_type": "error",
     "traceback": [
      "\u001b[1;31m---------------------------------------------------------------------------\u001b[0m",
      "\u001b[1;31mNameError\u001b[0m                                 Traceback (most recent call last)",
      "Cell \u001b[1;32mIn[43], line 15\u001b[0m\n\u001b[0;32m     13\u001b[0m     pasteles\u001b[38;5;241m.\u001b[39mappend(pasteles)\n\u001b[0;32m     14\u001b[0m     \u001b[38;5;28;01mreturn\u001b[39;00m pasteles\n\u001b[1;32m---> 15\u001b[0m \u001b[38;5;28mprint\u001b[39m(pasteles(receta, ingredientes))\n",
      "Cell \u001b[1;32mIn[43], line 9\u001b[0m, in \u001b[0;36mpasteles\u001b[1;34m(receta, ingredientes)\u001b[0m\n\u001b[0;32m      7\u001b[0m \u001b[38;5;28;01mdef\u001b[39;00m \u001b[38;5;21mpasteles\u001b[39m(receta, ingredientes):\n\u001b[0;32m      8\u001b[0m     \u001b[38;5;28;01mfor\u001b[39;00m ingredientes, cantidad \u001b[38;5;129;01min\u001b[39;00m receta\u001b[38;5;241m.\u001b[39mitems():\n\u001b[1;32m----> 9\u001b[0m         \u001b[38;5;28;01mif\u001b[39;00m ingrediente \u001b[38;5;129;01mnot\u001b[39;00m \u001b[38;5;129;01min\u001b[39;00m ingredientes:\n\u001b[0;32m     10\u001b[0m             \u001b[38;5;28;01mreturn\u001b[39;00m \u001b[38;5;241m0\u001b[39m\n\u001b[0;32m     11\u001b[0m     cantidad_disponible \u001b[38;5;241m=\u001b[39m ingredientes[ingrediente]\n",
      "\u001b[1;31mNameError\u001b[0m: name 'ingrediente' is not defined"
     ]
    }
   ],
   "source": [
    "receta = {'flour': 500, 'sugar': 200, 'eggs': 1}\n",
    "ingredientes = {'flour': 1200, 'sugar': 1200, 'eggs': 5, 'milk': 200}\n",
    "\n",
    "pasteles = []\n",
    "# output: con estos ingredientes solo puedo hacer 2 bizcochos\n",
    "\n",
    "def pasteles(receta, ingredientes):\n",
    "    for ingredientes, cantidad in receta.items():\n",
    "        if ingrediente not in ingredientes:\n",
    "            return 0\n",
    "    cantidad_disponible = ingredientes[ingrediente]\n",
    "    pasteles = cantidad_disponible // cantidad\n",
    "    pasteles.append(pasteles)\n",
    "    return pasteles\n",
    "print(pasteles(receta, ingredientes))   \n"
   ]
  },
  {
   "cell_type": "markdown",
   "id": "b1f1ec99",
   "metadata": {},
   "source": [
    "8. fibonacci"
   ]
  },
  {
   "cell_type": "code",
   "execution_count": 41,
   "id": "826d709f",
   "metadata": {},
   "outputs": [
    {
     "name": "stdout",
     "output_type": "stream",
     "text": [
      "[1, 1, 2, 3, 5, 8, 13, 21, 34, 55, 89, 144]\n"
     ]
    }
   ],
   "source": [
    "\n",
    "def fibonacci():\n",
    "    secuencia = []\n",
    "    num1, num2 = 0, 1\n",
    "    while num1 <100:\n",
    "        num1, num2 = num2, num1 + num2\n",
    "        secuencia.append(num1)\n",
    "    return secuencia\n",
    "print(fibonacci())\n"
   ]
  },
  {
   "cell_type": "markdown",
   "id": "99a71d43",
   "metadata": {},
   "source": [
    "Funciones con parámetros\n"
   ]
  },
  {
   "cell_type": "markdown",
   "id": "842d29e9",
   "metadata": {},
   "source": [
    "1. Crea una función que tome un número arbitrario de cadenas de texto como argumentos y devuelva una cadena de texto que sea la concatenación de todas ellas."
   ]
  },
  {
   "cell_type": "code",
   "execution_count": 53,
   "id": "5b0f5484",
   "metadata": {},
   "outputs": [
    {
     "name": "stdout",
     "output_type": "stream",
     "text": [
      " 1 200 354 25 68 4\n"
     ]
    }
   ],
   "source": [
    "cadena =' 1 200 354 25 68 4'\n",
    "\n",
    "def concatenar(*cadena):\n",
    "    return ''.join(cadena)\n",
    "    \n",
    "print(concatenar(cadena))"
   ]
  },
  {
   "cell_type": "markdown",
   "id": "6b98a61f",
   "metadata": {},
   "source": [
    "2. \n",
    "Crea una función que tome un número arbitrario de argumentos y devuelva el producto de todos ellos."
   ]
  },
  {
   "cell_type": "markdown",
   "id": "d1233dcb",
   "metadata": {},
   "source": []
  }
 ],
 "metadata": {
  "kernelspec": {
   "display_name": "base",
   "language": "python",
   "name": "python3"
  },
  "language_info": {
   "codemirror_mode": {
    "name": "ipython",
    "version": 3
   },
   "file_extension": ".py",
   "mimetype": "text/x-python",
   "name": "python",
   "nbconvert_exporter": "python",
   "pygments_lexer": "ipython3",
   "version": "3.12.7"
  }
 },
 "nbformat": 4,
 "nbformat_minor": 5
}
