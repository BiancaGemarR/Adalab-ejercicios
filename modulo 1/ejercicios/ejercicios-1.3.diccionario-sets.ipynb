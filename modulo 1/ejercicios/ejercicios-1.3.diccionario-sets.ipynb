{
 "cells": [
  {
   "cell_type": "markdown",
   "id": "bba772c1",
   "metadata": {},
   "source": [
    "Ejercicios diccionarios"
   ]
  },
  {
   "cell_type": "code",
   "execution_count": 3,
   "id": "f1615eb7",
   "metadata": {},
   "outputs": [
    {
     "name": "stdout",
     "output_type": "stream",
     "text": [
      "el festivo del 15/04 : Viernes Santo\n",
      "Monarcas queda sin Beatrix: {'Bélgica': 'Philippe', 'Dinamarca': 'Margrethe II', 'Holanda': ['Willem-alexander'], 'Noruega': 'Harald V', 'España': 'Felipe VI', 'Reino Unido': 'Carlos III'}\n",
      "Monarca Henri se añade: {'Bélgica': 'Philippe', 'Dinamarca': 'Margrethe II', 'Holanda': ['Willem-alexander'], 'Noruega': 'Harald V', 'España': 'Felipe VI', 'Reino Unido': 'Carlos III', 'Luxemburgo': ['Henri']}\n",
      "lista de tuplas {'1/1': 'Año Nuevo', '6/1': 'Epifanía del Señor', '15/4': 'Viernes Santo', '15/8': 'Asunción de la Virgen', '12/10': 'Fiesta Nacional de España', '1/11': 'Todos los Santos', '6/12': 'Día de la Constitución Española', '8/12': 'Inmaculada Concepción'}\n",
      "{'Bélgica': 'Philippe', 'Dinamarca': 'Margrethe II', 'Holanda': ['Willem-alexander'], 'Noruega': 'Harald V', 'España': 'Felipe VI', 'Reino Unido': 'Carlos III', 'Luxemburgo': ['Henri']}\n",
      "quitar Esp de monarcas2010: Felipe VI\n",
      "Lista monarcas sin esp: {'Bélgica': 'Philippe', 'Dinamarca': 'Margrethe II', 'Holanda': ['Willem-alexander'], 'Noruega': 'Harald V', 'Reino Unido': 'Carlos III', 'Luxemburgo': ['Henri']}\n",
      "Quitamos el último monarca: ('Luxemburgo', ['Henri'])\n",
      "monarcas sin el último; {'Bélgica': 'Philippe', 'Dinamarca': 'Margrethe II', 'Holanda': ['Willem-alexander'], 'Noruega': 'Harald V', 'Reino Unido': 'Carlos III'}\n",
      "lista vacía: {}\n",
      "el festivo del 06/01 : None\n",
      "el dia de la mujer 08/03: dia de la mujer\n",
      "el crear castanyada: Dia de todos los santos\n",
      "festivos: {'1/1': 'Año Nuevo', '6/1': 'Epifanía del Señor', '15/4': 'Viernes Santo', '15/8': 'Asunción de la Virgen', '12/10': 'Fiesta Nacional de España', '1/11': 'Todos los Santos', '6/12': 'Día de la Constitución Española', '8/12': 'Inmaculada Concepción', '8/3': 'dia de la mujer', '31/11': 'Dia de todos los santos'}\n"
     ]
    }
   ],
   "source": [
    "festivos = {'1/1': 'Año Nuevo', '6/1': 'Epifanía del Señor', '15/4': 'Viernes Santo', '15/8': 'Asunción de la Virgen', '12/10': 'Fiesta Nacional de España', '1/11': 'Todos los Santos', '6/12': 'Día de la Constitución Española', '8/12': 'Inmaculada Concepción'}\n",
    "\n",
    "monarcas = {'Bélgica': 'Philippe', 'Dinamarca': 'Margrethe II', 'Holanda' : 'Beatrix', 'Noruega': 'Harald V', 'España': 'Felipe VI', 'Reino Unido': 'Carlos III'}\n",
    "\n",
    "print(\"el festivo del 15/04 :\", festivos.get('15/4'))\n",
    "\n",
    "nuevo_monarca = {'Holanda' : ['Willem-alexander']}\n",
    "monarcas.update(nuevo_monarca)\n",
    "print(\"Monarcas queda sin Beatrix:\", monarcas)\n",
    "monarca_luxemburgo = {'Luxemburgo' : ['Henri']}\n",
    "monarcas.update(monarca_luxemburgo)\n",
    "print(\"Monarca Henri se añade:\", monarcas)\n",
    "\n",
    "diccionario_festivos = dict([('1/1', 'Año Nuevo'), ('6/1', 'Epifanía del Señor'), ('15/4', 'Viernes Santo'), ('15/8', 'Asunción de la Virgen'), ('12/10', 'Fiesta Nacional de España'), ('1/11', 'Todos los Santos'), ('6/12', 'Día de la Constitución Española'), ('8/12', 'Inmaculada Concepción')])\n",
    "print(\"lista de tuplas\", diccionario_festivos)\n",
    "\n",
    "monarcas2010 = monarcas.copy()\n",
    "print(monarcas2010)\n",
    "print(\"quitar Esp de monarcas2010:\", monarcas2010.pop('España'))\n",
    "print(\"Lista monarcas sin esp:\", monarcas2010)\n",
    "print(\"Quitamos el último monarca:\", monarcas2010.popitem())\n",
    "print(\"monarcas sin el último;\", monarcas2010)\n",
    "\n",
    "monarcas2010.clear()\n",
    "print(\"lista vacía:\", monarcas2010)\n",
    "\n",
    "print(\"el festivo del 06/01 :\", festivos.get(6/1))\n",
    "print(\"el dia de la mujer 08/03:\", festivos.setdefault('8/3', 'dia de la mujer'))\n",
    "print(\"el crear castanyada:\", festivos.setdefault('31/11', 'Dia de todos los santos'))\n",
    "print(\"festivos:\", festivos)"
   ]
  },
  {
   "cell_type": "markdown",
   "id": "5797872e",
   "metadata": {},
   "source": [
    "Ejercicios sets"
   ]
  },
  {
   "cell_type": "code",
   "execution_count": null,
   "id": "89be15be",
   "metadata": {},
   "outputs": [
    {
     "name": "stdout",
     "output_type": "stream",
     "text": [
      "[10, 10, 13, 14, 12, 15, 12, 11, 13, 17, 18, 15, 15, 17, 17, 13, 13, 11, 12, 10, 12, 14, 12, 12, 11, 12, 16, 16, 14, 17, 18]\n",
      "El set que acabo de crear sobre el color rojo: {'rojo', 'carmín', 'escarlata', 'burdeos', 'frambuesa', 'cereza'}\n",
      "Se ha añadido el lila: {'rojo', 'carmín', 'escarlata', 'lila', 'burdeos', 'frambuesa', 'cereza'}\n",
      "lista de colores actualizada: {'azul', 'burdeos', 'frambuesa', 'escarlata', 'granate', 'rojo', 'carmín', 'cereza', 'lila'}\n",
      "¿Hay verde? False\n",
      "¿Hay ROJO? False\n",
      "temperaturas enero [10, 10, 13, 14, 12, 15, 12, 11, 13, 17, 18, 15, 15, 17, 17, 13, 13, 11, 12, 10, 12, 14, 12, 12, 11, 12, 16, 16, 14, 17, 18]\n",
      "enero sin 17 ni 18: [10, 10, 13, 14, 12, 15, 12, 11, 13, 15, 15, 13, 13, 11, 12, 10, 12, 14, 12, 12, 11, 12, 16, 16, 14]\n",
      "Temperaturas distintas diciembre: 31\n",
      "Temperatuas distintas enero: 25\n",
      "las diferencias entre meses: {17, 18}\n"
     ]
    }
   ],
   "source": [
    "temperaturas_diciembre = [10, 10, 13, 14, 12, 15, \n",
    "                          12, 11, 13, 17, 18, 15, \n",
    "                          15, 17, 17, 13, 13, 11,\n",
    "                          12, 10, 12, 14, 12, 12,\n",
    "                          11, 12, 16, 16, 14, 17, 18]\n",
    "set(temperaturas_diciembre)\n",
    "print(temperaturas_diciembre)\n",
    "\n",
    "colores = {'carmín', 'burdeos', 'escarlata', 'rojo', 'frambuesa', 'cereza'}\n",
    "print(\"El set que acabo de crear sobre el color rojo:\", colores)\n",
    "\n",
    "colores.add('lila')\n",
    "print(\"Se ha añadido el lila:\", colores)\n",
    "mas_colores = ['azul', 'rojo', 'granate']\n",
    "colores.update(mas_colores)\n",
    "print(\"lista de colores actualizada:\", colores)\n",
    "\n",
    "print(\"¿Hay verde?\", 'verde' in colores)\n",
    "print(\"¿Hay ROJO?\", 'ROJO' in colores)\n",
    "\n",
    "enero = temperaturas_diciembre.copy()\n",
    "print(\"temperaturas enero\", enero)\n",
    "\n",
    "enero.remove(18)\n",
    "enero.remove(18)\n",
    "enero.remove(17)\n",
    "enero.remove(17)\n",
    "enero.remove(17)\n",
    "enero.remove(17)\n",
    "print(\"enero sin 17 ni 18:\", enero)\n",
    "\n",
    "print(\"Temperaturas distintas diciembre:\", len(temperaturas_diciembre))\n",
    "print(\"Temperatuas distintas enero:\", len(enero))\n",
    "\n",
    "diferencia_meses = set(enero).symmetric_difference(set(temperaturas_diciembre))\n",
    "print(\"las diferencias entre meses:\", diferencia_meses)\n"
   ]
  },
  {
   "cell_type": "code",
   "execution_count": 38,
   "id": "d1d2c34a",
   "metadata": {},
   "outputs": [
    {
     "name": "stdout",
     "output_type": "stream",
     "text": [
      "Tº que hay en enero, però no en diciembre set()\n",
      "Tº comunes en los meses: {10, 11, 12, 13, 14, 15, 16}\n",
      "{'rojo', 'carmín', 'azul', 'burdeos', 'frambuesa', 'amarillo', 'cereza', 'escarlata', 'granate', 'lila', 'marrón', 'cyan'}\n"
     ]
    },
    {
     "ename": "AttributeError",
     "evalue": "'list' object has no attribute 'disjoint'",
     "output_type": "error",
     "traceback": [
      "\u001b[1;31m---------------------------------------------------------------------------\u001b[0m",
      "\u001b[1;31mAttributeError\u001b[0m                            Traceback (most recent call last)",
      "Cell \u001b[1;32mIn[38], line 9\u001b[0m\n\u001b[0;32m      6\u001b[0m diferencia_colores \u001b[38;5;241m=\u001b[39m colores\u001b[38;5;241m.\u001b[39msymmetric_difference({\u001b[38;5;124m'\u001b[39m\u001b[38;5;124mmarrón\u001b[39m\u001b[38;5;124m'\u001b[39m,\u001b[38;5;124m'\u001b[39m\u001b[38;5;124mamarillo\u001b[39m\u001b[38;5;124m'\u001b[39m,\u001b[38;5;124m'\u001b[39m\u001b[38;5;124mcyan\u001b[39m\u001b[38;5;124m'\u001b[39m})\n\u001b[0;32m      7\u001b[0m \u001b[38;5;28mprint\u001b[39m(diferencia_colores)\n\u001b[1;32m----> 9\u001b[0m disjoint_temperaturas \u001b[38;5;241m=\u001b[39m enero\u001b[38;5;241m.\u001b[39mdisjoint(temperaturas_diciembre)\n\u001b[0;32m     10\u001b[0m \u001b[38;5;28mprint\u001b[39m(disjoint_temperaturas)\n",
      "\u001b[1;31mAttributeError\u001b[0m: 'list' object has no attribute 'disjoint'"
     ]
    }
   ],
   "source": [
    "\n",
    "diferencia2 = set(enero).difference(set(temperaturas_diciembre))\n",
    "print(\"Tº que hay en enero, però no en diciembre\", diferencia2)\n",
    "interserccion_meses = set(enero).intersection(set(temperaturas_diciembre))\n",
    "print(\"Tº comunes en los meses:\", interserccion_meses)\n",
    "\n",
    "diferencia_colores = colores.symmetric_difference({'marrón','amarillo','cyan'})\n",
    "print(diferencia_colores)\n",
    "\n",
    "disjoint_temperaturas = enero.disjoint(temperaturas_diciembre)\n",
    "print(disjoint_temperaturas)"
   ]
  },
  {
   "cell_type": "code",
   "execution_count": 42,
   "id": "c694191c",
   "metadata": {},
   "outputs": [
    {
     "name": "stdout",
     "output_type": "stream",
     "text": [
      "True\n",
      "False\n"
     ]
    }
   ],
   "source": [
    "superset_colores = colores.issuperset({'rojo', 'azul'})\n",
    "print(superset_colores)\n",
    "\n",
    "superset_colores = colores.issubset({'rojo', 'azul'})\n",
    "print(superset_colores)"
   ]
  }
 ],
 "metadata": {
  "kernelspec": {
   "display_name": "base",
   "language": "python",
   "name": "python3"
  },
  "language_info": {
   "codemirror_mode": {
    "name": "ipython",
    "version": 3
   },
   "file_extension": ".py",
   "mimetype": "text/x-python",
   "name": "python",
   "nbconvert_exporter": "python",
   "pygments_lexer": "ipython3",
   "version": "3.12.7"
  }
 },
 "nbformat": 4,
 "nbformat_minor": 5
}
