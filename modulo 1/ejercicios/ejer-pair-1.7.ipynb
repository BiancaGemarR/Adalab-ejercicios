{
 "cells": [
  {
   "cell_type": "code",
   "execution_count": 35,
   "id": "1fdf8aa5",
   "metadata": {},
   "outputs": [],
   "source": [
    "from datetime import datetime\n",
    "class Empleados:\n",
    "    def __init__(self, nombre, apellidos, edad, posicion, año, mes, vacaciones, herramientas):\n",
    "        self.nombre = nombre\n",
    "        self.apellidos = apellidos\n",
    "        self.edad = edad\n",
    "        self.posicion = posicion\n",
    "        self.año = año\n",
    "        self.vacaciones = vacaciones\n",
    "        self.herramientas = herramientas\n",
    "        self.mes = mes\n",
    "\n",
    "    def descripcion (self):\n",
    "        return f\"El empleado {self.nombre} que sustenta el puesto de {self.posicion} dispone de vacaciones {self.vacaciones} para el año {self.año} \"\n",
    "\n",
    "    def cambiando_posicion(self):\n",
    "        for i in self.herramientas:\n",
    "            if i == 'python':\n",
    "                print(f\"Enhorabuena, eres una pro\")\n",
    "            elif i == 'excel':\n",
    "                print(f\"Por favor, deja de usar excel\")\n",
    "            else:\n",
    "                print(f\"usas otros programas\")\n",
    "                \n",
    "    def calcular_antiguedad(self):\n",
    "        año = datetime.now().year - self.año\n",
    "        mes = datetime.now().month - self.año\n",
    "\n",
    "        return f\"{self.nombre} lleva en la empresa {año} año y meses {mes}\"   \n",
    "    \n",
    "    def solicitar_aumento_vacaciones(self):\n",
    "        dias_solicitados = 5 \n",
    "        if dias_solicitados > 0:\n",
    "            self.vacaciones += dias_solicitados\n",
    "            return f\" se ha actualizado los días de vacaciones {self.vacaciones}\"\n",
    "        else:\n",
    "            f\"se debe insertar un número positivo\" \n",
    "\n",
    "    def registrar_herramienta(self):\n",
    "        for herramienta in self.herramientas:\n",
    "            nuevas_herramientas = []\n",
    "            herramienta = 'word'\n",
    "            if herramienta not in self.herramientas:\n",
    "                nuevas_herramientas.extend(herramienta)\n",
    "                return f\"la herramienta {herramienta} ha sido añadida\"\n",
    "            else:\n",
    "                f\"La herramienta {herramienta} ya ha sido registrada previamente\"\n",
    "\n",
    "\n"
   ]
  },
  {
   "cell_type": "code",
   "execution_count": 22,
   "id": "d47ab621",
   "metadata": {},
   "outputs": [
    {
     "ename": "NameError",
     "evalue": "name 'self' is not defined",
     "output_type": "error",
     "traceback": [
      "\u001b[1;31m---------------------------------------------------------------------------\u001b[0m",
      "\u001b[1;31mNameError\u001b[0m                                 Traceback (most recent call last)",
      "Cell \u001b[1;32mIn[22], line 1\u001b[0m\n\u001b[1;32m----> 1\u001b[0m \u001b[38;5;28mself\u001b[39m\u001b[38;5;241m.\u001b[39mherramientas \u001b[38;5;241m=\u001b[39m [\u001b[38;5;124m'\u001b[39m\u001b[38;5;124mpython\u001b[39m\u001b[38;5;124m'\u001b[39m, \u001b[38;5;124m'\u001b[39m\u001b[38;5;124mcobol\u001b[39m\u001b[38;5;124m'\u001b[39m, \u001b[38;5;124m'\u001b[39m\u001b[38;5;124mexcel\u001b[39m\u001b[38;5;124m'\u001b[39m]\n\u001b[0;32m      2\u001b[0m herramienta \u001b[38;5;241m=\u001b[39m \u001b[38;5;124m'\u001b[39m\u001b[38;5;124mword\u001b[39m\u001b[38;5;124m'\u001b[39m\n\u001b[0;32m      3\u001b[0m \u001b[38;5;28;01mfor\u001b[39;00m herramienta \u001b[38;5;129;01min\u001b[39;00m \u001b[38;5;28mself\u001b[39m\u001b[38;5;241m.\u001b[39mherramientas:\n",
      "\u001b[1;31mNameError\u001b[0m: name 'self' is not defined"
     ]
    }
   ],
   "source": [
    "self.herramientas = ['python', 'cobol', 'excel']\n",
    "herramienta = 'word'\n",
    "for herramienta in self.herramientas:\n",
    "    if herramienta not in self.herramientas:\n",
    "        self.herramientas.append(herramienta)\n",
    "        return f\"la herramienta {herramienta} ha sido añadida\"\n",
    "    else:\n",
    "        f\"La herramienta {herramienta} ya ha sido registrada previamente\"\n"
   ]
  },
  {
   "cell_type": "code",
   "execution_count": null,
   "id": "bbe0e68f",
   "metadata": {},
   "outputs": [
    {
     "name": "stdout",
     "output_type": "stream",
     "text": [
      "Enhorabuena, eres una pro\n",
      "usas otros programas\n",
      "Por favor, deja de usar excel\n"
     ]
    },
    {
     "ename": "AttributeError",
     "evalue": "'Empleados' object has no attribute 'self'",
     "output_type": "error",
     "traceback": [
      "\u001b[1;31m---------------------------------------------------------------------------\u001b[0m",
      "\u001b[1;31mAttributeError\u001b[0m                            Traceback (most recent call last)",
      "Cell \u001b[1;32mIn[37], line 7\u001b[0m\n\u001b[0;32m      5\u001b[0m empleado1\u001b[38;5;241m.\u001b[39msolicitar_aumento_vacaciones()\n\u001b[0;32m      6\u001b[0m empleado1\u001b[38;5;241m.\u001b[39mregistrar_herramienta()\n\u001b[1;32m----> 7\u001b[0m \u001b[38;5;28mprint\u001b[39m(empleado1\u001b[38;5;241m.\u001b[39mself\u001b[38;5;241m.\u001b[39mherramienta())\n",
      "\u001b[1;31mAttributeError\u001b[0m: 'Empleados' object has no attribute 'self'"
     ]
    }
   ],
   "source": [
    "empleado1 = Empleados('Maria', 'Gomez', '36', 'Data analyst', 2024, 6, 45, ['python', 'cobol', 'excel'])\n",
    "empleado1.descripcion()\n",
    "empleado1.cambiando_posicion()\n",
    "empleado1.calcular_antiguedad()\n",
    "empleado1.solicitar_aumento_vacaciones()\n",
    "empleado1.registrar_herramienta()\n"
   ]
  },
  {
   "cell_type": "code",
   "execution_count": null,
   "id": "9df844b2",
   "metadata": {},
   "outputs": [
    {
     "ename": "NameError",
     "evalue": "name 'ahora' is not defined",
     "output_type": "error",
     "traceback": [
      "\u001b[1;31m---------------------------------------------------------------------------\u001b[0m",
      "\u001b[1;31mNameError\u001b[0m                                 Traceback (most recent call last)",
      "Cell \u001b[1;32mIn[12], line 4\u001b[0m\n\u001b[0;32m      2\u001b[0m     ahora \u001b[38;5;241m=\u001b[39m datetime\u001b[38;5;241m.\u001b[39mnow()\n\u001b[0;32m      3\u001b[0m     \u001b[38;5;28;01mreturn\u001b[39;00m ahora\n\u001b[1;32m----> 4\u001b[0m calcular_antiguedad(ahora)\n",
      "\u001b[1;31mNameError\u001b[0m: name 'ahora' is not defined"
     ]
    }
   ],
   "source": [
    "def calcular_antiguedad():\n",
    "    from datetime import date\n",
    "    años = date.now().year - self.año\n",
    "    mes = date.now().month - self.año\n",
    "    "
   ]
  },
  {
   "cell_type": "code",
   "execution_count": null,
   "id": "1731161c",
   "metadata": {},
   "outputs": [],
   "source": [
    "def solicitar_aumento_vacaciones():"
   ]
  },
  {
   "cell_type": "code",
   "execution_count": null,
   "id": "db3bebd3",
   "metadata": {},
   "outputs": [
    {
     "name": "stdout",
     "output_type": "stream",
     "text": [
      "2025-06-11\n"
     ]
    }
   ],
   "source": [
    "from datetime import date\n",
    "años = date.now().year - self.año\n",
    "mes = date.now().month - self.año"
   ]
  },
  {
   "cell_type": "code",
   "execution_count": null,
   "id": "a10d5f26",
   "metadata": {},
   "outputs": [
    {
     "name": "stdout",
     "output_type": "stream",
     "text": [
      "p\n",
      "y\n",
      "t\n",
      "h\n",
      "o\n",
      "n\n"
     ]
    }
   ],
   "source": [
    "d = 'python'\n",
    "for i in d:\n",
    "    print(i)"
   ]
  },
  {
   "cell_type": "code",
   "execution_count": null,
   "id": "ed2721be",
   "metadata": {},
   "outputs": [
    {
     "name": "stdout",
     "output_type": "stream",
     "text": [
      "Enhorabuena, eres una pro\n"
     ]
    }
   ],
   "source": [
    "empleado1 = Empleados('Maria', 'Gomez', '36', 'Data analyst', 2025, 45, ['python', 'cobol', 'excel'])\n",
    "empleado1.descripcion()\n",
    "empleado1.cambiando_posicion()"
   ]
  }
 ],
 "metadata": {
  "kernelspec": {
   "display_name": "base",
   "language": "python",
   "name": "python3"
  },
  "language_info": {
   "codemirror_mode": {
    "name": "ipython",
    "version": 3
   },
   "file_extension": ".py",
   "mimetype": "text/x-python",
   "name": "python",
   "nbconvert_exporter": "python",
   "pygments_lexer": "ipython3",
   "version": "3.12.7"
  }
 },
 "nbformat": 4,
 "nbformat_minor": 5
}
