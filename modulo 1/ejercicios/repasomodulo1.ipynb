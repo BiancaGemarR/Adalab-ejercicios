{
 "cells": [
  {
   "cell_type": "code",
   "execution_count": 465,
   "id": "2a5caa57",
   "metadata": {},
   "outputs": [],
   "source": [
    "class Ecommerce:\n",
    "\n",
    "    def __init__(self, nombre):\n",
    "        self.nombre = nombre\n",
    "        self.productos = {}\n",
    "        self.clientes = {}\n",
    "        self.ventas = []\n",
    "\n",
    "    def agregar_producto(self, id_producto, nombre, precio, stock):\n",
    "            if id_producto in self.productos.keys():\n",
    "                print(\"el producto está en la lista\")\n",
    "            else:\n",
    "                self.productos[id_producto] = [nombre, precio, stock]\n",
    "                print(\"el producto no está en la lista\")\n",
    "\n",
    "    def eliminar_producto(self, id_producto, nombre, precio, stock):\n",
    "            if id_producto in self.productos.keys():\n",
    "                self.productos.pop(id_producto)\n",
    "                print(\"el producto está en la lista\")\n",
    "            else:\n",
    "                \n",
    "                print(\"el producto no está en la lista\")\n",
    "\n",
    "    def agregar_cliente(self, id_clientes, nombre, email):\n",
    "            if id_clientes in self.clientes.keys():\n",
    "                print(\"el cliente está en la lista\")\n",
    "            else:\n",
    "                self.clientes[id_clientes] = [nombre, email]\n",
    "                print(\"El cliente no está en la lista\")  \n",
    "\n",
    "    def realizar_venta(self, id_cliente, id_producto, cantidad):\n",
    "         \n",
    "        if id_producto in self.productos and id_cliente in self.clientes:\n",
    "                if self.productos[id_producto][2] >= cantidad:\n",
    "                    id_venta = len(self.ventas) + 1\n",
    "                    self.ventas.append((id_venta, id_cliente, id_producto, cantidad))\n",
    "                    self.productos[id_producto][2] -= cantidad\n",
    "                    print(f\"Venta realizada con éxito. ID de venta: {id_venta}\")\n",
    "                    return self.productos\n",
    "                else:\n",
    "                     print(\"No hay suficiente stock para realizar la venta.\")\n",
    "        else:\n",
    "             print(\"Cliente o producto no encontrados en la base de datos.\")\n",
    "    \n",
    "    def obtener_inventario(self):\n",
    "        inventario = {}\n",
    "        for id_producto, producto_info in self.productos.items():\n",
    "            nombre, precio, stock = producto_info\n",
    "            ventas_producto = sum([venta[3] for venta in self.ventas if venta[2] == id_producto])\n",
    "            inventario[id_producto] = {\n",
    "                    \"Nombre\": nombre,\n",
    "                    \"Precio\": precio,\n",
    "                    \"Stock Disponible\": stock,\n",
    "                    \"Stock Vendido\": ventas_producto,\n",
    "                    \"Stock Total\": stock + ventas_producto,\n",
    "                }\n",
    "        return inventario\n",
    "    \n",
    "    def obtener_clientes(self, con_compras=False):\n",
    "        clientes_info = {}\n",
    "        for id_cliente, (nombre, email) in self.clientes.items():\n",
    "            if con_compras:\n",
    "                compras_cliente = [venta for venta in self.ventas if venta[1] == id_cliente]\n",
    "                total_compras = len(compras_cliente)\n",
    "                if total_compras > 0:\n",
    "                        # Si el cliente ha realizado compras, agrega información adicional al diccionario\n",
    "                        clientes_info[id_cliente] = {\n",
    "                            \"Nombre\": nombre,\n",
    "                            \"Email\": email,\n",
    "                            \"Total Compras\": total_compras,\n",
    "                        }\n",
    "            else:\n",
    "                clientes_info[id_cliente] = {\n",
    "                        \"Nombre\": nombre,\n",
    "                        \"Email\": email,\n",
    "                    }\n",
    "        return clientes_info\n",
    "    \n",
    "    def actualizar_producto(self, id_producto, nombre=None, precio=None, stock=None):\n",
    "        if id_producto in self.productos:\n",
    "            producto = self.productos[id_producto]\n",
    "            if nombre is not None:\n",
    "                producto[0] = nombre\n",
    "            if precio is not None:\n",
    "                producto[1] = precio\n",
    "            if stock is not None:\n",
    "                producto[2] = stock\n",
    "            print(F\"Producto {producto} actualizado con éxito\")\n",
    "        else:\n",
    "            print(f\"No se encontró el producto con este ID {producto}\")\n",
    "\n",
    "    def buscar_producto_por_nombre(self, nombre):\n",
    "        lista_prodnombre = []\n",
    "        for id_producto, producto in self.productos.items():\n",
    "            if nombre.lower() in producto[0].lower():\n",
    "                lista_prodnombre.append((id_producto, producto))\n",
    "        return lista_prodnombre\n",
    "    \n",
    "    def calcular_ganancias(self):\n",
    "        total_ganancias = 0\n",
    "        for venta in self.ventas:\n",
    "            id_producto = venta[2]\n",
    "            cantidad = venta[3]\n",
    "            precio_unitario = self.productos[id_producto][1]\n",
    "            total_ganancias += cantidad * precio_unitario\n",
    "        return total_ganancias\n",
    "    def obtener_clientes_con_mas_compras(self, n=5):\n",
    "        ventas_por_clientes = {}\n",
    "        for venta in self.ventas:\n",
    "            id_cliente = venta[1]\n",
    "            if id_cliente in ventas_por_clientes:\n",
    "                ventas_por_clientes[id_cliente] += 1\n",
    "            else:\n",
    "                ventas_por_clientes[id_cliente] = 1\n",
    "        clientes_ordenados = sorted(ventas_por_clientes, key=ventas_por_clientes.get, reverse=True)\n",
    "        mejores_clientes = [(id_cliente, self.clientes[id_cliente][0], ventas_por_clientes[id_cliente])for id_cliente in clientes_ordenados[:n]]\n",
    "        return mejores_clientes\n",
    "    \n",
    "    def estadisticas_producto(self, id_producto):\n",
    "        if id_producto in self.productos:\n",
    "            producto = self.productos[id_producto]\n",
    "            nombre = producto[0]\n",
    "            precio = producto[1]\n",
    "            stock = producto[2]\n",
    "            ventas_producto = [venta for venta in self.ventas if venta[2] == id_producto]\n",
    "            total_ventas = sum(venta[3] for venta in ventas_producto)\n",
    "            return {\n",
    "                    \"Nombre\": nombre,\n",
    "                    \"Precio\": precio,\n",
    "                    \"Stock\": stock,\n",
    "                    \"Total Ventas\": total_ventas,\n",
    "                }\n",
    "        else:\n",
    "            return f\"No se encontró el producto con ID {id_producto}.\""
   ]
  },
  {
   "cell_type": "code",
   "execution_count": 466,
   "id": "f7c7d1d0",
   "metadata": {},
   "outputs": [],
   "source": [
    "def estadisticas_producto(id_producto):\n",
    "    if id_producto in self.productos:\n",
    "        producto = self.productos[id_producto]\n",
    "        nombre = producto[0]\n",
    "        precio = producto[1]\n",
    "        stock = producto[2]\n",
    "        ventas_producto = [venta for venta in self.ventas if venta[2] == id_producto]\n",
    "        total_ventas = sum(venta[3] for venta in ventas_producto)\n",
    "        return {\n",
    "                \"Nombre\": nombre,\n",
    "                \"Precio\": precio,\n",
    "                \"Stock\": stock,\n",
    "                \"Total Ventas\": total_ventas,\n",
    "            }\n",
    "    else:\n",
    "        return f\"No se encontró el producto con ID {id_producto}.\""
   ]
  },
  {
   "cell_type": "code",
   "execution_count": 467,
   "id": "a9095add",
   "metadata": {},
   "outputs": [],
   "source": [
    "def obtener_clientes_con_mas_compras(self, n=5):\n",
    "    ventas_por_clientes = {}\n",
    "    for venta in self.ventas:\n",
    "        id_cliente = venta[1]\n",
    "        if id_cliente in ventas_por_clientes:\n",
    "            ventas_por_cliente[id_cliente] += 1\n",
    "        else:\n",
    "            ventas_por_cliente[id_cliente] = 1\n",
    "    clientes_ordenados = sorted(ventas_por_cliente, key=ventas_por_cliente.get, reverse=True)\n",
    "    mejores_clientes = [(id_cliente, self.clientes[id_cliente][0], ventas_por_cliente[id_cliente])for id_cliente in clientes_ordenados[:n]]\n",
    "    return mejores_clientes\n"
   ]
  },
  {
   "cell_type": "code",
   "execution_count": 468,
   "id": "1234b2b3",
   "metadata": {},
   "outputs": [],
   "source": [
    "def calcular_ganancias(self):\n",
    "    total_ganancias = 0\n",
    "    for venta in self.ventas:\n",
    "        id_producto = venta[2]\n",
    "        cantidad = venta[3]\n",
    "        precio_unitario = self.productos[id_producto][1]\n",
    "        total_ganancias += cantidad * precio_unitario\n",
    "    return total_ganancias"
   ]
  },
  {
   "cell_type": "code",
   "execution_count": 469,
   "id": "c78f7aa0",
   "metadata": {},
   "outputs": [],
   "source": [
    "def buscar_producto_por_nombre(self, nombre):\n",
    "    lista_prodnombre = []\n",
    "    for id_producto, producto in self.productos.items():\n",
    "        if nombre.lower() in producto[0].lower():\n",
    "            lista_prodnombre.append(id_producto, producto)\n",
    "            return lista_prodnombre"
   ]
  },
  {
   "cell_type": "code",
   "execution_count": 470,
   "id": "bc4ad1ae",
   "metadata": {},
   "outputs": [],
   "source": [
    "def actualizar_producto(self, id_producto, nombre=None, precio=None, stock=None):\n",
    "    if id_producto in self.productos:\n",
    "        producto = self.productos[id_producto]\n",
    "        if nombre is not None:\n",
    "            producto[0] = nombre\n",
    "        if precio is not None:\n",
    "            producto[1] = precio\n",
    "        if stock is not None:\n",
    "            producto[2] = stock\n",
    "        print(F\"Producto {producto} actualizado con éxito\")\n",
    "    else:\n",
    "        print(f\"No se encontró el producto con este ID {producto}\")\n",
    "\n"
   ]
  },
  {
   "cell_type": "code",
   "execution_count": 471,
   "id": "a03954b3",
   "metadata": {},
   "outputs": [],
   "source": [
    "def obtener_inventario(self):\n",
    "    inventario = {}\n",
    "    for id_producto, producto_info in self.productos.items():\n",
    "        nombre, precio, stock = producto_info\n",
    "        ventas_producto = sum([venta[3] for venta in self.ventas if venta[2] == id_producto])\n",
    "        inventario[id_producto] = {\n",
    "                \"Nombre\": nombre,\n",
    "                \"Precio\": precio,\n",
    "                \"Stock Disponible\": stock,\n",
    "                \"Stock Vendido\": ventas_producto,\n",
    "                \"Stock Total\": stock + ventas_producto,\n",
    "            }\n",
    "    return inventario\n"
   ]
  },
  {
   "cell_type": "code",
   "execution_count": 472,
   "id": "d8409c96",
   "metadata": {},
   "outputs": [],
   "source": [
    "tienda1 = Ecommerce('biotienda')"
   ]
  },
  {
   "cell_type": "code",
   "execution_count": 473,
   "id": "933d2603",
   "metadata": {},
   "outputs": [
    {
     "name": "stdout",
     "output_type": "stream",
     "text": [
      "el producto no está en la lista\n",
      "el producto no está en la lista\n",
      "el producto no está en la lista\n",
      "{1: ['brócoli', 2, 500], 2: ['fresas', 3, 50], 3: ['patata', 3, 24]}\n"
     ]
    }
   ],
   "source": [
    "tienda1.agregar_producto(1, 'brócoli', 2, 500)\n",
    "tienda1.agregar_producto(2, 'fresas', 3, 50)\n",
    "tienda1.agregar_producto(3, 'patata', 3, 24)\n",
    "\n",
    "print(tienda1.productos)"
   ]
  },
  {
   "cell_type": "code",
   "execution_count": 474,
   "id": "d1c6b3ee",
   "metadata": {},
   "outputs": [
    {
     "name": "stdout",
     "output_type": "stream",
     "text": [
      "el producto está en la lista\n",
      "{2: ['fresas', 3, 50], 3: ['patata', 3, 24]}\n"
     ]
    }
   ],
   "source": [
    "tienda1.eliminar_producto(1, 'brócoli', 2, 500)\n",
    "print(tienda1.productos)"
   ]
  },
  {
   "cell_type": "code",
   "execution_count": 475,
   "id": "321a7630",
   "metadata": {},
   "outputs": [
    {
     "name": "stdout",
     "output_type": "stream",
     "text": [
      "El cliente no está en la lista\n",
      "{1: ['Pere', 'pere@gmail.com']}\n"
     ]
    }
   ],
   "source": [
    "cliente1 = (1, 'Pere', 'pere@gmail.com')\n",
    "tienda1.agregar_cliente(1, 'Pere', 'pere@gmail.com')\n",
    "print(tienda1.clientes)"
   ]
  },
  {
   "cell_type": "code",
   "execution_count": 476,
   "id": "b31d141f",
   "metadata": {},
   "outputs": [
    {
     "name": "stdout",
     "output_type": "stream",
     "text": [
      "Venta realizada con éxito. ID de venta: 1\n",
      "{2: ['fresas', 3, 48], 3: ['patata', 3, 24]}\n"
     ]
    }
   ],
   "source": [
    "print(tienda1.realizar_venta(1, 2, 2))"
   ]
  },
  {
   "cell_type": "code",
   "execution_count": 477,
   "id": "10b0cc1f",
   "metadata": {},
   "outputs": [
    {
     "data": {
      "text/plain": [
       "{2: {'Nombre': 'fresas',\n",
       "  'Precio': 3,\n",
       "  'Stock Disponible': 48,\n",
       "  'Stock Vendido': 2,\n",
       "  'Stock Total': 50},\n",
       " 3: {'Nombre': 'patata',\n",
       "  'Precio': 3,\n",
       "  'Stock Disponible': 24,\n",
       "  'Stock Vendido': 0,\n",
       "  'Stock Total': 24}}"
      ]
     },
     "execution_count": 477,
     "metadata": {},
     "output_type": "execute_result"
    }
   ],
   "source": [
    "tienda1.obtener_inventario()"
   ]
  },
  {
   "cell_type": "code",
   "execution_count": 478,
   "id": "390f2e15",
   "metadata": {},
   "outputs": [
    {
     "name": "stdout",
     "output_type": "stream",
     "text": [
      "{1: {'Nombre': 'Pere', 'Email': 'pere@gmail.com', 'Total Compras': 1}}\n"
     ]
    }
   ],
   "source": [
    "print(tienda1.obtener_clientes(con_compras=True))"
   ]
  },
  {
   "cell_type": "code",
   "execution_count": 479,
   "id": "d2c96643",
   "metadata": {},
   "outputs": [
    {
     "name": "stdout",
     "output_type": "stream",
     "text": [
      "Producto ['fresas', 3, 48] actualizado con éxito\n"
     ]
    }
   ],
   "source": [
    "tienda1.actualizar_producto(2)"
   ]
  },
  {
   "cell_type": "code",
   "execution_count": 480,
   "id": "a23d60b8",
   "metadata": {},
   "outputs": [
    {
     "data": {
      "text/plain": [
       "[(2, ['fresas', 3, 48])]"
      ]
     },
     "execution_count": 480,
     "metadata": {},
     "output_type": "execute_result"
    }
   ],
   "source": [
    "tienda1.buscar_producto_por_nombre(\"fresas\")"
   ]
  },
  {
   "cell_type": "code",
   "execution_count": 481,
   "id": "4fd59b66",
   "metadata": {},
   "outputs": [
    {
     "data": {
      "text/plain": [
       "6"
      ]
     },
     "execution_count": 481,
     "metadata": {},
     "output_type": "execute_result"
    }
   ],
   "source": [
    "tienda1.calcular_ganancias()"
   ]
  },
  {
   "cell_type": "code",
   "execution_count": 482,
   "id": "e1b8ac12",
   "metadata": {},
   "outputs": [
    {
     "data": {
      "text/plain": [
       "[(1, 'Pere', 1)]"
      ]
     },
     "execution_count": 482,
     "metadata": {},
     "output_type": "execute_result"
    }
   ],
   "source": [
    "tienda1.obtener_clientes_con_mas_compras(n=1)"
   ]
  },
  {
   "cell_type": "code",
   "execution_count": 483,
   "id": "2ea039d8",
   "metadata": {},
   "outputs": [
    {
     "data": {
      "text/plain": [
       "{'Nombre': 'fresas', 'Precio': 3, 'Stock': 48, 'Total Ventas': 2}"
      ]
     },
     "execution_count": 483,
     "metadata": {},
     "output_type": "execute_result"
    }
   ],
   "source": [
    "tienda1.estadisticas_producto(2)"
   ]
  },
  {
   "cell_type": "code",
   "execution_count": 484,
   "id": "49d99826",
   "metadata": {},
   "outputs": [],
   "source": [
    "def obtener_clientes(self, con_compras=False):\n",
    "    clientes_info = {}\n",
    "    for id_cliente, (nombre, email) in self.clientes.items():\n",
    "        if con_compras:\n",
    "            compras_cliente = [venta for venta in self.ventas if venta[1] == id_cliente]\n",
    "            total_compras = len(compras_cliente)\n",
    "            if total_compras > 0:\n",
    "                    # Si el cliente ha realizado compras, agrega información adicional al diccionario\n",
    "                    clientes_info[id_cliente] = {\n",
    "                        \"Nombre\": nombre,\n",
    "                        \"Email\": email,\n",
    "                        \"Total Compras\": total_compras,\n",
    "                    }\n",
    "        else:\n",
    "             clientes_info[id_cliente] = {\n",
    "                    \"Nombre\": nombre,\n",
    "                    \"Email\": email,\n",
    "                }\n",
    "    return clientes_info"
   ]
  },
  {
   "cell_type": "code",
   "execution_count": 485,
   "id": "24eb3028",
   "metadata": {},
   "outputs": [
    {
     "ename": "NameError",
     "evalue": "name 'self' is not defined",
     "output_type": "error",
     "traceback": [
      "\u001b[1;31m---------------------------------------------------------------------------\u001b[0m",
      "\u001b[1;31mNameError\u001b[0m                                 Traceback (most recent call last)",
      "Cell \u001b[1;32mIn[485], line 14\u001b[0m\n\u001b[0;32m     11\u001b[0m         \u001b[38;5;28;01melse\u001b[39;00m: \n\u001b[0;32m     12\u001b[0m             \u001b[38;5;28mprint\u001b[39m(\u001b[38;5;124m\"\u001b[39m\u001b[38;5;124mNo hay suficiente stock para la venta\u001b[39m\u001b[38;5;124m\"\u001b[39m)\n\u001b[1;32m---> 14\u001b[0m realizar_venta(\u001b[38;5;241m1\u001b[39m , \u001b[38;5;241m2\u001b[39m, \u001b[38;5;241m5\u001b[39m)\n",
      "Cell \u001b[1;32mIn[485], line 4\u001b[0m, in \u001b[0;36mrealizar_venta\u001b[1;34m(id_cliente, id_producto, cantidad)\u001b[0m\n\u001b[0;32m      3\u001b[0m \u001b[38;5;28;01mdef\u001b[39;00m \u001b[38;5;21mrealizar_venta\u001b[39m(id_cliente, id_producto, cantidad):\n\u001b[1;32m----> 4\u001b[0m     \u001b[38;5;28;01mif\u001b[39;00m id_cliente \u001b[38;5;129;01min\u001b[39;00m \u001b[38;5;28mself\u001b[39m\u001b[38;5;241m.\u001b[39mclientes \u001b[38;5;129;01mand\u001b[39;00m id_producto \u001b[38;5;129;01min\u001b[39;00m \u001b[38;5;28mself\u001b[39m\u001b[38;5;241m.\u001b[39mproductos:\n\u001b[0;32m      5\u001b[0m         \u001b[38;5;28;01mif\u001b[39;00m cantidad_producto \u001b[38;5;241m>\u001b[39m\u001b[38;5;241m=\u001b[39m cantidad_cliente:\n\u001b[0;32m      6\u001b[0m             venta \u001b[38;5;241m=\u001b[39m \u001b[38;5;241m0\u001b[39m\n",
      "\u001b[1;31mNameError\u001b[0m: name 'self' is not defined"
     ]
    }
   ],
   "source": [
    "cantidad_producto = 4\n",
    "cantidad_cliente = 2\n",
    "def realizar_venta(id_cliente, id_producto, cantidad):\n",
    "    if id_cliente in self.clientes and id_producto in self.productos:\n",
    "        if cantidad_producto >= cantidad_cliente:\n",
    "            venta = 0\n",
    "            self.productos.update(id_producto)\n",
    "            venta += 1\n",
    "            print(\"La venta se ha realizado con el nº\", venta)\n",
    "            print(\"La lista de productos queda: \", self.productos)\n",
    "        else: \n",
    "            print(\"No hay suficiente stock para la venta\")\n",
    "\n",
    "realizar_venta(1 , 2, 5)          \n"
   ]
  },
  {
   "cell_type": "code",
   "execution_count": null,
   "id": "12c1943e",
   "metadata": {},
   "outputs": [],
   "source": [
    "dicc1 = {}\n",
    "def agregar_producto(id_producto, nombre, precio, stock):\n",
    "    if id_producto in dicc1.keys():\n",
    "        print(\"el producto está en la lista\")\n",
    "    else:\n",
    "        dicc1[id_producto] = [nombre, precio, stock]\n",
    "        print(\"el producto no está en la lista\") #asignación directa para añadir"
   ]
  },
  {
   "cell_type": "code",
   "execution_count": null,
   "id": "5b32ee58",
   "metadata": {},
   "outputs": [],
   "source": [
    "cliente1 = (1,'Pere','pere@gmail.com')\n",
    "def agregar_cliente(id_cliente, nombre, email):\n",
    "    if id_cliente in self.clientes.keys():\n",
    "        print(\"el cliente está en la lista\")\n",
    "    else:\n",
    "        self.cliente[id_cliente] = [id_cliente, nombre, email]\n",
    "        print(\"El cliente no está en la lista\")"
   ]
  },
  {
   "cell_type": "code",
   "execution_count": null,
   "id": "04eeca36",
   "metadata": {},
   "outputs": [
    {
     "ename": "SyntaxError",
     "evalue": "invalid syntax (994907299.py, line 1)",
     "output_type": "error",
     "traceback": [
      "\u001b[1;36m  Cell \u001b[1;32mIn[105], line 1\u001b[1;36m\u001b[0m\n\u001b[1;33m    agregar_producto(1:'brocoli', 2, 500)\u001b[0m\n\u001b[1;37m                      ^\u001b[0m\n\u001b[1;31mSyntaxError\u001b[0m\u001b[1;31m:\u001b[0m invalid syntax\n"
     ]
    }
   ],
   "source": [
    "agregar_producto(1:'brocoli', 2, 500)\n",
    "agregar_producto(2: 'fresas', 3, 50)\n",
    "print()\n",
    "eliminar_producto(1:'brocoli', 2, 500)\n",
    "print()"
   ]
  },
  {
   "cell_type": "code",
   "execution_count": null,
   "id": "f3e92e9e",
   "metadata": {},
   "outputs": [],
   "source": []
  },
  {
   "cell_type": "code",
   "execution_count": null,
   "id": "cb94e19c",
   "metadata": {},
   "outputs": [],
   "source": [
    "tienda1 = Ecommerce('biotienda')"
   ]
  }
 ],
 "metadata": {
  "kernelspec": {
   "display_name": "base",
   "language": "python",
   "name": "python3"
  },
  "language_info": {
   "codemirror_mode": {
    "name": "ipython",
    "version": 3
   },
   "file_extension": ".py",
   "mimetype": "text/x-python",
   "name": "python",
   "nbconvert_exporter": "python",
   "pygments_lexer": "ipython3",
   "version": "3.12.7"
  }
 },
 "nbformat": 4,
 "nbformat_minor": 5
}
