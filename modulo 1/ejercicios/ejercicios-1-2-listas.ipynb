{
 "cells": [
  {
   "cell_type": "code",
   "execution_count": 51,
   "id": "98853007",
   "metadata": {},
   "outputs": [
    {
     "name": "stdout",
     "output_type": "stream",
     "text": [
      "El número de buses que pasa por mi casa es : 6\n",
      "El numero de carácteres en mi primer apellido es: 5\n",
      "La mínima esta semana será de: 24\n",
      "La máxima esta semana será de; 28\n",
      "[25, 27, 24, 28, 24, 25, 26]\n",
      "[25, 27, 24, 28, 24, 25, 26]\n",
      "[]\n",
      "[25, 27, 24, 28, 24, 25, 26]\n",
      "las temperaturas serán por orden: [24, 24, 25, 25, 26, 27, 28]\n",
      "El nº de veces que aparece la a en mi nombre es: 2\n",
      "El nº de veces que aparece la a en mi nombre es: 0\n",
      "El nº de veces que aparece esta semana la t máxima es: 1\n",
      "El nº de veces que aparece esta semana la t mínima es: 2\n",
      "¿Cuál es el penúltimo día de la semana? saturday\n",
      "¿Cuál es la última temperatura prevista de diciembre? 18\n",
      "¿Aparece Friday en la lista? 4\n",
      "Encuentra el índice de 'miércoles' en dias_es. 2\n"
     ]
    }
   ],
   "source": [
    "colores = ['lila', 'lavanda', 'púrpura', 'carmín', 'burdeos', 'magenta']\n",
    "buses = ['A24', 'A25', 'A11', 'N8', 'N2', 'N5']\n",
    "temperaturas = [25, 27, 24, 28, 24, 25, 26]\n",
    "nombre = 'Bianca'\n",
    "apellido1 = 'Gemar'\n",
    "apellido2 = 'Rosado'\n",
    "\n",
    "list(nombre)\n",
    "list(apellido1 + apellido2)\n",
    "cantidad_buses = len(buses)\n",
    "print(\"El número de buses que pasa por mi casa es :\", cantidad_buses)\n",
    "\n",
    "caracteres_apellido1 = len(apellido1)\n",
    "print(\"El numero de carácteres en mi primer apellido es:\", caracteres_apellido1)\n",
    "\n",
    "minima = min(temperaturas)\n",
    "maxima = max(temperaturas)\n",
    "print(\"La mínima esta semana será de:\", minima)\n",
    "print(\"La máxima esta semana será de;\", maxima)\n",
    "\n",
    "\"e\" in nombre\n",
    "\n",
    "\"x\" not in nombre\n",
    "temperaturas2 = temperaturas.copy()\n",
    "temperaturas3 = temperaturas.copy()\n",
    "\n",
    "print(temperaturas3)\n",
    "print(temperaturas2)\n",
    "\n",
    "temperaturas.clear()\n",
    "print(temperaturas)\n",
    "print(temperaturas2)\n",
    "\n",
    "\"\"\"nombre2 = nombre.copy()\n",
    "print(nombre2) # error porque es str\"\"\" \n",
    "\n",
    "temperaturas3.sort()\n",
    "print(\"las temperaturas serán por orden:\", temperaturas3)\n",
    "\n",
    "print(\"El nº de veces que aparece la a en mi nombre es:\", nombre.count('a'))\n",
    "print(\"El nº de veces que aparece la a en mi nombre es:\", nombre.count('o'))\n",
    "\n",
    "print(\"El nº de veces que aparece esta semana la t máxima es:\", temperaturas2.count(28))\n",
    "print(\"El nº de veces que aparece esta semana la t mínima es:\", temperaturas2.count(24))\n",
    "\n",
    "dias_en = ['monday', 'tuesday', 'wednesday', 'thursday', 'friday', 'saturday', 'sunday']\n",
    "\n",
    "temperaturas_diciembre = [10, 10, 13, 14, 12, 15, \n",
    "                        12, 11, 13, 17, 18, 15, \n",
    "                        15, 17, 17, 13, 13, 11,\n",
    "                        12, 10, 12, 14, 12, 12,\n",
    "                        11, 12, 16, 16, 14, 17, 18]\n",
    "print(\"¿Cuál es el penúltimo día de la semana?\", dias_en[5])\n",
    "print(\"¿Cuál es la última temperatura prevista de diciembre?\", temperaturas_diciembre[-1])\n",
    "print(\"¿Aparece Friday en la lista?\", dias_en.index('friday'))\n",
    "print(\"Encuentra el índice de 'miércoles' en dias_es.\", dias_en.index('wednesday'))\n"
   ]
  },
  {
   "cell_type": "markdown",
   "id": "567d9ca9",
   "metadata": {},
   "source": [
    "ejercicios tuplas"
   ]
  },
  {
   "cell_type": "code",
   "execution_count": 69,
   "id": "1476e4a6",
   "metadata": {},
   "outputs": [
    {
     "name": "stdout",
     "output_type": "stream",
     "text": [
      "La lista contiene estas tallas: ('M', 39, 42)\n",
      "Esta persona tiene estas características: (61, 1.54, 'pelo marrón', 'M', 39, 42)\n",
      "Color: pelo rubio\n",
      "Los elementos son : 3\n",
      "El resultado del zip de estas listas es: <zip object at 0x00000136971CEBC0>\n",
      "El resultado legible convertido es: [(61, 68), (1.54, 1.65), ('pelo marrón', 'pelo rubio')]\n",
      "La lista persona tiene este nº de elementos: 6\n",
      "Esto es todo: <zip object at 0x0000013696446200>\n",
      "Esto es todo entendible: [('peso',), ('altura',), ('color_pelo',), (61,), (1.54,), ('pelo marrón',), (68,), (1.65,), ('pelo rubio',)]\n"
     ]
    }
   ],
   "source": [
    "persona1 = 61, 1.54, 'pelo marrón'\n",
    "persona2 = (68, 1.65, 'pelo rubio')\n",
    "talla = ['M', 39, 42]\n",
    "tupla_talla = tuple(talla)\n",
    "print(\"La lista contiene estas tallas:\", tupla_talla)\n",
    "\n",
    "tupla_persona1_talla = persona1 + tupla_talla\n",
    "print(\"Esta persona tiene estas características:\", tupla_persona1_talla)\n",
    "print(\"Color:\", persona2[2])\n",
    "print(\"Los elementos son :\", len(persona1))\n",
    "\n",
    "personas = zip(persona1, persona2)\n",
    "print(\"El resultado del zip de estas listas es:\", personas)\n",
    "print(\"El resultado legible convertido es:\", list(personas))\n",
    "print(\"La lista persona tiene este nº de elementos:\", len(persona1 + persona2))\n",
    "\n",
    "etiquetas = ('peso', 'altura', 'color_pelo')\n",
    "todo = zip(etiquetas + persona1 + persona2)\n",
    "print(\"Esto es todo:\", todo)\n",
    "print(\"Esto es todo entendible:\", list(todo))"
   ]
  }
 ],
 "metadata": {
  "kernelspec": {
   "display_name": "base",
   "language": "python",
   "name": "python3"
  },
  "language_info": {
   "codemirror_mode": {
    "name": "ipython",
    "version": 3
   },
   "file_extension": ".py",
   "mimetype": "text/x-python",
   "name": "python",
   "nbconvert_exporter": "python",
   "pygments_lexer": "ipython3",
   "version": "3.12.7"
  }
 },
 "nbformat": 4,
 "nbformat_minor": 5
}
