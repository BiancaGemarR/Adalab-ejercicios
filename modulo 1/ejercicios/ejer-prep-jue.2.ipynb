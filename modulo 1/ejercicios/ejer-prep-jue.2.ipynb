{
 "cells": [
  {
   "cell_type": "code",
   "execution_count": null,
   "id": "0a8c819e",
   "metadata": {},
   "outputs": [
    {
     "name": "stdout",
     "output_type": "stream",
     "text": [
      "{'exterior': None, 'aromática': None, 'relax': None, 'interior': None}\n"
     ]
    }
   ],
   "source": [
    "\n",
    "\n",
    "preguntas_respuestas = {'exterior' : 'cactus', 'aromática' : 'albahaca', 'relax' : 'lavanda', 'interior' : 'potus'}\n",
    "preguntas = dict.fromkeys(preguntas_respuestas)\n",
    "print(preguntas)\n",
    "\n",
    "\n"
   ]
  },
  {
   "cell_type": "code",
   "execution_count": null,
   "id": "036a5cfd",
   "metadata": {},
   "outputs": [
    {
     "name": "stdout",
     "output_type": "stream",
     "text": [
      "cactus\n",
      "esta es tu pregunta: aromática\n",
      "La respuesta no es correcta\n",
      "albahaca\n"
     ]
    }
   ],
   "source": [
    "import random\n",
    "\n",
    "preguntas = {'exterior' : 'cactus', 'aromática' : 'albahaca', 'relax' : 'lavanda', 'interior' : 'potus'}\n",
    "print(preguntas.setdefault('exterior'))\n",
    "\n",
    "pregunta_aleatoria = random.choice(list(preguntas))\n",
    "print(f\"esta es tu pregunta: {pregunta_aleatoria}\")\n",
    "\n",
    "vida = 3\n",
    "while vida != 0:\n",
    "    resp_jugador = input('Introduce tu respuesta aquí')\n",
    "    respuesta = preguntas.get(pregunta_aleatoria)\n",
    "    if input == respuesta:\n",
    "        print(\"Has contestado bien a la pregunta\")\n",
    "    else:\n",
    "        print(\"La respuesta no es correcta\")\n",
    "    break\n",
    "preguntas[pregunta_aleatoria] = respuesta\n",
    "print(respuesta)"
   ]
  }
 ],
 "metadata": {
  "kernelspec": {
   "display_name": "base",
   "language": "python",
   "name": "python3"
  },
  "language_info": {
   "codemirror_mode": {
    "name": "ipython",
    "version": 3
   },
   "file_extension": ".py",
   "mimetype": "text/x-python",
   "name": "python",
   "nbconvert_exporter": "python",
   "pygments_lexer": "ipython3",
   "version": "3.12.7"
  }
 },
 "nbformat": 4,
 "nbformat_minor": 5
}
