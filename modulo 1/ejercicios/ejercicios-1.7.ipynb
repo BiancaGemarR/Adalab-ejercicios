{
 "cells": [
  {
   "cell_type": "markdown",
   "id": "7250c92d",
   "metadata": {},
   "source": [
    "ejercicios oop (programación orientada a objetos)"
   ]
  },
  {
   "cell_type": "code",
   "execution_count": 3,
   "id": "8e0282ab",
   "metadata": {},
   "outputs": [
    {
     "name": "stdout",
     "output_type": "stream",
     "text": [
      "La información del vehiculo es: opel, vectra, 2006\n",
      "Ya está en funcionamiento\n",
      "Ya está apagado\n",
      "vehículo encendido, la velocidad es 50\n",
      "Tu velocidad actual 0 es esta\n",
      "vehículo detenido\n",
      "Help on class coche in module __main__:\n",
      "\n",
      "class coche(builtins.object)\n",
      " |  coche(marca, modelo, ano, velocidad_actual, encendido, combustible)\n",
      " |\n",
      " |  Methods defined here:\n",
      " |\n",
      " |  __init__(self, marca, modelo, ano, velocidad_actual, encendido, combustible)\n",
      " |      Initialize self.  See help(type(self)) for accurate signature.\n",
      " |\n",
      " |  ----------------------------------------------------------------------\n",
      " |  Data descriptors defined here:\n",
      " |\n",
      " |  __dict__\n",
      " |      dictionary for instance variables\n",
      " |\n",
      " |  __weakref__\n",
      " |      list of weak references to the object\n",
      "\n",
      "None\n"
     ]
    }
   ],
   "source": [
    "class Vehiculo:\n",
    "    def __init__(self, marca, modelo, ano, velocidad_actual, encendido):\n",
    "        self.marca = marca\n",
    "        self.modelo = modelo\n",
    "        self.ano = ano\n",
    "        self.velocidad_actual = 0\n",
    "        self.encendido = False\n",
    "\n",
    "    def informacion(self):       \n",
    "        return f\"La información del vehiculo es: {self.marca}, {self.modelo}, {self.ano}\"\n",
    "    \n",
    "    def encender(self):\n",
    "        if self.encendido: \n",
    "            return f\"Vehiculo puede encenderse\"\n",
    "        else:\n",
    "            self.encendido = True\n",
    "            return f\"Ya está en funcionamiento\"\n",
    "    def apagar(self):\n",
    "        if self.velocidad_actual > 0:\n",
    "            return f\"se debe apagar\"\n",
    "        else:\n",
    "            self.velocidad_actual == 0\n",
    "            return f\"Ya está apagado\"\n",
    "    def acelerar(self, velocidad):\n",
    "        self.velocidad = velocidad\n",
    "        if self.velocidad_actual < self.velocidad:\n",
    "            return f\"vehículo encendido, la velocidad es {self.velocidad}\"\n",
    "        else:\n",
    "            return f\"no se puede acelerar\"\n",
    "    def frenar(self, velocidad):\n",
    "        self.velocidad = velocidad\n",
    "        if self.velocidad > self.velocidad_actual:\n",
    "            return f\"Tu velocidad actual {self.velocidad_actual} es esta\"\n",
    "        else:\n",
    "            return f\"vehículo apagado, no se puede frenar\"\n",
    "    def detener(self):\n",
    "            if self.encendido == True:\n",
    "                while self.velocidad > 0:\n",
    "                    self.velocidad -= 5\n",
    "                return f\"vehículo detenido\"\n",
    "            else:\n",
    "                return f\"Ya está apagado, no se puede detener\"\n",
    "class coche:\n",
    "    def __init__(self,marca, modelo, ano, velocidad_actual, encendido, combustible):\n",
    "        super.__init__(marca, modelo, ano, velocidad_actual, encendido, combustible)\n",
    "        self.combustible = combustible\n",
    "        combustible = 'gasolina 95'\n",
    "\n",
    "  \n",
    "\n",
    "mi_vehiculo = Vehiculo('opel', 'vectra', 2006, 0, True)\n",
    "\n",
    "print(mi_vehiculo.informacion())\n",
    "print(mi_vehiculo.encender())\n",
    "print(mi_vehiculo.apagar())\n",
    "print(mi_vehiculo.acelerar(50)) #la velocidad = 50 por eso se pone dentro\n",
    "print(mi_vehiculo.frenar(50))\n",
    "print(mi_vehiculo.detener())\n",
    "mi_vehiculo.__dict__\n",
    "print(help(coche))\n",
    "        \n",
    "\n",
    "\n"
   ]
  }
 ],
 "metadata": {
  "kernelspec": {
   "display_name": "base",
   "language": "python",
   "name": "python3"
  },
  "language_info": {
   "codemirror_mode": {
    "name": "ipython",
    "version": 3
   },
   "file_extension": ".py",
   "mimetype": "text/x-python",
   "name": "python",
   "nbconvert_exporter": "python",
   "pygments_lexer": "ipython3",
   "version": "3.12.7"
  }
 },
 "nbformat": 4,
 "nbformat_minor": 5
}
