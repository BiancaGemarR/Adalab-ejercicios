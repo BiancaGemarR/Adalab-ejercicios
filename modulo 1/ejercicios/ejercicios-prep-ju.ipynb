{
 "cells": [
  {
   "cell_type": "markdown",
   "id": "732b4b10",
   "metadata": {},
   "source": [
    "preparacion juegos piedra papel tijera\n"
   ]
  },
  {
   "cell_type": "code",
   "execution_count": 10,
   "id": "ecc66a64",
   "metadata": {},
   "outputs": [
    {
     "name": "stdout",
     "output_type": "stream",
     "text": [
      "Bienvenido al juego tijeras\n",
      "Has escogido: Piedra\n",
      "Has perdido la ronda\n"
     ]
    }
   ],
   "source": [
    "import random\n",
    "jugador_nombre = input(\"Escribe tu nombre aquí\")\n",
    "print(\"Bienvenido al juego\", jugador1)\n",
    "\n",
    "#input funciona, jugador funciona\n",
    "#crear condicionales if, elseif, else\n",
    "\n",
    "#crear input para escojer elemento\n",
    "jugador1 = input('Escoge tu elemento : Piedra, Papel o Tijera')\n",
    "print(\"Has escogido:\", jugador1)\n",
    "\n",
    "#crear bucle hasta que alguien gane\n",
    "elemento = ('Piedra', 'Papel', 'Tijeras')\n",
    "jugador2 = random.choice(elemento)\n",
    "#conditionals\n",
    "#falta hacer que se sume un punto cada vez que se gana una ronda\n",
    "\n",
    "#Piedra(probado a parte, OK)\n",
    "if jugador1 == 'Piedra':\n",
    "    if jugador2 == 'Tijera':\n",
    "        print('Has ganado un punto')\n",
    "    elif  jugador2 == 'Papel':\n",
    "        print('Has perdido la ronda')\n",
    "    else:\n",
    "        print('Has empatado')\n",
    "\n",
    "# Papel > Piedra (Probado a parte, OK)\n",
    "if jugador1 == 'Papel':\n",
    "    if jugador2 == 'Piedra':\n",
    "        print('Has ganado un punto')\n",
    "    elif jugador2 == 'Tijera':\n",
    "        print('Has perdido la ronda')\n",
    "    else:\n",
    "        print('Has empatado')\n",
    "\n",
    "# Tijera > Papel\n",
    "if jugador1 == 'Tijeras':\n",
    "    if jugador2 == 'Papel':\n",
    "        print('Has ganado un punto')\n",
    "    elif jugador2 == 'Piedra':\n",
    "        print('Has perdido la ronda')\n",
    "    else:\n",
    "        print('Has empatado')\n",
    "\n"
   ]
  },
  {
   "cell_type": "markdown",
   "id": "87ddb4c1",
   "metadata": {},
   "source": [
    "if jugador1 == 'Piedra':\n",
    "    if jugador2 == 'Tijera':\n",
    "        print('Has ganado un punto')\n",
    "    elif  jugador2 == 'Papel':\n",
    "        print('Has perdido la ronda')\n",
    "    else:\n",
    "        print('Has empatado')\n"
   ]
  },
  {
   "cell_type": "code",
   "execution_count": 19,
   "id": "c2ef7aeb",
   "metadata": {},
   "outputs": [
    {
     "name": "stdout",
     "output_type": "stream",
     "text": [
      "Has perdido la ronda\n"
     ]
    }
   ],
   "source": [
    "jugador1 = 'Piedra'\n",
    "jugador2 = 'Papel'\n",
    "\n",
    "if jugador1 == 'Piedra':\n",
    "    if jugador2 == 'Tijera':\n",
    "        print('Has ganado un punto')\n",
    "    elif  jugador2 == 'Papel':\n",
    "        print('Has perdido la ronda')\n",
    "    else:\n",
    "        print('Has empatado')\n",
    "\n"
   ]
  },
  {
   "cell_type": "code",
   "execution_count": 22,
   "id": "b67e81cb",
   "metadata": {},
   "outputs": [
    {
     "name": "stdout",
     "output_type": "stream",
     "text": [
      "Has empatado\n"
     ]
    }
   ],
   "source": [
    "jugador1 = 'Papel'\n",
    "jugador2 = 'Tijeras'\n",
    "\n",
    "# Papel > Piedra\n",
    "if jugador1 == 'Papel':\n",
    "    if jugador2 == 'Piedra':\n",
    "        print('Has ganado un punto')\n",
    "    elif jugador2 == 'Tijera':\n",
    "        print('Has perdido la ronda')\n",
    "    else:\n",
    "        print('Has empatado')"
   ]
  },
  {
   "cell_type": "code",
   "execution_count": 25,
   "id": "c8f4b570",
   "metadata": {},
   "outputs": [
    {
     "name": "stdout",
     "output_type": "stream",
     "text": [
      "Has empatado\n"
     ]
    }
   ],
   "source": [
    "jugador1 = 'Tijeras'\n",
    "jugador2 = 'Tijeras'\n",
    "\n",
    "if jugador1 == 'Tijeras':\n",
    "    if jugador2 == 'Papel':\n",
    "        print('Has ganado un punto')\n",
    "    elif jugador2 == 'Piedra':\n",
    "        print('Has perdido la ronda')\n",
    "    else:\n",
    "        print('Has empatado')\n"
   ]
  }
 ],
 "metadata": {
  "kernelspec": {
   "display_name": "base",
   "language": "python",
   "name": "python3"
  },
  "language_info": {
   "codemirror_mode": {
    "name": "ipython",
    "version": 3
   },
   "file_extension": ".py",
   "mimetype": "text/x-python",
   "name": "python",
   "nbconvert_exporter": "python",
   "pygments_lexer": "ipython3",
   "version": "3.12.7"
  }
 },
 "nbformat": 4,
 "nbformat_minor": 5
}
