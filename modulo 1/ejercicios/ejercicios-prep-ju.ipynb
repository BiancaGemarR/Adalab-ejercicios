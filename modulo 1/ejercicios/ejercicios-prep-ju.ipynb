{
 "cells": [
  {
   "cell_type": "markdown",
   "id": "732b4b10",
   "metadata": {},
   "source": [
    "preparacion juegos piedra papel tijera\n"
   ]
  },
  {
   "cell_type": "code",
   "execution_count": null,
   "id": "ecc66a64",
   "metadata": {},
   "outputs": [
    {
     "name": "stdout",
     "output_type": "stream",
     "text": [
      "Bienvenido al juego Bianca\n",
      "Has escogido: Piedra\n",
      "Papel\n",
      "Has perdido la ronda\n",
      "Has escogido: Tijera\n",
      "Has escogido: Papel\n",
      "Has escogido: Papel\n",
      "Has escogido: Papel\n",
      "Has empatado\n",
      "Has escogido: Papel\n",
      "Has escogido: Piedra\n",
      "Has perdido la ronda\n",
      "Has escogido: Piedra\n",
      "Has escogido: Piedra\n",
      "Has escogido: Papel\n",
      "Has escogido: Piedra\n",
      "Has escogido: Tijera\n",
      "Has escogido: Piedra\n",
      "Has perdido la ronda\n",
      "Has escogido: Piedra\n",
      "Has escogido: Papel\n",
      "Game over\n",
      "Has escogido: \n",
      "Has escogido: \n",
      "Has escogido: Piedra\n",
      "Game over\n",
      "Has escogido: Tijera\n",
      "Has escogido: Papel\n",
      "Has empatado\n",
      "Has escogido: Papel\n",
      "Game over\n",
      "Has escogido: Papel\n",
      "Has escogido: Papel\n",
      "Has empatado\n",
      "Has escogido: Papel\n",
      "Game over\n",
      "Has escogido: \n"
     ]
    }
   ],
   "source": [
    "import random\n",
    "jugador_nombre = input(\"Escribe tu nombre aquí\")\n",
    "print(\"Bienvenido al juego\", jugador_nombre)\n",
    "\n",
    "#input funciona, jugador funciona\n",
    "#crear condicionales if, elseif, else\n",
    "\n",
    "#crear input para escojer elemento\n",
    "jugador1 = input('Escoge tu elemento : Piedra, Papel o Tijera')\n",
    "print(\"Has escogido:\", jugador1)\n",
    "\n",
    "#crear bucle hasta que alguien gane\n",
    "elemento = ('Piedra', 'Papel', 'Tijeras')\n",
    "jugador2 = random.choice(elemento)\n",
    "print(jugador2)\n",
    "#conditionals\n",
    "#falta hacer que se sume un punto cada vez que se gana una ronda\n",
    "vida = 3\n",
    "while vida != 6 or vida != 0:\n",
    "    jugador2 = random.choice(elemento)\n",
    "    print(jugador2)\n",
    "    jugador1 = input('Escoge tu elemento : Piedra, Papel o Tijera')\n",
    "    print(\"Has escogido:\", jugador1)\n",
    "    if jugador1 == 'Piedra':\n",
    "        if jugador2 == 'Tijera':\n",
    "            vida += 1\n",
    "            print('Has ganado un punto')\n",
    "        elif  jugador2 == 'Papel':\n",
    "            vida -= 1\n",
    "            print('Has perdido la ronda')\n",
    "        else:\n",
    "            print('Has empatado')\n",
    "\n",
    "\n",
    "    if jugador1 == 'Papel':\n",
    "        if jugador2 == 'Piedra':\n",
    "            vida += 1\n",
    "            print('Has ganado un punto')\n",
    "        elif jugador2 == 'Tijera':\n",
    "            vida -= 1\n",
    "            print('Has perdido la ronda')\n",
    "        else:\n",
    "            print('Has empatado')\n",
    "   \n",
    "    if jugador1 == 'Tijeras':\n",
    "        if jugador2 == 'Papel':\n",
    "            vida += 1\n",
    "            print('Has ganado un punto')\n",
    "        elif jugador2 == 'Piedra':\n",
    "            vida -= 1\n",
    "            print('Has perdido la ronda')\n",
    "        else:\n",
    "            print('Has empatado')\n",
    "    if vida == 6:\n",
    "        print(\"Te has pasado el juego\")\n",
    "    elif vida == 0:\n",
    "        print(\"Game over\")\n",
    "\n",
    "    jugador1 = input('Escoge tu elemento : Piedra, Papel o Tijera')\n",
    "    print(\"Has escogido:\", jugador1)\n"
   ]
  },
  {
   "cell_type": "code",
   "execution_count": null,
   "id": "acfae0b1",
   "metadata": {},
   "outputs": [],
   "source": [
    "#solución de chat gpt\n"
   ]
  },
  {
   "cell_type": "code",
   "execution_count": null,
   "id": "878b5182",
   "metadata": {},
   "outputs": [],
   "source": [
    "#solución chat gpt\n",
    "import random\n",
    "\n",
    "jugador_nombre = input(\"Escribe tu nombre aquí: \")\n",
    "print(\"Bienvenido al juego\", jugador_nombre)\n",
    "\n",
    "vida = 3\n",
    "elementos = ['Piedra', 'Papel', 'Tijeras']\n",
    "\n",
    "while vida != 6 and vida != 0:\n",
    "    jugador1 = input('Escoge tu elemento: Piedra, Papel o Tijeras: ')\n",
    "    jugador1 = jugador1.capitalize()\n",
    "    print(\"Has escogido:\", jugador1)\n",
    "\n",
    "    if jugador1 not in elementos:\n",
    "        print(\"Elemento inválido. Por favor escoge entre Piedra, Papel o Tijeras.\")\n",
    "        continue\n",
    "\n",
    "    jugador2 = random.choice(elementos)\n",
    "    print(\"El oponente ha escogido:\", jugador2)\n",
    "\n",
    "    if jugador1 == jugador2:\n",
    "        print(\"Has empatado\")\n",
    "    elif (jugador1 == 'Piedra' and jugador2 == 'Tijeras') or \\\n",
    "         (jugador1 == 'Papel' and jugador2 == 'Piedra') or \\\n",
    "         (jugador1 == 'Tijeras' and jugador2 == 'Papel'):\n",
    "        vida += 1\n",
    "        print(\"Has ganado un punto. Vida actual:\", vida)\n",
    "    else:\n",
    "        vida -= 1\n",
    "        print(\"Has perdido la ronda. Vida actual:\", vida)\n",
    "\n",
    "    if vida == 6:\n",
    "        print(\"¡Te has pasado el juego! Felicidades 🎉\")\n",
    "    elif vida == 0:\n",
    "        print(\"Game Over ☠️\")\n"
   ]
  },
  {
   "cell_type": "markdown",
   "id": "87ddb4c1",
   "metadata": {},
   "source": [
    "if jugador1 == 'Piedra':\n",
    "    if jugador2 == 'Tijera':\n",
    "        print('Has ganado un punto')\n",
    "    elif  jugador2 == 'Papel':\n",
    "        print('Has perdido la ronda')\n",
    "    else:\n",
    "        print('Has empatado')\n"
   ]
  },
  {
   "cell_type": "code",
   "execution_count": 19,
   "id": "c2ef7aeb",
   "metadata": {},
   "outputs": [
    {
     "name": "stdout",
     "output_type": "stream",
     "text": [
      "Has perdido la ronda\n"
     ]
    }
   ],
   "source": [
    "jugador1 = 'Piedra'\n",
    "jugador2 = 'Papel'\n",
    "\n",
    "if jugador1 == 'Piedra':\n",
    "    if jugador2 == 'Tijera':\n",
    "        print('Has ganado un punto')\n",
    "    elif  jugador2 == 'Papel':\n",
    "        print('Has perdido la ronda')\n",
    "    else:\n",
    "        print('Has empatado')\n",
    "\n"
   ]
  },
  {
   "cell_type": "code",
   "execution_count": 22,
   "id": "b67e81cb",
   "metadata": {},
   "outputs": [
    {
     "name": "stdout",
     "output_type": "stream",
     "text": [
      "Has empatado\n"
     ]
    }
   ],
   "source": [
    "jugador1 = 'Papel'\n",
    "jugador2 = 'Tijeras'\n",
    "\n",
    "# Papel > Piedra\n",
    "if jugador1 == 'Papel':\n",
    "    if jugador2 == 'Piedra':\n",
    "        print('Has ganado un punto')\n",
    "    elif jugador2 == 'Tijera':\n",
    "        print('Has perdido la ronda')\n",
    "    else:\n",
    "        print('Has empatado')"
   ]
  },
  {
   "cell_type": "code",
   "execution_count": null,
   "id": "c8f4b570",
   "metadata": {},
   "outputs": [
    {
     "name": "stdout",
     "output_type": "stream",
     "text": [
      "Has empatado\n"
     ]
    }
   ],
   "source": [
    "jugador1 = 'Tijeras'\n",
    "jugador2 = 'Tijeras'\n",
    "\n",
    "if jugador1 == 'Tijeras':\n",
    "    if jugador2 == 'Papel':\n",
    "        print('Has ganado un punto')\n",
    "    elif jugador2 == 'Piedra':\n",
    "        print('Has perdido la ronda')\n",
    "    else:\n",
    "        print('Has empatado')\n",
    "    \n"
   ]
  },
  {
   "cell_type": "code",
   "execution_count": null,
   "id": "6b386e94",
   "metadata": {},
   "outputs": [],
   "source": [
    "import random\n",
    "jugador_nombre = input(\"Escribe tu nombre aquí\")\n",
    "print(\"Bienvenido al juego\", jugador_nombre)\n",
    "\n",
    "#input funciona, jugador funciona\n",
    "#crear condicionales if, elseif, else\n",
    "\n",
    "#crear input para escojer elemento\n",
    "jugador1 = input('Escoge tu elemento : Piedra, Papel o Tijera')\n",
    "print(\"Has escogido:\", jugador1)\n",
    "\n",
    "#crear bucle hasta que alguien gane\n",
    "elemento = ('Piedra', 'Papel', 'Tijeras')\n",
    "jugador2 = random.choice(elemento)\n",
    "#conditionals\n",
    "#falta hacer que se sume un punto cada vez que se gana una ronda\n",
    "\n",
    "\n",
    "#Piedra(probado a parte, OK)\n",
    "if jugador1 == 'Piedra':\n",
    "    if jugador2 == 'Tijera':\n",
    "        print('Has ganado un punto')\n",
    "    elif  jugador2 == 'Papel':\n",
    "        print('Has perdido la ronda')\n",
    "    else:\n",
    "        print('Has empatado')\n",
    "\n",
    "# Papel > Piedra (Probado a parte, OK)\n",
    "if jugador1 == 'Papel':\n",
    "    if jugador2 == 'Piedra':\n",
    "        print('Has ganado un punto')\n",
    "    elif jugador2 == 'Tijera':\n",
    "        print('Has perdido la ronda')\n",
    "    else:\n",
    "        print('Has empatado')\n",
    "\n",
    "# Tijera > Papel\n",
    "if jugador1 == 'Tijeras':\n",
    "    if jugador2 == 'Papel':\n",
    "        print('Has ganado un punto')\n",
    "    elif jugador2 == 'Piedra':\n",
    "        print('Has perdido la ronda')\n",
    "    else:\n",
    "        print('Has empatado')"
   ]
  }
 ],
 "metadata": {
  "kernelspec": {
   "display_name": "base",
   "language": "python",
   "name": "python3"
  },
  "language_info": {
   "codemirror_mode": {
    "name": "ipython",
    "version": 3
   },
   "file_extension": ".py",
   "mimetype": "text/x-python",
   "name": "python",
   "nbconvert_exporter": "python",
   "pygments_lexer": "ipython3",
   "version": "3.12.7"
  }
 },
 "nbformat": 4,
 "nbformat_minor": 5
}
