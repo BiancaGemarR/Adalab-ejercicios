{
 "cells": [
  {
   "cell_type": "markdown",
   "id": "732b4b10",
   "metadata": {},
   "source": [
    "preparacion juegos piedra papel tijera\n"
   ]
  },
  {
   "cell_type": "code",
   "execution_count": null,
   "id": "ecc66a64",
   "metadata": {},
   "outputs": [
    {
     "name": "stdout",
     "output_type": "stream",
     "text": [
      "Bienvenido al juego Bianca\n"
     ]
    }
   ],
   "source": [
    "jugador1 = input(\"Escribe tu nombre aquí\")\n",
    "print(f\"Bienvenido al juego\", jugador1)\n",
    "\n",
    "#input funciona, jugador funciona\n",
    "#crear condicionales if, elseif, else\n",
    "Piedra > Tijera\n",
    "Papel > Piedra\n",
    "Tijera > Papel\n",
    "Piedra = Piedra\n",
    "Papel = Papel\n",
    "Tijera = Tijera\n"
   ]
  }
 ],
 "metadata": {
  "kernelspec": {
   "display_name": "base",
   "language": "python",
   "name": "python3"
  },
  "language_info": {
   "codemirror_mode": {
    "name": "ipython",
    "version": 3
   },
   "file_extension": ".py",
   "mimetype": "text/x-python",
   "name": "python",
   "nbconvert_exporter": "python",
   "pygments_lexer": "ipython3",
   "version": "3.12.7"
  }
 },
 "nbformat": 4,
 "nbformat_minor": 5
}
