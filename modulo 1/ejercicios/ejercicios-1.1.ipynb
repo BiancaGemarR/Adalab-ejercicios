{
 "cells": [
  {
   "cell_type": "code",
   "execution_count": 1,
   "id": "e29795a9",
   "metadata": {},
   "outputs": [
    {
     "name": "stdout",
     "output_type": "stream",
     "text": [
      "8\n",
      "cuatro\n",
      "cuatro más cuatro\n",
      "perros : cuatro más cuatro = 8\n"
     ]
    }
   ],
   "source": [
    "gatos = 8\n",
    "perros = 'cuatro'\n",
    "print(gatos)\n",
    "print(perros)\n",
    "print(perros, 'más', perros)\n",
    "print('perros', ':', perros, 'más', perros, '=', gatos)"
   ]
  },
  {
   "cell_type": "code",
   "execution_count": 15,
   "id": "75f13de7",
   "metadata": {},
   "outputs": [
    {
     "name": "stdout",
     "output_type": "stream",
     "text": [
      "<class 'float'>\n",
      "<class 'str'>\n",
      "True\n"
     ]
    }
   ],
   "source": [
    "pizza = float(2)\n",
    "magdalenas = str(2)\n",
    "postres = int(0)\n",
    "\n",
    "print(type(pizza))\n",
    "print(type(magdalenas))\n",
    "print(isinstance(magdalenas,str))\n",
    "\n"
   ]
  },
  {
   "cell_type": "code",
   "execution_count": 17,
   "id": "0acd008b",
   "metadata": {},
   "outputs": [
    {
     "name": "stdout",
     "output_type": "stream",
     "text": [
      "10.0\n",
      "16\n"
     ]
    }
   ],
   "source": [
    "print(gatos + pizza)\n",
    "print(gatos * 2)"
   ]
  },
  {
   "cell_type": "code",
   "execution_count": 18,
   "id": "1a395d33",
   "metadata": {},
   "outputs": [
    {
     "name": "stdout",
     "output_type": "stream",
     "text": [
      "48.0\n"
     ]
    }
   ],
   "source": [
    "piezas = 8 * pizza\n",
    "print(piezas * 3)"
   ]
  },
  {
   "cell_type": "code",
   "execution_count": null,
   "id": "f6889af4",
   "metadata": {},
   "outputs": [],
   "source": []
  },
  {
   "cell_type": "code",
   "execution_count": 35,
   "id": "582c04df",
   "metadata": {},
   "outputs": [
    {
     "name": "stdout",
     "output_type": "stream",
     "text": [
      "81\n"
     ]
    },
    {
     "ename": "TypeError",
     "evalue": "unsupported operand type(s) for /: 'str' and 'int'",
     "output_type": "error",
     "traceback": [
      "\u001b[1;31m---------------------------------------------------------------------------\u001b[0m",
      "\u001b[1;31mTypeError\u001b[0m                                 Traceback (most recent call last)",
      "Cell \u001b[1;32mIn[35], line 6\u001b[0m\n\u001b[0;32m      3\u001b[0m area \u001b[38;5;241m=\u001b[39m superficie\n\u001b[0;32m      5\u001b[0m gato \u001b[38;5;241m=\u001b[39m \u001b[38;5;241m8\u001b[39m\n\u001b[1;32m----> 6\u001b[0m a1 \u001b[38;5;241m=\u001b[39m area\u001b[38;5;241m/\u001b[39mgato\n\u001b[0;32m      7\u001b[0m \u001b[38;5;28mprint\u001b[39m(a1)\n",
      "\u001b[1;31mTypeError\u001b[0m: unsupported operand type(s) for /: 'str' and 'int'"
     ]
    }
   ],
   "source": [
    "\n",
    "area = (9 * 9)\n",
    "print(area)\n",
    "area = superficie\n",
    "\n",
    "gato = 8\n",
    "a1 = area/gato\n",
    "print(a1)\n"
   ]
  },
  {
   "cell_type": "code",
   "execution_count": null,
   "id": "b47fb861",
   "metadata": {},
   "outputs": [
    {
     "name": "stdout",
     "output_type": "stream",
     "text": [
      "120\n",
      "False\n",
      "False\n",
      "True\n",
      "False\n",
      "False\n"
     ]
    }
   ],
   "source": [
    "gato = 8\n",
    "piezas = 48\n",
    "pizzas = 2\n",
    "p1 = (gato * 21) - (piezas)\n",
    "print(p1)\n",
    "\n",
    "print(gatos > piezas)\n",
    "print((gatos * 2) is piezas)\n",
    "print((gatos * 2) is not piezas)\n",
    "print(piezas >= 2 \n",
    "        and piezas >= 81)\n",
    "print((pizzas > gatos\n",
    "        or piezas * gatos == 0))\n"
   ]
  },
  {
   "cell_type": "code",
   "execution_count": 51,
   "id": "b06c8a35",
   "metadata": {},
   "outputs": [
    {
     "name": "stdout",
     "output_type": "stream",
     "text": [
      "True\n"
     ]
    },
    {
     "name": "stderr",
     "output_type": "stream",
     "text": [
      "<>:2: SyntaxWarning: \"is not\" with 'int' literal. Did you mean \"!=\"?\n",
      "<>:2: SyntaxWarning: \"is not\" with 'int' literal. Did you mean \"!=\"?\n",
      "C:\\Users\\grbia\\AppData\\Local\\Temp\\ipykernel_15488\\2282483145.py:2: SyntaxWarning: \"is not\" with 'int' literal. Did you mean \"!=\"?\n",
      "  print(area is not 0)\n"
     ]
    }
   ],
   "source": [
    "area = 9 * 9\n",
    "print(area is not 0)"
   ]
  },
  {
   "cell_type": "code",
   "execution_count": 70,
   "id": "8b5ea059",
   "metadata": {},
   "outputs": [
    {
     "name": "stdout",
     "output_type": "stream",
     "text": [
      "\n",
      "La fecha de nacimiento es \n"
     ]
    }
   ],
   "source": [
    "dia = '24'\n",
    "mes = 'Abril'\n",
    "año = '1994'\n",
    "dia_cumpleaños = dia, mes, año\n",
    "dia_cumpleaños = input()\n",
    "\n",
    "print(dia_cumpleaños)\n",
    "print(f'La fecha de nacimiento es {dia_cumpleaños}' )\n"
   ]
  },
  {
   "cell_type": "code",
   "execution_count": 69,
   "id": "8a4a4ea0",
   "metadata": {},
   "outputs": [
    {
     "name": "stdout",
     "output_type": "stream",
     "text": [
      "ANIMALES MITOLÓGICOS, HOY: UNICORNIO\n",
      "animales mitológicos, hoy: unicornio\n",
      "['animales mitológicos, hoy: unicornio']\n"
     ]
    }
   ],
   "source": [
    "animales = 'animales mitológicos, hoy: unicornio'\n",
    "print(animales.upper())\n",
    "print(animales.strip())\n",
    "print(animales.split(\"\\n\"))"
   ]
  }
 ],
 "metadata": {
  "kernelspec": {
   "display_name": "base",
   "language": "python",
   "name": "python3"
  },
  "language_info": {
   "codemirror_mode": {
    "name": "ipython",
    "version": 3
   },
   "file_extension": ".py",
   "mimetype": "text/x-python",
   "name": "python",
   "nbconvert_exporter": "python",
   "pygments_lexer": "ipython3",
   "version": "3.12.7"
  }
 },
 "nbformat": 4,
 "nbformat_minor": 5
}
