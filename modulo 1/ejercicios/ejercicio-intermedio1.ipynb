{
 "cells": [
  {
   "cell_type": "markdown",
   "id": "2ef65f13",
   "metadata": {},
   "source": [
    "1. Crea un programa que busque una palabra específica(elegida por la usuaria) en una cadena de texto\n",
    "e indique su posición."
   ]
  },
  {
   "cell_type": "code",
   "execution_count": 121,
   "id": "e4bff2a0",
   "metadata": {},
   "outputs": [
    {
     "name": "stdout",
     "output_type": "stream",
     "text": [
      "1\n"
     ]
    }
   ],
   "source": [
    "palabras = ('exterior', 'cactus', 'interior' , 'orquídea', 'aromática' , 'lavanda', 'arbol' , 'limonero')\n",
    "buscar_palabra = input('Inserta aquí tu palabra')\n",
    "posicion = palabras.index(buscar_palabra)\n",
    "print(posicion)\n",
    "\n"
   ]
  },
  {
   "cell_type": "markdown",
   "id": "7d297109",
   "metadata": {},
   "source": [
    "2. Dada la siguiente lista: frutas = ['manzana', 'pera', 'banana', 'uva', 'kiwi'],\n",
    "realiza lo siguiente:\n",
    ". Reemplaza el segundo elemento con 'durazno'.\n",
    ". Agrega 'naranja' al final de la lista.\n",
    ". Extrae y muestra por pantalla el tercer elemento de la lista."
   ]
  },
  {
   "cell_type": "code",
   "execution_count": 122,
   "id": "64e4540c",
   "metadata": {},
   "outputs": [
    {
     "name": "stdout",
     "output_type": "stream",
     "text": [
      "['manzana', 'durazno', 'banana', 'uva', 'kiwi']\n",
      "['manzana', 'durazno', 'banana', 'uva', 'kiwi', 'naranja']\n"
     ]
    },
    {
     "data": {
      "text/plain": [
       "'banana'"
      ]
     },
     "execution_count": 122,
     "metadata": {},
     "output_type": "execute_result"
    }
   ],
   "source": [
    "frutas = ['manzana', 'pera', 'banana', 'uva', 'kiwi']\n",
    "frutas[1] = 'durazno'\n",
    "print(frutas)\n",
    "frutas.append('naranja')\n",
    "print(frutas)\n",
    "frutas[2]"
   ]
  },
  {
   "cell_type": "markdown",
   "id": "3c7ee578",
   "metadata": {},
   "source": [
    "3. Crea una lista llamada numeros que contenga los siguientes valores: 10, 25, 15, 30, 20.\n",
    ". Agrega el valor 35 al incio de la lista numeros.\n",
    ". Ordena la lista numeros en orden ascendente.\n",
    ". Encuentra el índice del número 25."
   ]
  },
  {
   "cell_type": "code",
   "execution_count": 123,
   "id": "d0680ad7",
   "metadata": {},
   "outputs": [
    {
     "name": "stdout",
     "output_type": "stream",
     "text": [
      "[10, 25, 15, 30, 20, 35]\n",
      "[10, 15, 20, 25, 30, 35]\n"
     ]
    },
    {
     "data": {
      "text/plain": [
       "3"
      ]
     },
     "execution_count": 123,
     "metadata": {},
     "output_type": "execute_result"
    }
   ],
   "source": [
    "numeros = [10, 25, 15, 30, 20]\n",
    "numeros.append(35)\n",
    "print(numeros)\n",
    "numeros.sort()\n",
    "print(numeros)\n",
    "numeros.index(25)"
   ]
  },
  {
   "cell_type": "markdown",
   "id": "324bde73",
   "metadata": {},
   "source": [
    "4.Crea un diccionario llamado frutas con las siguientes parejas clave-valor:\n",
    "'manzana': 2\n",
    "'banana': 3\n",
    "'uva': 5\n",
    "'pera': 4\n",
    "Saca una lista de todas las frutas en el diccionario.\n",
    "Saca una lista de todas las cantidades en el diccionario.\n",
    "¿Qué cantidad de 'manzana' tenemos?. Si la clave 'manzana' no está presente, devuelve un mensaje\n",
    "diciendo \"No existe esa clave\".\n",
    "Agrega un nuevo par de clave-valor al diccionario frutas: 'kiwi' con una cantidad de 6.\n",
    "Cambia la cantidad de 'uva' a 8.\n",
    "Crea un segundo diccionario llamado frutas_nuevas con las siguientes parejas clave-valor: -\n",
    "'sandía': 7 - 'mango': 4\n",
    "Combinar los dos diccionarios frutas_nuevas y frutas en uno nuevos llamado frutas_total.\n",
    "Elimina el último par de clave-valor del diccionario fruta_total.\n",
    "Elimina el par de clave-valor correspondiente a la clave 'uva' del diccionario.\n",
    "evaluacion-intermedia_v2.md 2024-12-08\n",
    "2 / 2\n",
    "Combinar métodos de listas y diccionarios:\n",
    "Obtén una lista de todas las cantidades en el diccionario y calcula suma total de las cantidades\n",
    "del diccionario frutas_total.\n",
    "Utilizando la lista creada en el apartado anterior encuentra la cantidad más grande y más\n",
    "pequeña."
   ]
  },
  {
   "cell_type": "code",
   "execution_count": 124,
   "id": "24a9ee75",
   "metadata": {},
   "outputs": [
    {
     "name": "stdout",
     "output_type": "stream",
     "text": [
      "dict_keys(['manzana', 'banana', 'uva', 'pera'])\n",
      "dict_values([2, 3, 5, 4])\n",
      "¿Qué cantidad de manzanas tenemos? 2\n",
      "{'manzana': 2, 'banana': 3, 'uva': 5, 'pera': 4, 'kiwi': 6}\n",
      "{'manzana': 2, 'banana': 3, 'uva': 8, 'pera': 4, 'kiwi': 6}\n",
      "{'manzana': 2, 'banana': 3, 'uva': 8, 'pera': 4, 'kiwi': 6, 'sandía': 7, 'mango': 4}\n",
      "eliminar ultimo valor ('mango', 4)\n",
      "eliminar uva 8\n",
      "{'manzana': 2, 'banana': 3, 'pera': 4, 'kiwi': 6, 'sandía': 7}\n",
      "lista cantidades dict_values([2, 3, 4, 6, 7])\n",
      "total de la suma 22\n",
      "dict_values([2, 3, 4, 6, 7])\n",
      "máximo: 7\n",
      "mínimo: 2\n"
     ]
    }
   ],
   "source": [
    "frutas = {'manzana': 2, 'banana': 3, 'uva': 5, 'pera': 4}\n",
    "print(frutas.keys())\n",
    "print(frutas.values())\n",
    "print(\"¿Qué cantidad de manzanas tenemos?\", frutas['manzana'])\n",
    "if 'manzana' not in frutas:\n",
    "    print('No existe esa clave')\n",
    "frutas['kiwi'] = 6\n",
    "print(frutas)\n",
    "frutas['uva'] = 8\n",
    "print(frutas)\n",
    "frutas_nuevas = {'sandía': 7, 'mango': 4}\n",
    "frutas_total = frutas | frutas_nuevas\n",
    "print(frutas_total)\n",
    "print(\"eliminar ultimo valor\", frutas_total.popitem())\n",
    "print(\"eliminar uva\", frutas_total.pop('uva'))\n",
    "print(frutas_total)\n",
    "print(\"lista cantidades\", frutas_total.values())\n",
    "total = sum(frutas_total.values())\n",
    "print(\"total de la suma\", total)\n",
    "total2 = frutas_total.values()\n",
    "print(total2)\n",
    "print(\"máximo:\", max(total2))\n",
    "print(\"mínimo:\", min(total2))"
   ]
  },
  {
   "cell_type": "markdown",
   "id": "958aff5a",
   "metadata": {},
   "source": [
    "5. Evaluación de Edades:\n",
    "Escribe un programa que solicite al usuario ingresar su edad.\n",
    "Si la edad es menor de 18, muestra \"Eres menor de edad\".\n",
    "Si la edad está entre 18 y 65 (incluyendo ambos extremos), muestra \"Eres adulto\".\n",
    "Si la edad es mayor que 65, muestra \"Eres un adulto mayor\"."
   ]
  },
  {
   "cell_type": "code",
   "execution_count": 125,
   "id": "c01b5e73",
   "metadata": {},
   "outputs": [
    {
     "name": "stdout",
     "output_type": "stream",
     "text": [
      "Inserte aquí su edad: 45\n",
      "Dicen que eres adulto, pero depende\n"
     ]
    }
   ],
   "source": [
    "edad = int(input(\"inserte aquí su edad\"))\n",
    "print(\"Inserte aquí su edad:\", edad)\n",
    "if edad <= 17:\n",
    "    print(\"eres menor de edad\")\n",
    "elif edad <= 65:\n",
    "    print(\"Dicen que eres adulto, pero depende\")\n",
    "else:\n",
    "    print(\"Dicen que adulto mayor, pero en la flor de la vida\")"
   ]
  },
  {
   "cell_type": "markdown",
   "id": "28a379ec",
   "metadata": {},
   "source": [
    "6. Determinación de Día de la Semana\n",
    "Solicita al usuario que ingrese un número del 1 al 7.\n",
    "Utilizando una serie de if-elif-else, muestra el día de la semana correspondiente al\n",
    "número ingresado. Por ejemplo, si ingresa 1, muestra \"Lunes\"."
   ]
  },
  {
   "cell_type": "code",
   "execution_count": 126,
   "id": "0e494b36",
   "metadata": {},
   "outputs": [
    {
     "name": "stdout",
     "output_type": "stream",
     "text": [
      "Viernes o friyay\n"
     ]
    }
   ],
   "source": [
    "dia_semana = int(input(\"ingrese un número del 1 al 7\"))\n",
    "if dia_semana == 1:\n",
    "    print(\"Lunes\")\n",
    "elif dia_semana == 2:\n",
    "    print(\"Martes\")\n",
    "elif dia_semana == 3:\n",
    "    print(\"Miércoles\")\n",
    "elif dia_semana == 4:\n",
    "    print(\"Jueves o juernes\")\n",
    "elif dia_semana == 5:\n",
    "    print(\"Viernes o friyay\")\n",
    "elif dia_semana == 6:\n",
    "    print(\"Sábado\")\n",
    "else:\n",
    "    print(\"Dia del Senyor, se descansa o domingo\")"
   ]
  },
  {
   "cell_type": "markdown",
   "id": "12af4980",
   "metadata": {},
   "source": [
    "7. Juego de Adivinanza\n",
    "Genera un número aleatorio entre 1 y 100.\n",
    "Pídele al usuario que adivine el número.\n",
    "Si el usuario adivina correctamente en el primer intento, muestra \"¡Ganaste en el primer\n",
    "intento!\".\n",
    "Si el usuario no adivina en el primer intento, bríndale pistas (mayor o menor) y permite que\n",
    "intente nuevamente. Muestra cuántos intentos le llevó al final."
   ]
  },
  {
   "cell_type": "code",
   "execution_count": 127,
   "id": "1f0bdc19",
   "metadata": {},
   "outputs": [
    {
     "name": "stdout",
     "output_type": "stream",
     "text": [
      "[1, 2, 3, 4, 5, 6, 7, 8, 9, 10, 11, 12, 13, 14, 15, 16, 17, 18, 19, 20, 21, 22, 23, 24, 25, 26, 27, 28, 29, 30, 31, 32, 33, 34, 35, 36, 37, 38, 39, 40, 41, 42, 43, 44, 45, 46, 47, 48, 49, 50, 51, 52, 53, 54, 55, 56, 57, 58, 59, 60, 61, 62, 63, 64, 65, 66, 67, 68, 69, 70, 71, 72, 73, 74, 75, 76, 77, 78, 79, 80, 81, 82, 83, 84, 85, 86, 87, 88, 89, 90, 91, 92, 93, 94, 95, 96, 97, 98, 99, 100]\n",
      "62\n",
      "El número es más pequeño\n",
      "Prueba otra vez. Este es tu intento nº: 1\n"
     ]
    }
   ],
   "source": [
    "import random\n",
    "numeros = list(range(1, 101))\n",
    "print(numeros)\n",
    "numero_aleatorio = random.choice(numeros)\n",
    "print(numero_aleatorio)\n",
    "\n",
    "adivina = int(input(\"inserta aquí el número\"))\n",
    "\n",
    "if numero_aleatorio == adivina:\n",
    "    print(\"Ganaste el primer intento\")\n",
    "elif numero_aleatorio < adivina:\n",
    "    print(\"El número es más pequeño\")\n",
    "else:\n",
    "    print(\"El número es más grande\")\n",
    "\n",
    "intentos = 1\n",
    "while numero_aleatorio < adivina or numero_aleatorio > advina:\n",
    "    print(\"Prueba otra vez. Este es tu intento nº:\", intentos)\n",
    "    intentos += 1\n",
    "    break\n",
    "\n"
   ]
  },
  {
   "cell_type": "code",
   "execution_count": 4,
   "id": "e29fe084",
   "metadata": {},
   "outputs": [
    {
     "name": "stdout",
     "output_type": "stream",
     "text": [
      "[1, 2, 3, 4, 5, 6, 7, 8, 9, 10, 11, 12, 13, 14, 15, 16, 17, 18, 19, 20, 21, 22, 23, 24, 25, 26, 27, 28, 29, 30, 31, 32, 33, 34, 35, 36, 37, 38, 39, 40, 41, 42, 43, 44, 45, 46, 47, 48, 49, 50, 51, 52, 53, 54, 55, 56, 57, 58, 59, 60, 61, 62, 63, 64, 65, 66, 67, 68, 69, 70, 71, 72, 73, 74, 75, 76, 77, 78, 79, 80, 81, 82, 83, 84, 85, 86, 87, 88, 89, 90, 91, 92, 93, 94, 95, 96, 97, 98, 99, 100]\n",
      "74\n",
      "El número es más pequeño\n",
      "Prueba otra vez. Este es tu intento nº: 1\n",
      "El número es más grande\n",
      "Prueba otra vez. Este es tu intento nº: 2\n",
      "El número es más grande\n",
      "Prueba otra vez. Este es tu intento nº: 3\n",
      "El número es más pequeño\n",
      "Prueba otra vez. Este es tu intento nº: 4\n",
      "Ganaste en el intento número: 5\n"
     ]
    }
   ],
   "source": [
    "import random\n",
    "numeros = list(range(1, 101))\n",
    "print(numeros)\n",
    "numero_aleatorio = random.choice(numeros)\n",
    "print(numero_aleatorio)\n",
    "\n",
    "adivina = int(input(\"inserta aquí el número\"))\n",
    "intentos = 1\n",
    "\n",
    "\n",
    "while adivina != numero_aleatorio:\n",
    "    if numero_aleatorio < adivina:\n",
    "        print(\"El número es más pequeño\")\n",
    "    else:\n",
    "        print(\"El número es más grande\")\n",
    "    \n",
    "    print(\"Prueba otra vez. Este es tu intento nº:\", intentos)\n",
    "    intentos += 1\n",
    "    adivina = int(input(\"inserta aquí el número\"))\n",
    "\n",
    "if intentos == 1:\n",
    "    print(\"Ganaste en el primer intento\")\n",
    "else:\n",
    "    print(f\"Ganaste en el intento número: {intentos}\")\n"
   ]
  }
 ],
 "metadata": {
  "kernelspec": {
   "display_name": "base",
   "language": "python",
   "name": "python3"
  },
  "language_info": {
   "codemirror_mode": {
    "name": "ipython",
    "version": 3
   },
   "file_extension": ".py",
   "mimetype": "text/x-python",
   "name": "python",
   "nbconvert_exporter": "python",
   "pygments_lexer": "ipython3",
   "version": "3.12.7"
  }
 },
 "nbformat": 4,
 "nbformat_minor": 5
}
