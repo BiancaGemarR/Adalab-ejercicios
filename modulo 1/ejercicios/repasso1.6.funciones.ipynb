{
 "cells": [
  {
   "cell_type": "code",
   "execution_count": 8,
   "id": "0ec143c6",
   "metadata": {},
   "outputs": [],
   "source": [
    "cadena = 'Estan haciendo examen'\n",
    "diccionario = {}\n"
   ]
  },
  {
   "cell_type": "code",
   "execution_count": 9,
   "id": "1955264e",
   "metadata": {},
   "outputs": [],
   "source": [
    "diccionario['a'] = cadena.count('a')\n"
   ]
  },
  {
   "cell_type": "code",
   "execution_count": 10,
   "id": "c7cad959",
   "metadata": {},
   "outputs": [
    {
     "data": {
      "text/plain": [
       "{'a': 3}"
      ]
     },
     "execution_count": 10,
     "metadata": {},
     "output_type": "execute_result"
    }
   ],
   "source": [
    "diccionario"
   ]
  },
  {
   "cell_type": "code",
   "execution_count": null,
   "id": "066070d3",
   "metadata": {},
   "outputs": [
    {
     "data": {
      "text/plain": [
       "{'a': 3,\n",
       " 'E': 1,\n",
       " 's': 1,\n",
       " 't': 1,\n",
       " 'n': 3,\n",
       " ' ': 2,\n",
       " 'h': 1,\n",
       " 'c': 1,\n",
       " 'i': 1,\n",
       " 'e': 3,\n",
       " 'd': 1,\n",
       " 'o': 1,\n",
       " 'x': 1,\n",
       " 'm': 1}"
      ]
     },
     "execution_count": 12,
     "metadata": {},
     "output_type": "execute_result"
    }
   ],
   "source": [
    "for i in cadena:\n",
    "    diccionario[i] = cadena.count(i)\n",
    "    \n",
    "diccionario\n"
   ]
  },
  {
   "cell_type": "code",
   "execution_count": 14,
   "id": "eaebad6b",
   "metadata": {},
   "outputs": [
    {
     "data": {
      "text/plain": [
       "{'E': 1,\n",
       " 's': 1,\n",
       " 't': 1,\n",
       " 'a': 3,\n",
       " 'n': 3,\n",
       " 'h': 1,\n",
       " 'c': 1,\n",
       " 'i': 1,\n",
       " 'e': 3,\n",
       " 'd': 1,\n",
       " 'o': 1,\n",
       " 'x': 1,\n",
       " 'm': 1}"
      ]
     },
     "execution_count": 14,
     "metadata": {},
     "output_type": "execute_result"
    }
   ],
   "source": [
    "#primer ejercicio\n",
    "cadena = 'Estan haciendo examen'\n",
    "diccionario = {}\n",
    "def contar_letras(cadena):\n",
    "    for i in cadena:\n",
    "        if i != ' ':\n",
    "            diccionario[i] = cadena.count(i)\n",
    "            \n",
    "        else:\n",
    "            continue\n",
    "    return diccionario\n",
    "\n",
    "contar_letras(cadena)\n",
    "\n",
    "\n"
   ]
  },
  {
   "cell_type": "code",
   "execution_count": 15,
   "id": "da3b7547",
   "metadata": {},
   "outputs": [
    {
     "ename": "NameError",
     "evalue": "name 'word' is not defined",
     "output_type": "error",
     "traceback": [
      "\u001b[1;31m---------------------------------------------------------------------------\u001b[0m",
      "\u001b[1;31mNameError\u001b[0m                                 Traceback (most recent call last)",
      "Cell \u001b[1;32mIn[15], line 1\u001b[0m\n\u001b[1;32m----> 1\u001b[0m \u001b[38;5;28;01mif\u001b[39;00m \u001b[38;5;28mlen\u001b[39m(word) \u001b[38;5;241m>\u001b[39m \u001b[38;5;241m5\u001b[39m:\n\u001b[0;32m      2\u001b[0m     word\u001b[38;5;241m.\u001b[39mappend(list1)\n\u001b[0;32m      3\u001b[0m \u001b[38;5;28;01melse\u001b[39;00m:\n",
      "\u001b[1;31mNameError\u001b[0m: name 'word' is not defined"
     ]
    }
   ],
   "source": [
    "if len(word) > 5:\n",
    "    word.append(list1)\n",
    "else:\n",
    "    pass"
   ]
  },
  {
   "cell_type": "code",
   "execution_count": null,
   "id": "064c8716",
   "metadata": {},
   "outputs": [],
   "source": [
    "#segundo ejercicio de funciones\n",
    "cadena = 'el mejor fenomeno son las auroras boreales'\n",
    "\n",
    "def long_words(string):\n",
    "    cadena = string.split() #se usa el string.split() para que el programa entienda 'el', 'mejor', 'fenomeno', ...\n",
    "    list1 = []\n",
    "    for word in cadena:\n",
    "        if len(word) >= 5:\n",
    "            list1.append(word)\n",
    "        else:\n",
    "            pass\n",
    "    return list1\n",
    "\n"
   ]
  },
  {
   "cell_type": "code",
   "execution_count": 26,
   "id": "1cffdba1",
   "metadata": {},
   "outputs": [
    {
     "data": {
      "text/plain": [
       "['mejor', 'fenomeno', 'auroras', 'boreales']"
      ]
     },
     "execution_count": 26,
     "metadata": {},
     "output_type": "execute_result"
    }
   ],
   "source": [
    "long_words(cadena)"
   ]
  },
  {
   "cell_type": "markdown",
   "id": "937d5491",
   "metadata": {},
   "source": [
    "ejercicio 3 funciones"
   ]
  },
  {
   "cell_type": "code",
   "execution_count": 43,
   "id": "63775cd3",
   "metadata": {},
   "outputs": [],
   "source": [
    "lista2 = ['artemis', 'zeus', 'cupido', 'sol', 'pan']\n",
    "lista3 = []\n",
    "vocales = 'aeiou'\n",
    "vocales = vocales.split()\n"
   ]
  },
  {
   "cell_type": "code",
   "execution_count": 46,
   "id": "ac0c2bbf",
   "metadata": {},
   "outputs": [],
   "source": [
    "def contar_vocales(i):\n",
    "    for word in lista2:\n",
    "        contador_voc =0\n",
    "        if i in vocales:\n",
    "            contador_voc += 1\n",
    "            if contador_voc > 1:\n",
    "\n",
    "                lista3.append(word)\n",
    "        else:\n",
    "            pass\n",
    "        return lista3\n"
   ]
  },
  {
   "cell_type": "code",
   "execution_count": 47,
   "id": "3c01131c",
   "metadata": {},
   "outputs": [
    {
     "data": {
      "text/plain": [
       "[]"
      ]
     },
     "execution_count": 47,
     "metadata": {},
     "output_type": "execute_result"
    }
   ],
   "source": [
    "contar_vocales(lista3)"
   ]
  },
  {
   "cell_type": "code",
   "execution_count": null,
   "id": "56c2000d",
   "metadata": {},
   "outputs": [
    {
     "data": {
      "text/plain": [
       "['artemis', 'zeus', 'cupido']"
      ]
     },
     "execution_count": 59,
     "metadata": {},
     "output_type": "execute_result"
    }
   ],
   "source": [
    "#tercer ejercicio resuelto\n",
    "def contar_vocales(lista2):\n",
    "    lista3 = []\n",
    "\n",
    "    for word in lista2:\n",
    "        contador_voc = 0\n",
    "        for i in word:\n",
    "            if i in 'aeiou':\n",
    "                contador_voc += 1\n",
    "        if contador_voc > 1:\n",
    "                lista3.append(word)\n",
    "        else:\n",
    "            pass\n",
    "    return lista3\n",
    "    \n",
    "lista2 = ['artemis', 'zeus', 'cupido', 'sol', 'pan']\n",
    "vocales = 'aeiou'\n",
    "resultado = contar_vocales(lista2)\n",
    "contar_vocales(resultado)"
   ]
  },
  {
   "cell_type": "code",
   "execution_count": null,
   "id": "dddf9f1e",
   "metadata": {},
   "outputs": [],
   "source": [
    "lista_numbers = [1, 22, 33, 5 ,44, 6, 77, 88, 999]\n",
    "lista_pares = []\n",
    "\n",
    "if number % 2 = 0:\n",
    "    suma + = number\n",
    "\n",
    "else:\n",
    "    pass"
   ]
  },
  {
   "cell_type": "code",
   "execution_count": 60,
   "id": "cb210f76",
   "metadata": {},
   "outputs": [],
   "source": [
    "def suma_pares(number):\n",
    "    for number in lista_numbers:\n",
    "        if number % 2 == 0:\n",
    "            suma += number\n",
    "\n",
    "        else:\n",
    "            pass\n",
    "\n"
   ]
  },
  {
   "cell_type": "code",
   "execution_count": 72,
   "id": "b19cc3ab",
   "metadata": {},
   "outputs": [
    {
     "data": {
      "text/plain": [
       "160"
      ]
     },
     "execution_count": 72,
     "metadata": {},
     "output_type": "execute_result"
    }
   ],
   "source": [
    "# ejercicio 4 \n",
    "def suma_pares(number):\n",
    "    suma = 0\n",
    "    for number in lista_numbers:\n",
    "        if number % 2 == 0:\n",
    "            suma += number\n",
    "\n",
    "        else:\n",
    "            pass\n",
    "    return suma\n",
    "numbers = [1, 22, 33, 5 ,44, 6, 77, 88, 999]\n",
    "suma_pares(numbers)"
   ]
  },
  {
   "cell_type": "code",
   "execution_count": 77,
   "id": "d098a7d2",
   "metadata": {},
   "outputs": [
    {
     "data": {
      "text/plain": [
       "141.66666666666666"
      ]
     },
     "execution_count": 77,
     "metadata": {},
     "output_type": "execute_result"
    }
   ],
   "source": [
    "# ejercicio 5\n",
    "def promedio():\n",
    "    if len(numbers) != 0:\n",
    "        return sum(numbers)/ len(numbers)\n",
    "   \n",
    "numbers = [1, 22, 33, 5 ,44, 6, 77, 88, 999]\n",
    "\n",
    "promedio()\n"
   ]
  },
  {
   "cell_type": "code",
   "execution_count": 78,
   "id": "bbe63549",
   "metadata": {},
   "outputs": [
    {
     "data": {
      "text/plain": [
       "2013"
      ]
     },
     "execution_count": 78,
     "metadata": {},
     "output_type": "execute_result"
    }
   ],
   "source": [
    "def cumpleaños (año):\n",
    "    cada_año = año + 1\n",
    "    \n",
    "    while len(set(str(cada_año))) != 4:\n",
    "        cada_año += 1\n",
    "    return cada_año\n",
    "\n",
    "cumpleaños(1994)\n",
    "\n"
   ]
  },
  {
   "cell_type": "code",
   "execution_count": 79,
   "id": "dd2bc450",
   "metadata": {},
   "outputs": [
    {
     "ename": "NameError",
     "evalue": "name 'pasteles' is not defined",
     "output_type": "error",
     "traceback": [
      "\u001b[1;31m---------------------------------------------------------------------------\u001b[0m",
      "\u001b[1;31mNameError\u001b[0m                                 Traceback (most recent call last)",
      "Cell \u001b[1;32mIn[79], line 4\u001b[0m\n\u001b[0;32m      1\u001b[0m receta1 \u001b[38;5;241m=\u001b[39m {\u001b[38;5;124m'\u001b[39m\u001b[38;5;124mflour\u001b[39m\u001b[38;5;124m'\u001b[39m: \u001b[38;5;241m500\u001b[39m, \u001b[38;5;124m'\u001b[39m\u001b[38;5;124msugar\u001b[39m\u001b[38;5;124m'\u001b[39m: \u001b[38;5;241m200\u001b[39m, \u001b[38;5;124m'\u001b[39m\u001b[38;5;124meggs\u001b[39m\u001b[38;5;124m'\u001b[39m: \u001b[38;5;241m1\u001b[39m}\n\u001b[0;32m      2\u001b[0m ingredientes1 \u001b[38;5;241m=\u001b[39m {\u001b[38;5;124m'\u001b[39m\u001b[38;5;124mflour\u001b[39m\u001b[38;5;124m'\u001b[39m: \u001b[38;5;241m1200\u001b[39m, \u001b[38;5;124m'\u001b[39m\u001b[38;5;124msugar\u001b[39m\u001b[38;5;124m'\u001b[39m: \u001b[38;5;241m1200\u001b[39m, \u001b[38;5;124m'\u001b[39m\u001b[38;5;124meggs\u001b[39m\u001b[38;5;124m'\u001b[39m: \u001b[38;5;241m5\u001b[39m, \u001b[38;5;124m'\u001b[39m\u001b[38;5;124mmilk\u001b[39m\u001b[38;5;124m'\u001b[39m: \u001b[38;5;241m200\u001b[39m}\n\u001b[1;32m----> 4\u001b[0m pasteles(receta1, ingredientes1)\n",
      "\u001b[1;31mNameError\u001b[0m: name 'pasteles' is not defined"
     ]
    }
   ],
   "source": [
    "receta1 = {'flour': 500, 'sugar': 200, 'eggs': 1}\n",
    "ingredientes1 = {'flour': 1200, 'sugar': 1200, 'eggs': 5, 'milk': 200}\n",
    "\n",
    "pasteles(receta1, ingredientes1)    \n",
    "# output: con estos ingredientes solo puedo hacer 2 bizcochos"
   ]
  },
  {
   "cell_type": "code",
   "execution_count": null,
   "id": "74b0f8b1",
   "metadata": {},
   "outputs": [],
   "source": [
    "def pasteles(receta1,ingredientes1):\n",
    "    numero = []\n"
   ]
  },
  {
   "cell_type": "code",
   "execution_count": null,
   "id": "13889632",
   "metadata": {},
   "outputs": [],
   "source": [
    "for ingrediente in receta:\n",
    "    if ingrediente not in disponible:\n",
    "        return 0\n",
    "    else:\n",
    "        numero.append(disponible[ingrediente]//receta[ingrediente])\n",
    "return min(numero)\n",
    "\n"
   ]
  },
  {
   "cell_type": "code",
   "execution_count": 85,
   "id": "6d1e22b2",
   "metadata": {},
   "outputs": [],
   "source": [
    "def pasteles(receta, disponible):\n",
    "    numero = []\n",
    "    for ingrediente in receta:\n",
    "        if ingrediente not in disponible:\n",
    "            return 0\n",
    "        else:\n",
    "            numero.append(disponible[ingrediente]//receta[ingrediente])\n",
    "    return min(numero)\n",
    "\n",
    "receta1 = {'flour': 500, 'sugar': 200, 'eggs': 1}\n",
    "ingredientes1 = {'flour': 1200, 'sugar': 1200, 'eggs': 5, 'milk': 200}"
   ]
  },
  {
   "cell_type": "code",
   "execution_count": 86,
   "id": "3eb9f54f",
   "metadata": {},
   "outputs": [
    {
     "data": {
      "text/plain": [
       "2"
      ]
     },
     "execution_count": 86,
     "metadata": {},
     "output_type": "execute_result"
    }
   ],
   "source": [
    "pasteles(receta1, ingredientes1)"
   ]
  },
  {
   "cell_type": "markdown",
   "id": "8a1954a5",
   "metadata": {},
   "source": [
    "fibonacci"
   ]
  },
  {
   "cell_type": "code",
   "execution_count": 90,
   "id": "de98d2c6",
   "metadata": {},
   "outputs": [
    {
     "data": {
      "text/plain": [
       "[0, 1, 1, 2, 3, 5, 8, 13, 21, 34]"
      ]
     },
     "execution_count": 90,
     "metadata": {},
     "output_type": "execute_result"
    }
   ],
   "source": [
    "def fibonacci(n):\n",
    "    serie = [0, 1]\n",
    "    while len(serie) < n:\n",
    "        numero3 = serie[-1] + serie [-2]\n",
    "        serie.append(numero3)\n",
    "    return serie \n",
    "n = 10\n",
    "fibonacci(n)"
   ]
  }
 ],
 "metadata": {
  "kernelspec": {
   "display_name": "base",
   "language": "python",
   "name": "python3"
  },
  "language_info": {
   "codemirror_mode": {
    "name": "ipython",
    "version": 3
   },
   "file_extension": ".py",
   "mimetype": "text/x-python",
   "name": "python",
   "nbconvert_exporter": "python",
   "pygments_lexer": "ipython3",
   "version": "3.12.7"
  }
 },
 "nbformat": 4,
 "nbformat_minor": 5
}
