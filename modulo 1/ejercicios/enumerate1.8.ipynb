{
 "cells": [
  {
   "cell_type": "code",
   "execution_count": 10,
   "id": "74bb47e2",
   "metadata": {},
   "outputs": [],
   "source": [
    "frase = 'Formato: 2.5 kg, 3,7 kg, 15 kg'"
   ]
  },
  {
   "cell_type": "code",
   "execution_count": 11,
   "id": "c131fa5e",
   "metadata": {},
   "outputs": [
    {
     "name": "stdout",
     "output_type": "stream",
     "text": [
      "['Formato:', '2.5', 'kg,', '3,7', 'kg,', '15', 'kg']\n"
     ]
    }
   ],
   "source": [
    "lista_frase = frase.split()\n",
    "print(lista_frase)"
   ]
  },
  {
   "cell_type": "code",
   "execution_count": 13,
   "id": "14f224ca",
   "metadata": {},
   "outputs": [
    {
     "data": {
      "text/plain": [
       "2"
      ]
     },
     "execution_count": 13,
     "metadata": {},
     "output_type": "execute_result"
    }
   ],
   "source": [
    "lista_frase.index('kg,')"
   ]
  },
  {
   "cell_type": "code",
   "execution_count": 14,
   "id": "4d8594a3",
   "metadata": {},
   "outputs": [
    {
     "data": {
      "text/plain": [
       "'kg,'"
      ]
     },
     "execution_count": 14,
     "metadata": {},
     "output_type": "execute_result"
    }
   ],
   "source": [
    "lista_frase[2]"
   ]
  },
  {
   "cell_type": "code",
   "execution_count": 16,
   "id": "460cffb4",
   "metadata": {},
   "outputs": [
    {
     "data": {
      "text/plain": [
       "'2.5'"
      ]
     },
     "execution_count": 16,
     "metadata": {},
     "output_type": "execute_result"
    }
   ],
   "source": [
    "lista_frase[lista_frase.index('kg,')-1]"
   ]
  },
  {
   "cell_type": "code",
   "execution_count": 17,
   "id": "b3a3af6b",
   "metadata": {},
   "outputs": [
    {
     "name": "stdout",
     "output_type": "stream",
     "text": [
      "Formato:\n",
      "2.5\n",
      "kg,\n",
      "3,7\n",
      "kg,\n",
      "15\n",
      "kg\n"
     ]
    }
   ],
   "source": [
    "for elemento in lista_frase:\n",
    "    print(elemento)"
   ]
  },
  {
   "cell_type": "code",
   "execution_count": 18,
   "id": "85801b90",
   "metadata": {},
   "outputs": [
    {
     "name": "stdout",
     "output_type": "stream",
     "text": [
      "0   Formato:\n",
      "1   2.5\n",
      "2   kg,\n",
      "3   3,7\n",
      "4   kg,\n",
      "5   15\n",
      "6   kg\n"
     ]
    }
   ],
   "source": [
    "for ind, elemento in enumerate(lista_frase):\n",
    "    print(ind, ' ', elemento)"
   ]
  },
  {
   "cell_type": "code",
   "execution_count": 19,
   "id": "75deeafa",
   "metadata": {},
   "outputs": [
    {
     "data": {
      "text/plain": [
       "['2.5', '3,7', '15']"
      ]
     },
     "execution_count": 19,
     "metadata": {},
     "output_type": "execute_result"
    }
   ],
   "source": [
    "lista_frase[1::2]"
   ]
  },
  {
   "cell_type": "code",
   "execution_count": 28,
   "id": "0235640f",
   "metadata": {},
   "outputs": [
    {
     "name": "stdout",
     "output_type": "stream",
     "text": [
      "5 kg,\n",
      "15\n",
      "5 kg,\n",
      "15\n",
      "5 kg\n",
      "15\n"
     ]
    }
   ],
   "source": [
    "for elemento in lista_frase:\n",
    "    if elemento == 'kg' or elemento == 'kg,':\n",
    "        print(ind -1, elemento)\n",
    "        print(lista_frase[ind-1])\n",
    "  "
   ]
  }
 ],
 "metadata": {
  "kernelspec": {
   "display_name": "base",
   "language": "python",
   "name": "python3"
  },
  "language_info": {
   "codemirror_mode": {
    "name": "ipython",
    "version": 3
   },
   "file_extension": ".py",
   "mimetype": "text/x-python",
   "name": "python",
   "nbconvert_exporter": "python",
   "pygments_lexer": "ipython3",
   "version": "3.12.7"
  }
 },
 "nbformat": 4,
 "nbformat_minor": 5
}
