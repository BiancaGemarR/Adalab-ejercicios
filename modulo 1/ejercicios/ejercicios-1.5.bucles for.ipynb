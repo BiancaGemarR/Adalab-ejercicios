{
 "cells": [
  {
   "cell_type": "markdown",
   "id": "394a91fe",
   "metadata": {},
   "source": [
    "ejercicio 1\n"
   ]
  },
  {
   "cell_type": "code",
   "execution_count": 16,
   "id": "69cc0f0e",
   "metadata": {},
   "outputs": [
    {
     "name": "stdout",
     "output_type": "stream",
     "text": [
      "Las temperaturas medias son [12]\n",
      "Las temperaturas bajas son: [2, 1]\n",
      "Las temperaturas altas son: [45, 67, 23, 45, 66, 34, 67, 99, 98, 67, 64, 44, 100]\n"
     ]
    }
   ],
   "source": [
    "temperaturas = [2,45,67,23, 45,66,12,1,34,67,99,98,67,64, 44, 100]\n",
    "\n",
    "bajas_temp = []\n",
    "medias_temp = []\n",
    "altas_temp = []\n",
    "\n",
    "for numeros in temperaturas:\n",
    "    if 0 <= numeros <= 10 :\n",
    "        bajas_temp.append(numeros)\n",
    "    elif 11 <= numeros <= 20:\n",
    "        medias_temp.append(numeros)\n",
    "\n",
    "    else: \n",
    "        altas_temp.append(numeros)\n",
    "print(\"Las temperaturas medias son\", medias_temp)\n",
    "print(\"Las temperaturas bajas son:\", bajas_temp)\n",
    "print(\"Las temperaturas altas son:\", altas_temp)"
   ]
  },
  {
   "cell_type": "markdown",
   "id": "c9306d0a",
   "metadata": {},
   "source": [
    "ejercicio 2\n",
    "de grados centígrados a"
   ]
  },
  {
   "cell_type": "code",
   "execution_count": 30,
   "id": "65337a38",
   "metadata": {},
   "outputs": [
    {
     "name": "stdout",
     "output_type": "stream",
     "text": [
      "Las temperaturas bajas son: [35.6, 33.8]\n",
      "Las temperaturas medias son [53.6]\n",
      "Las temperaturas altas son: [113.0, 152.6, 73.4, 113.0, 150.8, 93.2, 152.6, 210.2, 208.4, 152.6, 147.2, 111.2, 212.0]\n"
     ]
    }
   ],
   "source": [
    "bajas_temp_F = [float(((c * 9)/5)+32) for c in bajas_temp]\n",
    "\n",
    "print(\"Las temperaturas bajas son:\", bajas_temp_F)\n",
    "\n",
    "medias_temp_F = [float(((c * 9)/5)+32) for c in medias_temp]\n",
    "print(\"Las temperaturas medias son\", medias_temp_F)\n",
    "\n",
    "altas_temp_f = [float(((c * 9)/5)+32) for c in altas_temp]\n",
    "print(\"Las temperaturas altas son:\", altas_temp_f)"
   ]
  },
  {
   "cell_type": "markdown",
   "id": "9abfbe53",
   "metadata": {},
   "source": [
    "3. Define e imprime un rango de 0 a 6 (excluido).\n"
   ]
  },
  {
   "cell_type": "code",
   "execution_count": 33,
   "id": "e0d83208",
   "metadata": {},
   "outputs": [
    {
     "name": "stdout",
     "output_type": "stream",
     "text": [
      "range(0, 6)\n",
      "0\n",
      "1\n",
      "2\n",
      "3\n",
      "4\n",
      "5\n"
     ]
    }
   ],
   "source": [
    "numeros = range (0,6)\n",
    "print(numeros)\n",
    "for x in range(6):\n",
    "    print(x)"
   ]
  },
  {
   "cell_type": "markdown",
   "id": "bca9ccd0",
   "metadata": {},
   "source": [
    "4. Define e imprime un rango de 3 a 6 ambos incluidos."
   ]
  },
  {
   "cell_type": "code",
   "execution_count": 37,
   "id": "92aa9a65",
   "metadata": {},
   "outputs": [
    {
     "name": "stdout",
     "output_type": "stream",
     "text": [
      "3\n",
      "4\n",
      "5\n",
      "6\n"
     ]
    }
   ],
   "source": [
    "\n",
    "for x in range(3,7):\n",
    "    print(x)"
   ]
  },
  {
   "cell_type": "markdown",
   "id": "3ca36fbf",
   "metadata": {},
   "source": [
    "5. Define e imprime un rango de 5 a 9 ambos excluidos."
   ]
  },
  {
   "cell_type": "markdown",
   "id": "2d2c1d10",
   "metadata": {},
   "source": []
  },
  {
   "cell_type": "code",
   "execution_count": 39,
   "id": "251b22f2",
   "metadata": {},
   "outputs": [
    {
     "name": "stdout",
     "output_type": "stream",
     "text": [
      "6\n",
      "7\n",
      "8\n"
     ]
    }
   ],
   "source": [
    "for x in range(6,9):\n",
    "    print(x)"
   ]
  },
  {
   "cell_type": "markdown",
   "id": "bf49d567",
   "metadata": {},
   "source": [
    "6. Define e imprime un rango de 3 números que empiece en 2."
   ]
  },
  {
   "cell_type": "code",
   "execution_count": 40,
   "id": "d7ac3126",
   "metadata": {},
   "outputs": [
    {
     "name": "stdout",
     "output_type": "stream",
     "text": [
      "20\n",
      "23\n",
      "26\n"
     ]
    }
   ],
   "source": [
    "for x in range(20,29,3):\n",
    "    print(x)"
   ]
  },
  {
   "cell_type": "markdown",
   "id": "2dff251c",
   "metadata": {},
   "source": [
    "7. Define e imprime un rango que empiece en 2, aumentando cada paso por 3, que pare antes de llegar al número 13"
   ]
  },
  {
   "cell_type": "code",
   "execution_count": 42,
   "id": "4c63fe19",
   "metadata": {},
   "outputs": [
    {
     "name": "stdout",
     "output_type": "stream",
     "text": [
      "2\n",
      "5\n",
      "8\n",
      "11\n"
     ]
    }
   ],
   "source": [
    "for x in range (2,14, 3):\n",
    "    print(x)"
   ]
  },
  {
   "cell_type": "markdown",
   "id": "700fc881",
   "metadata": {},
   "source": [
    "8. Define e imprime un rango con todos los valores impares que hay hasta 10."
   ]
  },
  {
   "cell_type": "code",
   "execution_count": 43,
   "id": "74865678",
   "metadata": {},
   "outputs": [
    {
     "name": "stdout",
     "output_type": "stream",
     "text": [
      "1\n",
      "3\n",
      "5\n",
      "7\n",
      "9\n"
     ]
    }
   ],
   "source": [
    "for x in range(1,10,2):\n",
    "    print(x)"
   ]
  },
  {
   "cell_type": "markdown",
   "id": "352b81d0",
   "metadata": {},
   "source": [
    "9.Crea una lista nueva donde tengamos los números de la lista temperaturas elevados al cuadrado."
   ]
  },
  {
   "cell_type": "code",
   "execution_count": 54,
   "id": "e30b6f5c",
   "metadata": {},
   "outputs": [
    {
     "name": "stdout",
     "output_type": "stream",
     "text": [
      "Nueva lista temp_cuadrado [4, 2025, 4489, 529, 2025, 4356, 144, 1, 1156, 4489, 9801, 9604, 4489, 4096, 1936, 10000]\n"
     ]
    }
   ],
   "source": [
    "temperaturas = [2,45,67,23, 45,66,12,1,34,67,99,98,67,64, 44, 100]\n",
    "temp_cuadrado = []\n",
    "for numeros in temperaturas:\n",
    "    temp_cuadrado.append(numeros**2)\n",
    "print(\"Nueva lista temp_cuadrado\", temp_cuadrado)"
   ]
  },
  {
   "cell_type": "markdown",
   "id": "2d24902e",
   "metadata": {},
   "source": [
    "10.Crea una lista nueva donde tengamos el resto de la división de cada uno de los números entre 2."
   ]
  },
  {
   "cell_type": "code",
   "execution_count": 5,
   "id": "e0f5153d",
   "metadata": {},
   "outputs": [
    {
     "name": "stdout",
     "output_type": "stream",
     "text": [
      "[0, 1, 1, 1, 1, 0, 0, 1, 0, 1, 1, 0, 1, 0, 0, 0]\n"
     ]
    }
   ],
   "source": [
    "temperaturas = [2,45,67,23, 45,66,12,1,34,67,99,98,67,64, 44, 100]\n",
    "residuos = []\n",
    "for numbers in temperaturas:\n",
    "    residuos.append(numbers % 2)\n",
    "print(residuos)"
   ]
  },
  {
   "cell_type": "markdown",
   "id": "42fee9fd",
   "metadata": {},
   "source": [
    "11. Crea una lista nueva donde tengamos solo los elementos pares de la lista temperaturas."
   ]
  },
  {
   "cell_type": "code",
   "execution_count": 11,
   "id": "fc3f4395",
   "metadata": {},
   "outputs": [
    {
     "name": "stdout",
     "output_type": "stream",
     "text": [
      "[2, 66, 12, 34, 98, 64, 44, 100]\n"
     ]
    }
   ],
   "source": [
    "temperaturas = [2,45,67,23, 45,66,12,1,34,67,99,98,67,64, 44, 100]\n",
    "pares = []\n",
    "for numbers in temperaturas:\n",
    "    if numbers % 2 ==0:\n",
    "        pares.append(numbers)\n",
    "print(pares)"
   ]
  },
  {
   "cell_type": "markdown",
   "id": "0a8cdfa2",
   "metadata": {},
   "source": [
    "12. Crea una lista nueva donde tengamos solo los elementos que sean menores que 50."
   ]
  },
  {
   "cell_type": "code",
   "execution_count": 15,
   "id": "021c1794",
   "metadata": {},
   "outputs": [
    {
     "name": "stdout",
     "output_type": "stream",
     "text": [
      "[2, 45, 23, 45, 12, 1, 34, 44]\n"
     ]
    }
   ],
   "source": [
    "temperaturas = [2,45,67,23, 45,66,12,1,34,67,99,98,67,64, 44, 100]\n",
    "menores = []\n",
    "for numbers in temperaturas:\n",
    "    if numbers <50:\n",
    "        menores.append(numbers)\n",
    "print(menores)"
   ]
  },
  {
   "cell_type": "markdown",
   "id": "f92e5dc0",
   "metadata": {},
   "source": [
    "13. Crea una lista donde tengamos los valores \"par\" e \"impar\" en función de los valores de la lista original. La lista resultante tiene que ser como la que indicamos a continuación:"
   ]
  },
  {
   "cell_type": "code",
   "execution_count": 23,
   "id": "e411b9d5",
   "metadata": {},
   "outputs": [
    {
     "name": "stdout",
     "output_type": "stream",
     "text": [
      "[8, 27, 37, 9, 93, 58, 92, 49, 88, 55, 39, 16, 97, 66, 0, 84]\n"
     ]
    }
   ],
   "source": [
    "import random\n",
    "lista_strings = [\"par\",\"impar\",\"impar\",\"impar\", \"impar\",\"par\",\"par\",\"impar\",\"par\",\"impar\",\"impar\",\"par\",\"impar\",\"par\", \"par\", \"par\"]\n",
    "lista_numbers = []\n",
    "for word in lista_strings:\n",
    "    if word == 'par':\n",
    "        num = random.choice(range(0, 101, 2))\n",
    "    else:\n",
    "        num = random.choice(range(1, 101, 2))\n",
    "    lista_numbers.append(num)\n",
    "print(lista_numbers)\n",
    "\n",
    "\n"
   ]
  },
  {
   "cell_type": "markdown",
   "id": "7f61c772",
   "metadata": {},
   "source": [
    "14. Pide al usuario un número entero positivo y suma los números pares e impares por separado hasta ese número."
   ]
  },
  {
   "cell_type": "code",
   "execution_count": 30,
   "id": "97c08794",
   "metadata": {},
   "outputs": [
    {
     "name": "stdout",
     "output_type": "stream",
     "text": [
      "22\n",
      "Suma pares 132\n",
      "Suma impares 121\n"
     ]
    }
   ],
   "source": [
    "numero = int(input('Inserta un número entero positivo'))\n",
    "print(numero)\n",
    "pares = 0\n",
    "impares = 0\n",
    "\n",
    "for x in range (1, numero + 1):\n",
    "    if x % 2 == 0:\n",
    "        pares += x\n",
    "    else:\n",
    "        impares += x\n",
    "\n",
    "print(\"Suma pares\", pares)\n",
    "print(\"Suma impares\", impares)\n",
    "\n"
   ]
  },
  {
   "cell_type": "markdown",
   "id": "58268333",
   "metadata": {},
   "source": [
    "15. Pide al usuario ingresar una cadena y cuenta cuántas veces aparece cada vocal (a, e, i, o, u) en la cadena."
   ]
  },
  {
   "cell_type": "code",
   "execution_count": 35,
   "id": "ed4e5fc0",
   "metadata": {},
   "outputs": [
    {
     "name": "stdout",
     "output_type": "stream",
     "text": [
      "au\n",
      "1\n",
      "0\n",
      "0\n",
      "0\n",
      "1\n"
     ]
    }
   ],
   "source": [
    "cadena = input('Inserta una frase')\n",
    "print(cadena)\n",
    "vocales = ['a', 'e', 'i', 'o', 'u']\n",
    "for vocal in vocales:\n",
    "    suma = cadena.count(vocal)\n",
    "    print(suma)"
   ]
  },
  {
   "cell_type": "markdown",
   "id": "fd369192",
   "metadata": {},
   "source": [
    "1. Crea una variable que sea igual a \"Python\" y genera un código que nos printee todas las letras menos la \"P\" usando la sentencia continue."
   ]
  },
  {
   "cell_type": "code",
   "execution_count": 39,
   "id": "38d3b6b3",
   "metadata": {},
   "outputs": [
    {
     "name": "stdout",
     "output_type": "stream",
     "text": [
      "y\n",
      "t\n",
      "h\n",
      "o\n",
      "n\n"
     ]
    }
   ],
   "source": [
    "text = 'Python'\n",
    "\n",
    "for letters in text:\n",
    "    if letters == 'P':\n",
    "        continue\n",
    "    else:\n",
    "    \n",
    "        print(letters)\n"
   ]
  },
  {
   "cell_type": "markdown",
   "id": "b7e7db6c",
   "metadata": {},
   "source": [
    "2. De la frase 'Hello' imprime todas las letras que no sean una 'l' usando if."
   ]
  },
  {
   "cell_type": "code",
   "execution_count": 41,
   "id": "82d36d25",
   "metadata": {},
   "outputs": [
    {
     "name": "stdout",
     "output_type": "stream",
     "text": [
      "H\n",
      "e\n",
      "error\n",
      "error\n",
      "o\n"
     ]
    }
   ],
   "source": [
    "frase = 'Hello'\n",
    "for letters in frase:\n",
    "    if letters != 'l':\n",
    "        print(letters)\n",
    "    else:\n",
    "        pass\n",
    "        print(\"error\")\n"
   ]
  },
  {
   "cell_type": "markdown",
   "id": "09ebaf39",
   "metadata": {},
   "source": [
    "3. Haz lo mismo que en 2 usando continue."
   ]
  },
  {
   "cell_type": "code",
   "execution_count": 42,
   "id": "206dbfb4",
   "metadata": {},
   "outputs": [
    {
     "name": "stdout",
     "output_type": "stream",
     "text": [
      "H\n",
      "e\n",
      "o\n"
     ]
    }
   ],
   "source": [
    "frase = 'Hello'\n",
    "for letters in frase:\n",
    "    if letters != 'l':\n",
    "        print(letters)\n",
    "    else:\n",
    "        continue\n",
    "        print(\"error\")"
   ]
  },
  {
   "cell_type": "markdown",
   "id": "d8574684",
   "metadata": {},
   "source": [
    "4. De la frase 'Hello' imprime todas las letras parando el bucle si encuentras una 'o'."
   ]
  },
  {
   "cell_type": "code",
   "execution_count": 43,
   "id": "34ce57be",
   "metadata": {},
   "outputs": [
    {
     "name": "stdout",
     "output_type": "stream",
     "text": [
      "H\n",
      "e\n",
      "l\n",
      "l\n"
     ]
    }
   ],
   "source": [
    "frase = 'Hello'\n",
    "for letters in frase:\n",
    "    if letters != 'o':\n",
    "        print(letters)\n",
    "    else:\n",
    "        break\n",
    "        print(\"error\")"
   ]
  },
  {
   "cell_type": "markdown",
   "id": "d45bafbe",
   "metadata": {},
   "source": [
    "5. Define la variable doce = '12' y seis = 6. Intenta sumarlos. En el caso de que te salga un error imprime '¡Un error!'. Para eso usa un try ... except"
   ]
  },
  {
   "cell_type": "code",
   "execution_count": 50,
   "id": "71171687",
   "metadata": {},
   "outputs": [
    {
     "name": "stdout",
     "output_type": "stream",
     "text": [
      "18\n"
     ]
    }
   ],
   "source": [
    "doce = '12'\n",
    "seis = 6\n",
    "try:\n",
    "    suma = int(doce + seis)\n",
    "    print(\"un error\")\n",
    "    \n",
    "except:\n",
    "    suma = int(doce) + seis\n",
    "    print(suma)"
   ]
  },
  {
   "cell_type": "markdown",
   "id": "499d5cb0",
   "metadata": {},
   "source": [
    "6. Basándonos en el ejercicio anterior, sin usar un try ... except, ¿cómo podríamos solucionar el problema?"
   ]
  },
  {
   "cell_type": "code",
   "execution_count": 5,
   "id": "dcb99562",
   "metadata": {},
   "outputs": [
    {
     "name": "stdout",
     "output_type": "stream",
     "text": [
      "18\n"
     ]
    }
   ],
   "source": [
    "doce = '12'\n",
    "seis = 6\n",
    "\n",
    "suma = int(doce) + seis\n",
    "print(suma)"
   ]
  },
  {
   "cell_type": "markdown",
   "id": "e356ce70",
   "metadata": {},
   "source": [
    "7. Solicita al usuario ingresar números enteros positivos hasta que ingrese un número negativo. Luego, muestra la suma de todos los números pares ingresados."
   ]
  },
  {
   "cell_type": "code",
   "execution_count": 15,
   "id": "1c2831ac",
   "metadata": {},
   "outputs": [
    {
     "name": "stdout",
     "output_type": "stream",
     "text": [
      "Suma de pares 6\n"
     ]
    }
   ],
   "source": [
    "\n",
    "pares = 0\n",
    "\n",
    "while True:\n",
    "    numbers = int(input('Ingreses números positivos')) \n",
    "    if numbers% 2 == 0:\n",
    "        pares += numbers\n",
    "    \n",
    "    elif numbers < 0:\n",
    "\n",
    "        break\n",
    "print(\"Suma de pares\", pares)"
   ]
  },
  {
   "cell_type": "markdown",
   "id": "84fc9101",
   "metadata": {},
   "source": [
    "8. Solicita al usuario ingresar dos números y muestra el resultado de dividir el primero por el segundo. Asegúrate de manejar la excepción si el segundo número es cero"
   ]
  },
  {
   "cell_type": "code",
   "execution_count": null,
   "id": "1eeba038",
   "metadata": {},
   "outputs": [
    {
     "name": "stdout",
     "output_type": "stream",
     "text": [
      "2.0\n",
      "0.0\n",
      "error\n",
      "0.625\n"
     ]
    }
   ],
   "source": [
    "num1 = float(input('Inserta un número'))\n",
    "print(num1)\n",
    "num2 = float(input('Inserta otro número'))\n",
    "print(num2)\n",
    "try:\n",
    "    resultado = num1 / num2\n",
    "    print(resultado)\n",
    "except:\n",
    "    num2 == 0\n",
    "    print(\"error\")\n",
    "    "
   ]
  },
  {
   "cell_type": "markdown",
   "id": "5c5ab66a",
   "metadata": {},
   "source": [
    "9. Solicita al usuario ingresar un número y muestra su raíz cuadrada. Maneja la excepción si el número es negativo"
   ]
  },
  {
   "cell_type": "code",
   "execution_count": 31,
   "id": "ec8ed87f",
   "metadata": {},
   "outputs": [
    {
     "name": "stdout",
     "output_type": "stream",
     "text": [
      "25.0\n"
     ]
    }
   ],
   "source": [
    "num1 = float(input('Inserta un número'))\n",
    "\n",
    "try:\n",
    "    raiz = num1**2\n",
    "    print(raiz)\n",
    "except:\n",
    "    num1 < 0\n",
    "    print(\"inserta el mismo número en positivo\")\n"
   ]
  },
  {
   "cell_type": "markdown",
   "id": "7d3218b8",
   "metadata": {},
   "source": [
    "10. Crea una lista de números y solicita al usuario ingresar un índice para acceder a un elemento de la lista. Maneja la excepción si el índice está fuera de rango."
   ]
  },
  {
   "cell_type": "code",
   "execution_count": 37,
   "id": "c14f9e81",
   "metadata": {},
   "outputs": [
    {
     "name": "stdout",
     "output_type": "stream",
     "text": [
      "11\n"
     ]
    }
   ],
   "source": [
    "lista_numeros = [11, 8, 22, 444, 2828, 777]\n",
    "\n",
    "try:\n",
    "    indice = int(input('inserta un índice aquí'))\n",
    "    print(lista_numeros[indice])\n",
    "except IndexError:\n",
    "    print(\"índice fuera de la lista\")"
   ]
  }
 ],
 "metadata": {
  "kernelspec": {
   "display_name": "base",
   "language": "python",
   "name": "python3"
  },
  "language_info": {
   "codemirror_mode": {
    "name": "ipython",
    "version": 3
   },
   "file_extension": ".py",
   "mimetype": "text/x-python",
   "name": "python",
   "nbconvert_exporter": "python",
   "pygments_lexer": "ipython3",
   "version": "3.12.7"
  }
 },
 "nbformat": 4,
 "nbformat_minor": 5
}
