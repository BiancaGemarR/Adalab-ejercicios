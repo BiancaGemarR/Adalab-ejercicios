{
 "cells": [
  {
   "cell_type": "markdown",
   "id": "394a91fe",
   "metadata": {},
   "source": [
    "ejercicio 1\n"
   ]
  },
  {
   "cell_type": "code",
   "execution_count": 16,
   "id": "69cc0f0e",
   "metadata": {},
   "outputs": [
    {
     "name": "stdout",
     "output_type": "stream",
     "text": [
      "Las temperaturas medias son [12]\n",
      "Las temperaturas bajas son: [2, 1]\n",
      "Las temperaturas altas son: [45, 67, 23, 45, 66, 34, 67, 99, 98, 67, 64, 44, 100]\n"
     ]
    }
   ],
   "source": [
    "temperaturas = [2,45,67,23, 45,66,12,1,34,67,99,98,67,64, 44, 100]\n",
    "\n",
    "bajas_temp = []\n",
    "medias_temp = []\n",
    "altas_temp = []\n",
    "\n",
    "for numeros in temperaturas:\n",
    "    if 0 <= numeros <= 10 :\n",
    "        bajas_temp.append(numeros)\n",
    "    elif 11 <= numeros <= 20:\n",
    "        medias_temp.append(numeros)\n",
    "\n",
    "    else: \n",
    "        altas_temp.append(numeros)\n",
    "print(\"Las temperaturas medias son\", medias_temp)\n",
    "print(\"Las temperaturas bajas son:\", bajas_temp)\n",
    "print(\"Las temperaturas altas son:\", altas_temp)"
   ]
  },
  {
   "cell_type": "markdown",
   "id": "c9306d0a",
   "metadata": {},
   "source": [
    "ejercicio 2\n",
    "de grados centígrados a"
   ]
  },
  {
   "cell_type": "code",
   "execution_count": 30,
   "id": "65337a38",
   "metadata": {},
   "outputs": [
    {
     "name": "stdout",
     "output_type": "stream",
     "text": [
      "Las temperaturas bajas son: [35.6, 33.8]\n",
      "Las temperaturas medias son [53.6]\n",
      "Las temperaturas altas son: [113.0, 152.6, 73.4, 113.0, 150.8, 93.2, 152.6, 210.2, 208.4, 152.6, 147.2, 111.2, 212.0]\n"
     ]
    }
   ],
   "source": [
    "bajas_temp_F = [float(((c * 9)/5)+32) for c in bajas_temp]\n",
    "\n",
    "print(\"Las temperaturas bajas son:\", bajas_temp_F)\n",
    "\n",
    "medias_temp_F = [float(((c * 9)/5)+32) for c in medias_temp]\n",
    "print(\"Las temperaturas medias son\", medias_temp_F)\n",
    "\n",
    "altas_temp_f = [float(((c * 9)/5)+32) for c in altas_temp]\n",
    "print(\"Las temperaturas altas son:\", altas_temp_f)"
   ]
  },
  {
   "cell_type": "markdown",
   "id": "9abfbe53",
   "metadata": {},
   "source": [
    "3. Define e imprime un rango de 0 a 6 (excluido).\n"
   ]
  },
  {
   "cell_type": "code",
   "execution_count": 33,
   "id": "e0d83208",
   "metadata": {},
   "outputs": [
    {
     "name": "stdout",
     "output_type": "stream",
     "text": [
      "range(0, 6)\n",
      "0\n",
      "1\n",
      "2\n",
      "3\n",
      "4\n",
      "5\n"
     ]
    }
   ],
   "source": [
    "numeros = range (0,6)\n",
    "print(numeros)\n",
    "for x in range(6):\n",
    "    print(x)"
   ]
  },
  {
   "cell_type": "markdown",
   "id": "bca9ccd0",
   "metadata": {},
   "source": [
    "4. Define e imprime un rango de 3 a 6 ambos incluidos."
   ]
  },
  {
   "cell_type": "code",
   "execution_count": 37,
   "id": "92aa9a65",
   "metadata": {},
   "outputs": [
    {
     "name": "stdout",
     "output_type": "stream",
     "text": [
      "3\n",
      "4\n",
      "5\n",
      "6\n"
     ]
    }
   ],
   "source": [
    "\n",
    "for x in range(3,7):\n",
    "    print(x)"
   ]
  },
  {
   "cell_type": "markdown",
   "id": "3ca36fbf",
   "metadata": {},
   "source": [
    "5. Define e imprime un rango de 5 a 9 ambos excluidos."
   ]
  },
  {
   "cell_type": "markdown",
   "id": "2d2c1d10",
   "metadata": {},
   "source": []
  },
  {
   "cell_type": "code",
   "execution_count": 39,
   "id": "251b22f2",
   "metadata": {},
   "outputs": [
    {
     "name": "stdout",
     "output_type": "stream",
     "text": [
      "6\n",
      "7\n",
      "8\n"
     ]
    }
   ],
   "source": [
    "for x in range(6,9):\n",
    "    print(x)"
   ]
  },
  {
   "cell_type": "markdown",
   "id": "bf49d567",
   "metadata": {},
   "source": [
    "6. Define e imprime un rango de 3 números que empiece en 2."
   ]
  },
  {
   "cell_type": "code",
   "execution_count": 40,
   "id": "d7ac3126",
   "metadata": {},
   "outputs": [
    {
     "name": "stdout",
     "output_type": "stream",
     "text": [
      "20\n",
      "23\n",
      "26\n"
     ]
    }
   ],
   "source": [
    "for x in range(20,29,3):\n",
    "    print(x)"
   ]
  },
  {
   "cell_type": "markdown",
   "id": "2dff251c",
   "metadata": {},
   "source": [
    "7. Define e imprime un rango que empiece en 2, aumentando cada paso por 3, que pare antes de llegar al número 13"
   ]
  },
  {
   "cell_type": "code",
   "execution_count": 42,
   "id": "4c63fe19",
   "metadata": {},
   "outputs": [
    {
     "name": "stdout",
     "output_type": "stream",
     "text": [
      "2\n",
      "5\n",
      "8\n",
      "11\n"
     ]
    }
   ],
   "source": [
    "for x in range (2,14, 3):\n",
    "    print(x)"
   ]
  },
  {
   "cell_type": "markdown",
   "id": "700fc881",
   "metadata": {},
   "source": [
    "8. Define e imprime un rango con todos los valores impares que hay hasta 10."
   ]
  },
  {
   "cell_type": "code",
   "execution_count": 43,
   "id": "74865678",
   "metadata": {},
   "outputs": [
    {
     "name": "stdout",
     "output_type": "stream",
     "text": [
      "1\n",
      "3\n",
      "5\n",
      "7\n",
      "9\n"
     ]
    }
   ],
   "source": [
    "for x in range(1,10,2):\n",
    "    print(x)"
   ]
  },
  {
   "cell_type": "markdown",
   "id": "352b81d0",
   "metadata": {},
   "source": [
    "9.Crea una lista nueva donde tengamos los números de la lista temperaturas elevados al cuadrado."
   ]
  },
  {
   "cell_type": "code",
   "execution_count": 54,
   "id": "e30b6f5c",
   "metadata": {},
   "outputs": [
    {
     "name": "stdout",
     "output_type": "stream",
     "text": [
      "Nueva lista temp_cuadrado [4, 2025, 4489, 529, 2025, 4356, 144, 1, 1156, 4489, 9801, 9604, 4489, 4096, 1936, 10000]\n"
     ]
    }
   ],
   "source": [
    "temperaturas = [2,45,67,23, 45,66,12,1,34,67,99,98,67,64, 44, 100]\n",
    "temp_cuadrado = []\n",
    "for numeros in temperaturas:\n",
    "    temp_cuadrado.append(numeros**2)\n",
    "print(\"Nueva lista temp_cuadrado\", temp_cuadrado)"
   ]
  }
 ],
 "metadata": {
  "kernelspec": {
   "display_name": "base",
   "language": "python",
   "name": "python3"
  },
  "language_info": {
   "codemirror_mode": {
    "name": "ipython",
    "version": 3
   },
   "file_extension": ".py",
   "mimetype": "text/x-python",
   "name": "python",
   "nbconvert_exporter": "python",
   "pygments_lexer": "ipython3",
   "version": "3.12.7"
  }
 },
 "nbformat": 4,
 "nbformat_minor": 5
}
